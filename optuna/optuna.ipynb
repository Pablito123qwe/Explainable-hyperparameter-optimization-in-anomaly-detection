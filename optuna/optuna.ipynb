{
 "cells": [
  {
   "cell_type": "code",
   "id": "initial_id",
   "metadata": {
    "collapsed": true
   },
   "source": [
    "import optuna\n",
    "\n",
    "\n",
    "study = optuna.create_study(\n",
    "    study_name=\"my_first_study\",\n",
    "    direction=\"minimize\",\n",
    "    storage=\"sqlite:///example.db\",\n",
    "    load_if_exists=True,\n",
    ")\n",
    "\n",
    "\n",
    "def objective(trial):\n",
    "    x = trial.suggest_float(\"x\", -10, 10)\n",
    "    return (x - 2) ** 2\n",
    "\n",
    "study.optimize(objective, n_trials=30)\n",
    "\n",
    "print(\"Baza danych stworzona ✅\")\n"
   ],
   "outputs": [],
   "execution_count": null
  },
  {
   "metadata": {},
   "cell_type": "code",
   "source": [
    "from optuna.visualization import plot_optimization_history\n",
    "plot_optimization_history(study)"
   ],
   "id": "744436e3951cbc36",
   "outputs": [],
   "execution_count": null
  },
  {
   "metadata": {
    "ExecuteTime": {
     "end_time": "2025-04-09T19:54:09.039969Z",
     "start_time": "2025-04-09T19:16:34.327547Z"
    }
   },
   "cell_type": "code",
   "source": [
    "import optuna\n",
    "from optuna.visualization import plot_optimization_history, plot_param_importances\n",
    "from anomalib.models import Patchcore\n",
    "from anomalib.data import MVTec\n",
    "from anomalib.engine import Engine\n",
    "path = \"/mnt/c/Users/pawel/Explainable-hyperparameter-optimization-in-anomaly-detection/datasets/MVTec\"\n",
    "train_batch_size = 2\n",
    "coreset_sampling_ratio = 0.1\n",
    "limit_train_batches = 3\n",
    "\n",
    "def objective(trial):\n",
    "    params = {\n",
    "        \"backbone\": trial.suggest_categorical(\"backbone\", [\"resnet18\", \"wide_resnet50_2\"]),\n",
    "        \"coreset_sampling_ratio\": trial.suggest_float(\"coreset_sampling_ratio\", 0.01, 0.5),\n",
    "        \"num_neighbors\": trial.suggest_int(\"num_neighbors\", 1, 100),\n",
    "    }\n",
    "\n",
    "\n",
    "    model = Patchcore(**params)\n",
    "    engine = Engine(max_epochs=1,\n",
    "        accelerator=\"cpu\",\n",
    "        limit_train_batches=limit_train_batches\n",
    "                    )\n",
    "\n",
    "\n",
    "    datamodule = MVTec(root=path, category=\"bottle\", train_batch_size=train_batch_size)\n",
    "\n",
    "\n",
    "    engine.fit(datamodule=datamodule, model=model)\n",
    "    metrics = engine.test(datamodule=datamodule, model=model)\n",
    "    print(metrics)\n",
    "    return metrics[0][\"image_AUROC\"]\n",
    "\n",
    "\n",
    "study = optuna.create_study(\n",
    "    direction=\"maximize\",\n",
    "    study_name=\"anomalib_patchcore_tuning\",\n",
    "    storage=\"sqlite:///anomalib3.db\",\n",
    "    load_if_exists=True,\n",
    ")\n",
    "\n",
    "\n",
    "study.optimize(objective, n_trials=10)\n",
    "\n",
    "\n",
    "print(\"Najlepszy trial:\")\n",
    "trial = study.best_trial\n",
    "print(f\"  AUROC: {trial.value}\")\n",
    "print(f\"  Parametry: {trial.params}\")\n",
    "\n",
    "\n",
    "plot_optimization_history(study).show()\n",
    "plot_param_importances(study).show()"
   ],
   "id": "72a2a55931a528cc",
   "outputs": [
    {
     "name": "stderr",
     "output_type": "stream",
     "text": [
      "[I 2025-04-09 21:16:34,873] A new study created in RDB with name: anomalib_patchcore_tuning\n",
      "INFO:anomalib.models.components.base.anomalib_module:Initializing Patchcore model.\n",
      "INFO:timm.models._builder:Loading pretrained weights from Hugging Face hub (timm/wide_resnet50_2.racm_in1k)\n",
      "INFO:timm.models._hub:[timm/wide_resnet50_2.racm_in1k] Safe alternative available for 'pytorch_model.bin' (as 'model.safetensors'). Loading weights using safetensors.\n",
      "INFO:timm.models._builder:Missing keys (fc.weight, fc.bias) discovered while loading pretrained weights. This is expected if model is being adapted.\n",
      "/tmp/ipykernel_13568/599406512.py:27: DeprecationWarning:\n",
      "\n",
      "MVTec is deprecated and will be removed in a future version. Please use MVTecAD instead.\n",
      "\n",
      "INFO:lightning_fabric.utilities.rank_zero:GPU available: False, used: False\n",
      "INFO:lightning_fabric.utilities.rank_zero:TPU available: False, using: 0 TPU cores\n",
      "INFO:lightning_fabric.utilities.rank_zero:HPU available: False, using: 0 HPUs\n",
      "INFO:anomalib.data.datamodules.image.mvtecad:Found the dataset.\n",
      "/home/pawel/.local/lib/python3.10/site-packages/lightning/pytorch/core/optimizer.py:183: UserWarning:\n",
      "\n",
      "`LightningModule.configure_optimizers` returned `None`, this fit will run with no optimizer\n",
      "\n",
      "\n",
      "  | Name           | Type           | Params | Mode \n",
      "----------------------------------------------------------\n",
      "0 | pre_processor  | PreProcessor   | 0      | train\n",
      "1 | post_processor | PostProcessor  | 0      | train\n",
      "2 | evaluator      | Evaluator      | 0      | train\n",
      "3 | model          | PatchcoreModel | 24.9 M | train\n",
      "----------------------------------------------------------\n",
      "24.9 M    Trainable params\n",
      "0         Non-trainable params\n",
      "24.9 M    Total params\n",
      "99.450    Total estimated model params size (MB)\n",
      "19        Modules in train mode\n",
      "174       Modules in eval mode\n"
     ]
    },
    {
     "data": {
      "text/plain": [
       "Training: |          | 0/? [00:00<?, ?it/s]"
      ],
      "application/vnd.jupyter.widget-view+json": {
       "version_major": 2,
       "version_minor": 0,
       "model_id": "9b0e4559a5c048dba3ac5a84a4eb916d"
      }
     },
     "metadata": {},
     "output_type": "display_data"
    },
    {
     "data": {
      "text/plain": [
       "Validation: |          | 0/? [00:00<?, ?it/s]"
      ],
      "application/vnd.jupyter.widget-view+json": {
       "version_major": 2,
       "version_minor": 0,
       "model_id": "acb881f1a59143139863c80117464941"
      }
     },
     "metadata": {},
     "output_type": "display_data"
    },
    {
     "name": "stderr",
     "output_type": "stream",
     "text": [
      "INFO:anomalib.models.image.patchcore.lightning_model:Aggregating the embedding extracted from the training set.\n",
      "INFO:anomalib.models.image.patchcore.lightning_model:Applying core-set subsampling to get the embedding.\n",
      "\n",
      "\n",
      "Selecting Coreset Indices.:   0%|          | 0/594 [00:00<?, ?it/s]\u001B[A\u001B[A\n",
      "\n",
      "Selecting Coreset Indices.:  13%|█▎        | 76/594 [00:00<00:00, 758.77it/s]\u001B[A\u001B[A\n",
      "\n",
      "Selecting Coreset Indices.:  26%|██▌       | 152/594 [00:00<00:00, 680.35it/s]\u001B[A\u001B[A\n",
      "\n",
      "Selecting Coreset Indices.:  40%|████      | 238/594 [00:00<00:00, 753.66it/s]\u001B[A\u001B[A\n",
      "\n",
      "Selecting Coreset Indices.:  53%|█████▎    | 315/594 [00:00<00:00, 701.84it/s]\u001B[A\u001B[A\n",
      "\n",
      "Selecting Coreset Indices.:  65%|██████▍   | 386/594 [00:00<00:00, 578.99it/s]\u001B[A\u001B[A\n",
      "\n",
      "Selecting Coreset Indices.:  75%|███████▌  | 447/594 [00:00<00:00, 575.38it/s]\u001B[A\u001B[A\n",
      "\n",
      "Selecting Coreset Indices.: 100%|██████████| 594/594 [00:00<00:00, 652.33it/s]\u001B[A\u001B[A\n",
      "INFO:lightning_fabric.utilities.rank_zero:`Trainer.fit` stopped: `max_epochs=1` reached.\n",
      "INFO:anomalib.callbacks.timer:Training took 17.03 seconds\n",
      "INFO:lightning_fabric.utilities.rank_zero:The following callbacks returned in `LightningModule.configure_callbacks` will override existing callbacks passed to Trainer: Evaluator, ImageVisualizer, PostProcessor, PreProcessor\n",
      "INFO:anomalib.data.datamodules.image.mvtecad:Found the dataset.\n"
     ]
    },
    {
     "data": {
      "text/plain": [
       "Testing: |          | 0/? [00:00<?, ?it/s]"
      ],
      "application/vnd.jupyter.widget-view+json": {
       "version_major": 2,
       "version_minor": 0,
       "model_id": "9ff1c7ff85e84205a0a7099dac518a78"
      }
     },
     "metadata": {},
     "output_type": "display_data"
    },
    {
     "name": "stderr",
     "output_type": "stream",
     "text": [
      "INFO:anomalib.callbacks.timer:Testing took 30.06969952583313 seconds\n",
      "Throughput (batch_size=32) : 2.760253720816 FPS\n"
     ]
    },
    {
     "data": {
      "text/plain": [
       "┏━━━━━━━━━━━━━━━━━━━━━━━━━━━┳━━━━━━━━━━━━━━━━━━━━━━━━━━━┓\n",
       "┃\u001B[1m \u001B[0m\u001B[1m       Test metric       \u001B[0m\u001B[1m \u001B[0m┃\u001B[1m \u001B[0m\u001B[1m      DataLoader 0       \u001B[0m\u001B[1m \u001B[0m┃\n",
       "┡━━━━━━━━━━━━━━━━━━━━━━━━━━━╇━━━━━━━━━━━━━━━━━━━━━━━━━━━┩\n",
       "│\u001B[36m \u001B[0m\u001B[36m       image_AUROC       \u001B[0m\u001B[36m \u001B[0m│\u001B[35m \u001B[0m\u001B[35m           1.0           \u001B[0m\u001B[35m \u001B[0m│\n",
       "│\u001B[36m \u001B[0m\u001B[36m      image_F1Score      \u001B[0m\u001B[36m \u001B[0m│\u001B[35m \u001B[0m\u001B[35m   0.9919999837875366    \u001B[0m\u001B[35m \u001B[0m│\n",
       "│\u001B[36m \u001B[0m\u001B[36m       pixel_AUROC       \u001B[0m\u001B[36m \u001B[0m│\u001B[35m \u001B[0m\u001B[35m   0.9808999300003052    \u001B[0m\u001B[35m \u001B[0m│\n",
       "│\u001B[36m \u001B[0m\u001B[36m      pixel_F1Score      \u001B[0m\u001B[36m \u001B[0m│\u001B[35m \u001B[0m\u001B[35m   0.7316226363182068    \u001B[0m\u001B[35m \u001B[0m│\n",
       "└───────────────────────────┴───────────────────────────┘\n"
      ],
      "text/html": [
       "<pre style=\"white-space:pre;overflow-x:auto;line-height:normal;font-family:Menlo,'DejaVu Sans Mono',consolas,'Courier New',monospace\">┏━━━━━━━━━━━━━━━━━━━━━━━━━━━┳━━━━━━━━━━━━━━━━━━━━━━━━━━━┓\n",
       "┃<span style=\"font-weight: bold\">        Test metric        </span>┃<span style=\"font-weight: bold\">       DataLoader 0        </span>┃\n",
       "┡━━━━━━━━━━━━━━━━━━━━━━━━━━━╇━━━━━━━━━━━━━━━━━━━━━━━━━━━┩\n",
       "│<span style=\"color: #008080; text-decoration-color: #008080\">        image_AUROC        </span>│<span style=\"color: #800080; text-decoration-color: #800080\">            1.0            </span>│\n",
       "│<span style=\"color: #008080; text-decoration-color: #008080\">       image_F1Score       </span>│<span style=\"color: #800080; text-decoration-color: #800080\">    0.9919999837875366     </span>│\n",
       "│<span style=\"color: #008080; text-decoration-color: #008080\">        pixel_AUROC        </span>│<span style=\"color: #800080; text-decoration-color: #800080\">    0.9808999300003052     </span>│\n",
       "│<span style=\"color: #008080; text-decoration-color: #008080\">       pixel_F1Score       </span>│<span style=\"color: #800080; text-decoration-color: #800080\">    0.7316226363182068     </span>│\n",
       "└───────────────────────────┴───────────────────────────┘\n",
       "</pre>\n"
      ]
     },
     "metadata": {},
     "output_type": "display_data"
    },
    {
     "name": "stderr",
     "output_type": "stream",
     "text": [
      "[I 2025-04-09 21:17:26,159] Trial 0 finished with value: 1.0 and parameters: {'backbone': 'wide_resnet50_2', 'coreset_sampling_ratio': 0.12644514780775395, 'num_neighbors': 60}. Best is trial 0 with value: 1.0.\n"
     ]
    },
    {
     "name": "stdout",
     "output_type": "stream",
     "text": [
      "[{'image_AUROC': 1.0, 'image_F1Score': 0.9919999837875366, 'pixel_AUROC': 0.9808999300003052, 'pixel_F1Score': 0.7316226363182068}]\n"
     ]
    },
    {
     "name": "stderr",
     "output_type": "stream",
     "text": [
      "INFO:anomalib.models.components.base.anomalib_module:Initializing Patchcore model.\n",
      "INFO:timm.models._builder:Loading pretrained weights from Hugging Face hub (timm/resnet18.a1_in1k)\n",
      "INFO:timm.models._hub:[timm/resnet18.a1_in1k] Safe alternative available for 'pytorch_model.bin' (as 'model.safetensors'). Loading weights using safetensors.\n",
      "INFO:timm.models._builder:Missing keys (fc.weight, fc.bias) discovered while loading pretrained weights. This is expected if model is being adapted.\n",
      "/tmp/ipykernel_13568/599406512.py:27: DeprecationWarning:\n",
      "\n",
      "MVTec is deprecated and will be removed in a future version. Please use MVTecAD instead.\n",
      "\n",
      "INFO:lightning_fabric.utilities.rank_zero:GPU available: False, used: False\n",
      "INFO:lightning_fabric.utilities.rank_zero:TPU available: False, using: 0 TPU cores\n",
      "INFO:lightning_fabric.utilities.rank_zero:HPU available: False, using: 0 HPUs\n",
      "INFO:anomalib.data.datamodules.image.mvtecad:Found the dataset.\n",
      "/home/pawel/.local/lib/python3.10/site-packages/lightning/pytorch/core/optimizer.py:183: UserWarning:\n",
      "\n",
      "`LightningModule.configure_optimizers` returned `None`, this fit will run with no optimizer\n",
      "\n",
      "\n",
      "  | Name           | Type           | Params | Mode \n",
      "----------------------------------------------------------\n",
      "0 | pre_processor  | PreProcessor   | 0      | train\n",
      "1 | post_processor | PostProcessor  | 0      | train\n",
      "2 | evaluator      | Evaluator      | 0      | train\n",
      "3 | model          | PatchcoreModel | 2.8 M  | train\n",
      "----------------------------------------------------------\n",
      "2.8 M     Trainable params\n",
      "0         Non-trainable params\n",
      "2.8 M     Total params\n",
      "11.131    Total estimated model params size (MB)\n",
      "19        Modules in train mode\n",
      "69        Modules in eval mode\n"
     ]
    },
    {
     "data": {
      "text/plain": [
       "Training: |          | 0/? [00:00<?, ?it/s]"
      ],
      "application/vnd.jupyter.widget-view+json": {
       "version_major": 2,
       "version_minor": 0,
       "model_id": "5ff37e34f0b0449393b1efaa1d3b3fb0"
      }
     },
     "metadata": {},
     "output_type": "display_data"
    },
    {
     "data": {
      "text/plain": [
       "Validation: |          | 0/? [00:00<?, ?it/s]"
      ],
      "application/vnd.jupyter.widget-view+json": {
       "version_major": 2,
       "version_minor": 0,
       "model_id": "7f2f01ac2c004d01bf0b182d743ccfb7"
      }
     },
     "metadata": {},
     "output_type": "display_data"
    },
    {
     "name": "stderr",
     "output_type": "stream",
     "text": [
      "INFO:anomalib.models.image.patchcore.lightning_model:Aggregating the embedding extracted from the training set.\n",
      "INFO:anomalib.models.image.patchcore.lightning_model:Applying core-set subsampling to get the embedding.\n",
      "\n",
      "\n",
      "Selecting Coreset Indices.:   0%|          | 0/1021 [00:00<?, ?it/s]\u001B[A\u001B[A\n",
      "\n",
      "Selecting Coreset Indices.:   2%|▏         | 17/1021 [00:00<00:05, 169.37it/s]\u001B[A\u001B[A\n",
      "\n",
      "Selecting Coreset Indices.:   6%|▌         | 62/1021 [00:00<00:02, 333.24it/s]\u001B[A\u001B[A\n",
      "\n",
      "Selecting Coreset Indices.:  10%|█         | 106/1021 [00:00<00:02, 326.23it/s]\u001B[A\u001B[A\n",
      "\n",
      "Selecting Coreset Indices.:  16%|█▌        | 160/1021 [00:00<00:02, 401.47it/s]\u001B[A\u001B[A\n",
      "\n",
      "Selecting Coreset Indices.:  20%|█▉        | 201/1021 [00:00<00:02, 397.20it/s]\u001B[A\u001B[A\n",
      "\n",
      "Selecting Coreset Indices.:  24%|██▍       | 244/1021 [00:00<00:01, 405.99it/s]\u001B[A\u001B[A\n",
      "\n",
      "Selecting Coreset Indices.:  29%|██▉       | 295/1021 [00:00<00:01, 437.68it/s]\u001B[A\u001B[A\n",
      "\n",
      "Selecting Coreset Indices.:  35%|███▌      | 359/1021 [00:00<00:01, 499.94it/s]\u001B[A\u001B[A\n",
      "\n",
      "Selecting Coreset Indices.:  40%|████      | 410/1021 [00:00<00:01, 497.71it/s]\u001B[A\u001B[A\n",
      "\n",
      "Selecting Coreset Indices.:  46%|████▌     | 472/1021 [00:01<00:01, 534.13it/s]\u001B[A\u001B[A\n",
      "\n",
      "Selecting Coreset Indices.:  52%|█████▏    | 526/1021 [00:01<00:00, 521.78it/s]\u001B[A\u001B[A\n",
      "\n",
      "Selecting Coreset Indices.:  57%|█████▋    | 579/1021 [00:01<00:00, 508.58it/s]\u001B[A\u001B[A\n",
      "\n",
      "Selecting Coreset Indices.:  62%|██████▏   | 631/1021 [00:01<00:00, 444.39it/s]\u001B[A\u001B[A\n",
      "\n",
      "Selecting Coreset Indices.:  67%|██████▋   | 682/1021 [00:01<00:00, 461.23it/s]\u001B[A\u001B[A\n",
      "\n",
      "Selecting Coreset Indices.:  71%|███████▏  | 730/1021 [00:01<00:00, 465.08it/s]\u001B[A\u001B[A\n",
      "\n",
      "Selecting Coreset Indices.:  77%|███████▋  | 784/1021 [00:01<00:00, 484.88it/s]\u001B[A\u001B[A\n",
      "\n",
      "Selecting Coreset Indices.:  82%|████████▏ | 834/1021 [00:01<00:00, 469.10it/s]\u001B[A\u001B[A\n",
      "\n",
      "Selecting Coreset Indices.:  86%|████████▋ | 882/1021 [00:01<00:00, 463.66it/s]\u001B[A\u001B[A\n",
      "\n",
      "Selecting Coreset Indices.:  91%|█████████ | 929/1021 [00:02<00:00, 442.85it/s]\u001B[A\u001B[A\n",
      "\n",
      "Selecting Coreset Indices.: 100%|██████████| 1021/1021 [00:02<00:00, 454.72it/s][A\u001B[A\n",
      "INFO:lightning_fabric.utilities.rank_zero:`Trainer.fit` stopped: `max_epochs=1` reached.\n",
      "INFO:anomalib.callbacks.timer:Training took 11.12 seconds\n",
      "INFO:lightning_fabric.utilities.rank_zero:The following callbacks returned in `LightningModule.configure_callbacks` will override existing callbacks passed to Trainer: Evaluator, ImageVisualizer, PostProcessor, PreProcessor\n",
      "INFO:anomalib.data.datamodules.image.mvtecad:Found the dataset.\n"
     ]
    },
    {
     "data": {
      "text/plain": [
       "Testing: |          | 0/? [00:00<?, ?it/s]"
      ],
      "application/vnd.jupyter.widget-view+json": {
       "version_major": 2,
       "version_minor": 0,
       "model_id": "8d31c8b57f8043aab7b128c06b97d2ec"
      }
     },
     "metadata": {},
     "output_type": "display_data"
    },
    {
     "name": "stderr",
     "output_type": "stream",
     "text": [
      "INFO:anomalib.callbacks.timer:Testing took 21.398422479629517 seconds\n",
      "Throughput (batch_size=32) : 3.8787906014573195 FPS\n"
     ]
    },
    {
     "data": {
      "text/plain": [
       "┏━━━━━━━━━━━━━━━━━━━━━━━━━━━┳━━━━━━━━━━━━━━━━━━━━━━━━━━━┓\n",
       "┃\u001B[1m \u001B[0m\u001B[1m       Test metric       \u001B[0m\u001B[1m \u001B[0m┃\u001B[1m \u001B[0m\u001B[1m      DataLoader 0       \u001B[0m\u001B[1m \u001B[0m┃\n",
       "┡━━━━━━━━━━━━━━━━━━━━━━━━━━━╇━━━━━━━━━━━━━━━━━━━━━━━━━━━┩\n",
       "│\u001B[36m \u001B[0m\u001B[36m       image_AUROC       \u001B[0m\u001B[36m \u001B[0m│\u001B[35m \u001B[0m\u001B[35m           1.0           \u001B[0m\u001B[35m \u001B[0m│\n",
       "│\u001B[36m \u001B[0m\u001B[36m      image_F1Score      \u001B[0m\u001B[36m \u001B[0m│\u001B[35m \u001B[0m\u001B[35m   0.9919999837875366    \u001B[0m\u001B[35m \u001B[0m│\n",
       "│\u001B[36m \u001B[0m\u001B[36m       pixel_AUROC       \u001B[0m\u001B[36m \u001B[0m│\u001B[35m \u001B[0m\u001B[35m   0.9715808629989624    \u001B[0m\u001B[35m \u001B[0m│\n",
       "│\u001B[36m \u001B[0m\u001B[36m      pixel_F1Score      \u001B[0m\u001B[36m \u001B[0m│\u001B[35m \u001B[0m\u001B[35m   0.6739518046379089    \u001B[0m\u001B[35m \u001B[0m│\n",
       "└───────────────────────────┴───────────────────────────┘\n"
      ],
      "text/html": [
       "<pre style=\"white-space:pre;overflow-x:auto;line-height:normal;font-family:Menlo,'DejaVu Sans Mono',consolas,'Courier New',monospace\">┏━━━━━━━━━━━━━━━━━━━━━━━━━━━┳━━━━━━━━━━━━━━━━━━━━━━━━━━━┓\n",
       "┃<span style=\"font-weight: bold\">        Test metric        </span>┃<span style=\"font-weight: bold\">       DataLoader 0        </span>┃\n",
       "┡━━━━━━━━━━━━━━━━━━━━━━━━━━━╇━━━━━━━━━━━━━━━━━━━━━━━━━━━┩\n",
       "│<span style=\"color: #008080; text-decoration-color: #008080\">        image_AUROC        </span>│<span style=\"color: #800080; text-decoration-color: #800080\">            1.0            </span>│\n",
       "│<span style=\"color: #008080; text-decoration-color: #008080\">       image_F1Score       </span>│<span style=\"color: #800080; text-decoration-color: #800080\">    0.9919999837875366     </span>│\n",
       "│<span style=\"color: #008080; text-decoration-color: #008080\">        pixel_AUROC        </span>│<span style=\"color: #800080; text-decoration-color: #800080\">    0.9715808629989624     </span>│\n",
       "│<span style=\"color: #008080; text-decoration-color: #008080\">       pixel_F1Score       </span>│<span style=\"color: #800080; text-decoration-color: #800080\">    0.6739518046379089     </span>│\n",
       "└───────────────────────────┴───────────────────────────┘\n",
       "</pre>\n"
      ]
     },
     "metadata": {},
     "output_type": "display_data"
    },
    {
     "name": "stderr",
     "output_type": "stream",
     "text": [
      "[I 2025-04-09 21:18:02,860] Trial 1 finished with value: 1.0 and parameters: {'backbone': 'resnet18', 'coreset_sampling_ratio': 0.21712682004946451, 'num_neighbors': 27}. Best is trial 0 with value: 1.0.\n"
     ]
    },
    {
     "name": "stdout",
     "output_type": "stream",
     "text": [
      "[{'image_AUROC': 1.0, 'image_F1Score': 0.9919999837875366, 'pixel_AUROC': 0.9715808629989624, 'pixel_F1Score': 0.6739518046379089}]\n"
     ]
    },
    {
     "name": "stderr",
     "output_type": "stream",
     "text": [
      "INFO:anomalib.models.components.base.anomalib_module:Initializing Patchcore model.\n",
      "INFO:timm.models._builder:Loading pretrained weights from Hugging Face hub (timm/wide_resnet50_2.racm_in1k)\n",
      "INFO:timm.models._hub:[timm/wide_resnet50_2.racm_in1k] Safe alternative available for 'pytorch_model.bin' (as 'model.safetensors'). Loading weights using safetensors.\n",
      "INFO:timm.models._builder:Missing keys (fc.weight, fc.bias) discovered while loading pretrained weights. This is expected if model is being adapted.\n",
      "/tmp/ipykernel_13568/599406512.py:27: DeprecationWarning:\n",
      "\n",
      "MVTec is deprecated and will be removed in a future version. Please use MVTecAD instead.\n",
      "\n",
      "INFO:lightning_fabric.utilities.rank_zero:GPU available: False, used: False\n",
      "INFO:lightning_fabric.utilities.rank_zero:TPU available: False, using: 0 TPU cores\n",
      "INFO:lightning_fabric.utilities.rank_zero:HPU available: False, using: 0 HPUs\n",
      "INFO:anomalib.data.datamodules.image.mvtecad:Found the dataset.\n",
      "/home/pawel/.local/lib/python3.10/site-packages/lightning/pytorch/core/optimizer.py:183: UserWarning:\n",
      "\n",
      "`LightningModule.configure_optimizers` returned `None`, this fit will run with no optimizer\n",
      "\n",
      "\n",
      "  | Name           | Type           | Params | Mode \n",
      "----------------------------------------------------------\n",
      "0 | pre_processor  | PreProcessor   | 0      | train\n",
      "1 | post_processor | PostProcessor  | 0      | train\n",
      "2 | evaluator      | Evaluator      | 0      | train\n",
      "3 | model          | PatchcoreModel | 24.9 M | train\n",
      "----------------------------------------------------------\n",
      "24.9 M    Trainable params\n",
      "0         Non-trainable params\n",
      "24.9 M    Total params\n",
      "99.450    Total estimated model params size (MB)\n",
      "19        Modules in train mode\n",
      "174       Modules in eval mode\n"
     ]
    },
    {
     "data": {
      "text/plain": [
       "Training: |          | 0/? [00:00<?, ?it/s]"
      ],
      "application/vnd.jupyter.widget-view+json": {
       "version_major": 2,
       "version_minor": 0,
       "model_id": "5e9de20e487348fb829146abfeb3aaf4"
      }
     },
     "metadata": {},
     "output_type": "display_data"
    },
    {
     "data": {
      "text/plain": [
       "Validation: |          | 0/? [00:00<?, ?it/s]"
      ],
      "application/vnd.jupyter.widget-view+json": {
       "version_major": 2,
       "version_minor": 0,
       "model_id": "489c43f77f4449fab4d604753b45531f"
      }
     },
     "metadata": {},
     "output_type": "display_data"
    },
    {
     "name": "stderr",
     "output_type": "stream",
     "text": [
      "INFO:anomalib.models.image.patchcore.lightning_model:Aggregating the embedding extracted from the training set.\n",
      "INFO:anomalib.models.image.patchcore.lightning_model:Applying core-set subsampling to get the embedding.\n",
      "\n",
      "\n",
      "Selecting Coreset Indices.:   0%|          | 0/1135 [00:00<?, ?it/s]\u001B[A\u001B[A\n",
      "\n",
      "Selecting Coreset Indices.:   2%|▏         | 27/1135 [00:00<00:04, 268.58it/s]\u001B[A\u001B[A\n",
      "\n",
      "Selecting Coreset Indices.:   5%|▍         | 54/1135 [00:00<00:05, 208.06it/s]\u001B[A\u001B[A\n",
      "\n",
      "Selecting Coreset Indices.:   7%|▋         | 76/1135 [00:00<00:06, 171.93it/s]\u001B[A\u001B[A\n",
      "\n",
      "Selecting Coreset Indices.:   8%|▊         | 95/1135 [00:00<00:05, 175.20it/s]\u001B[A\u001B[A\n",
      "\n",
      "Selecting Coreset Indices.:  11%|█         | 122/1135 [00:00<00:04, 203.92it/s]\u001B[A\u001B[A\n",
      "\n",
      "Selecting Coreset Indices.:  13%|█▎        | 144/1135 [00:00<00:05, 190.84it/s]\u001B[A\u001B[A\n",
      "\n",
      "Selecting Coreset Indices.:  15%|█▍        | 168/1135 [00:00<00:04, 203.52it/s]\u001B[A\u001B[A\n",
      "\n",
      "Selecting Coreset Indices.:  17%|█▋        | 195/1135 [00:00<00:04, 220.70it/s]\u001B[A\u001B[A\n",
      "\n",
      "Selecting Coreset Indices.:  19%|█▉        | 218/1135 [00:01<00:04, 200.51it/s]\u001B[A\u001B[A\n",
      "\n",
      "Selecting Coreset Indices.:  21%|██        | 239/1135 [00:01<00:04, 187.31it/s]\u001B[A\u001B[A\n",
      "\n",
      "Selecting Coreset Indices.:  23%|██▎       | 259/1135 [00:01<00:04, 178.28it/s]\u001B[A\u001B[A\n",
      "\n",
      "Selecting Coreset Indices.:  24%|██▍       | 278/1135 [00:01<00:04, 181.06it/s]\u001B[A\u001B[A\n",
      "\n",
      "Selecting Coreset Indices.:  26%|██▌       | 297/1135 [00:01<00:05, 153.79it/s]\u001B[A\u001B[A\n",
      "\n",
      "Selecting Coreset Indices.:  28%|██▊       | 314/1135 [00:01<00:05, 153.61it/s]\u001B[A\u001B[A\n",
      "\n",
      "Selecting Coreset Indices.:  31%|███       | 354/1135 [00:01<00:03, 215.90it/s]\u001B[A\u001B[A\n",
      "\n",
      "Selecting Coreset Indices.:  33%|███▎      | 379/1135 [00:01<00:03, 222.91it/s]\u001B[A\u001B[A\n",
      "\n",
      "Selecting Coreset Indices.:  36%|███▌      | 403/1135 [00:02<00:03, 226.55it/s]\u001B[A\u001B[A\n",
      "\n",
      "Selecting Coreset Indices.:  38%|███▊      | 434/1135 [00:02<00:02, 248.92it/s]\u001B[A\u001B[A\n",
      "\n",
      "Selecting Coreset Indices.:  41%|████      | 462/1135 [00:02<00:02, 255.62it/s]\u001B[A\u001B[A\n",
      "\n",
      "Selecting Coreset Indices.:  43%|████▎     | 489/1135 [00:02<00:02, 229.12it/s]\u001B[A\u001B[A\n",
      "\n",
      "Selecting Coreset Indices.:  45%|████▌     | 515/1135 [00:02<00:02, 235.41it/s]\u001B[A\u001B[A\n",
      "\n",
      "Selecting Coreset Indices.:  48%|████▊     | 541/1135 [00:02<00:02, 239.66it/s]\u001B[A\u001B[A\n",
      "\n",
      "Selecting Coreset Indices.:  51%|█████     | 581/1135 [00:02<00:01, 283.67it/s]\u001B[A\u001B[A\n",
      "\n",
      "Selecting Coreset Indices.:  54%|█████▍    | 611/1135 [00:02<00:01, 262.75it/s]\u001B[A\u001B[A\n",
      "\n",
      "Selecting Coreset Indices.:  56%|█████▋    | 639/1135 [00:02<00:01, 266.74it/s]\u001B[A\u001B[A\n",
      "\n",
      "Selecting Coreset Indices.:  59%|█████▉    | 667/1135 [00:03<00:01, 267.75it/s]\u001B[A\u001B[A\n",
      "\n",
      "Selecting Coreset Indices.:  61%|██████    | 695/1135 [00:03<00:01, 269.79it/s]\u001B[A\u001B[A\n",
      "\n",
      "Selecting Coreset Indices.:  64%|██████▍   | 727/1135 [00:03<00:01, 283.88it/s]\u001B[A\u001B[A\n",
      "\n",
      "Selecting Coreset Indices.:  67%|██████▋   | 756/1135 [00:03<00:01, 236.04it/s]\u001B[A\u001B[A\n",
      "\n",
      "Selecting Coreset Indices.:  69%|██████▉   | 782/1135 [00:03<00:01, 227.75it/s]\u001B[A\u001B[A\n",
      "\n",
      "Selecting Coreset Indices.:  72%|███████▏  | 820/1135 [00:03<00:01, 261.62it/s]\u001B[A\u001B[A\n",
      "\n",
      "Selecting Coreset Indices.:  75%|███████▌  | 855/1135 [00:03<00:00, 284.54it/s]\u001B[A\u001B[A\n",
      "\n",
      "Selecting Coreset Indices.:  78%|███████▊  | 890/1135 [00:03<00:00, 301.16it/s]\u001B[A\u001B[A\n",
      "\n",
      "Selecting Coreset Indices.:  81%|████████  | 922/1135 [00:03<00:00, 304.01it/s]\u001B[A\u001B[A\n",
      "\n",
      "Selecting Coreset Indices.:  84%|████████▍ | 954/1135 [00:04<00:00, 293.51it/s]\u001B[A\u001B[A\n",
      "\n",
      "Selecting Coreset Indices.:  88%|████████▊ | 994/1135 [00:04<00:00, 321.93it/s]\u001B[A\u001B[A\n",
      "\n",
      "Selecting Coreset Indices.:  91%|█████████ | 1032/1135 [00:04<00:00, 338.03it/s]\u001B[A\u001B[A\n",
      "\n",
      "Selecting Coreset Indices.:  94%|█████████▍| 1067/1135 [00:04<00:00, 340.50it/s]\u001B[A\u001B[A\n",
      "\n",
      "Selecting Coreset Indices.: 100%|██████████| 1135/1135 [00:04<00:00, 246.98it/s]\u001B[A\u001B[A\n",
      "INFO:lightning_fabric.utilities.rank_zero:`Trainer.fit` stopped: `max_epochs=1` reached.\n",
      "INFO:anomalib.callbacks.timer:Training took 26.50 seconds\n",
      "INFO:lightning_fabric.utilities.rank_zero:The following callbacks returned in `LightningModule.configure_callbacks` will override existing callbacks passed to Trainer: Evaluator, ImageVisualizer, PostProcessor, PreProcessor\n",
      "INFO:anomalib.data.datamodules.image.mvtecad:Found the dataset.\n"
     ]
    },
    {
     "data": {
      "text/plain": [
       "Testing: |          | 0/? [00:00<?, ?it/s]"
      ],
      "application/vnd.jupyter.widget-view+json": {
       "version_major": 2,
       "version_minor": 0,
       "model_id": "8d5be75b85054d50a5894cf520daec79"
      }
     },
     "metadata": {},
     "output_type": "display_data"
    },
    {
     "name": "stderr",
     "output_type": "stream",
     "text": [
      "INFO:anomalib.callbacks.timer:Testing took 34.59391236305237 seconds\n",
      "Throughput (batch_size=32) : 2.399266065339496 FPS\n"
     ]
    },
    {
     "data": {
      "text/plain": [
       "┏━━━━━━━━━━━━━━━━━━━━━━━━━━━┳━━━━━━━━━━━━━━━━━━━━━━━━━━━┓\n",
       "┃\u001B[1m \u001B[0m\u001B[1m       Test metric       \u001B[0m\u001B[1m \u001B[0m┃\u001B[1m \u001B[0m\u001B[1m      DataLoader 0       \u001B[0m\u001B[1m \u001B[0m┃\n",
       "┡━━━━━━━━━━━━━━━━━━━━━━━━━━━╇━━━━━━━━━━━━━━━━━━━━━━━━━━━┩\n",
       "│\u001B[36m \u001B[0m\u001B[36m       image_AUROC       \u001B[0m\u001B[36m \u001B[0m│\u001B[35m \u001B[0m\u001B[35m           1.0           \u001B[0m\u001B[35m \u001B[0m│\n",
       "│\u001B[36m \u001B[0m\u001B[36m      image_F1Score      \u001B[0m\u001B[36m \u001B[0m│\u001B[35m \u001B[0m\u001B[35m   0.9919999837875366    \u001B[0m\u001B[35m \u001B[0m│\n",
       "│\u001B[36m \u001B[0m\u001B[36m       pixel_AUROC       \u001B[0m\u001B[36m \u001B[0m│\u001B[35m \u001B[0m\u001B[35m   0.9805341362953186    \u001B[0m\u001B[35m \u001B[0m│\n",
       "│\u001B[36m \u001B[0m\u001B[36m      pixel_F1Score      \u001B[0m\u001B[36m \u001B[0m│\u001B[35m \u001B[0m\u001B[35m   0.7277066707611084    \u001B[0m\u001B[35m \u001B[0m│\n",
       "└───────────────────────────┴───────────────────────────┘\n"
      ],
      "text/html": [
       "<pre style=\"white-space:pre;overflow-x:auto;line-height:normal;font-family:Menlo,'DejaVu Sans Mono',consolas,'Courier New',monospace\">┏━━━━━━━━━━━━━━━━━━━━━━━━━━━┳━━━━━━━━━━━━━━━━━━━━━━━━━━━┓\n",
       "┃<span style=\"font-weight: bold\">        Test metric        </span>┃<span style=\"font-weight: bold\">       DataLoader 0        </span>┃\n",
       "┡━━━━━━━━━━━━━━━━━━━━━━━━━━━╇━━━━━━━━━━━━━━━━━━━━━━━━━━━┩\n",
       "│<span style=\"color: #008080; text-decoration-color: #008080\">        image_AUROC        </span>│<span style=\"color: #800080; text-decoration-color: #800080\">            1.0            </span>│\n",
       "│<span style=\"color: #008080; text-decoration-color: #008080\">       image_F1Score       </span>│<span style=\"color: #800080; text-decoration-color: #800080\">    0.9919999837875366     </span>│\n",
       "│<span style=\"color: #008080; text-decoration-color: #008080\">        pixel_AUROC        </span>│<span style=\"color: #800080; text-decoration-color: #800080\">    0.9805341362953186     </span>│\n",
       "│<span style=\"color: #008080; text-decoration-color: #008080\">       pixel_F1Score       </span>│<span style=\"color: #800080; text-decoration-color: #800080\">    0.7277066707611084     </span>│\n",
       "└───────────────────────────┴───────────────────────────┘\n",
       "</pre>\n"
      ]
     },
     "metadata": {},
     "output_type": "display_data"
    },
    {
     "name": "stderr",
     "output_type": "stream",
     "text": [
      "[I 2025-04-09 21:19:08,462] Trial 2 finished with value: 1.0 and parameters: {'backbone': 'wide_resnet50_2', 'coreset_sampling_ratio': 0.2414857772300023, 'num_neighbors': 7}. Best is trial 0 with value: 1.0.\n"
     ]
    },
    {
     "name": "stdout",
     "output_type": "stream",
     "text": [
      "[{'image_AUROC': 1.0, 'image_F1Score': 0.9919999837875366, 'pixel_AUROC': 0.9805341362953186, 'pixel_F1Score': 0.7277066707611084}]\n"
     ]
    },
    {
     "name": "stderr",
     "output_type": "stream",
     "text": [
      "INFO:anomalib.models.components.base.anomalib_module:Initializing Patchcore model.\n",
      "INFO:timm.models._builder:Loading pretrained weights from Hugging Face hub (timm/wide_resnet50_2.racm_in1k)\n",
      "INFO:timm.models._hub:[timm/wide_resnet50_2.racm_in1k] Safe alternative available for 'pytorch_model.bin' (as 'model.safetensors'). Loading weights using safetensors.\n",
      "INFO:timm.models._builder:Missing keys (fc.weight, fc.bias) discovered while loading pretrained weights. This is expected if model is being adapted.\n",
      "/tmp/ipykernel_13568/599406512.py:27: DeprecationWarning:\n",
      "\n",
      "MVTec is deprecated and will be removed in a future version. Please use MVTecAD instead.\n",
      "\n",
      "INFO:lightning_fabric.utilities.rank_zero:GPU available: False, used: False\n",
      "INFO:lightning_fabric.utilities.rank_zero:TPU available: False, using: 0 TPU cores\n",
      "INFO:lightning_fabric.utilities.rank_zero:HPU available: False, using: 0 HPUs\n",
      "INFO:anomalib.data.datamodules.image.mvtecad:Found the dataset.\n",
      "/home/pawel/.local/lib/python3.10/site-packages/lightning/pytorch/core/optimizer.py:183: UserWarning:\n",
      "\n",
      "`LightningModule.configure_optimizers` returned `None`, this fit will run with no optimizer\n",
      "\n",
      "\n",
      "  | Name           | Type           | Params | Mode \n",
      "----------------------------------------------------------\n",
      "0 | pre_processor  | PreProcessor   | 0      | train\n",
      "1 | post_processor | PostProcessor  | 0      | train\n",
      "2 | evaluator      | Evaluator      | 0      | train\n",
      "3 | model          | PatchcoreModel | 24.9 M | train\n",
      "----------------------------------------------------------\n",
      "24.9 M    Trainable params\n",
      "0         Non-trainable params\n",
      "24.9 M    Total params\n",
      "99.450    Total estimated model params size (MB)\n",
      "19        Modules in train mode\n",
      "174       Modules in eval mode\n"
     ]
    },
    {
     "data": {
      "text/plain": [
       "Training: |          | 0/? [00:00<?, ?it/s]"
      ],
      "application/vnd.jupyter.widget-view+json": {
       "version_major": 2,
       "version_minor": 0,
       "model_id": "80c24fadad884f268d5fa574dd9c52f8"
      }
     },
     "metadata": {},
     "output_type": "display_data"
    },
    {
     "data": {
      "text/plain": [
       "Validation: |          | 0/? [00:00<?, ?it/s]"
      ],
      "application/vnd.jupyter.widget-view+json": {
       "version_major": 2,
       "version_minor": 0,
       "model_id": "2b88bb4baa8e48668a7f81c74da37415"
      }
     },
     "metadata": {},
     "output_type": "display_data"
    },
    {
     "name": "stderr",
     "output_type": "stream",
     "text": [
      "INFO:anomalib.models.image.patchcore.lightning_model:Aggregating the embedding extracted from the training set.\n",
      "INFO:anomalib.models.image.patchcore.lightning_model:Applying core-set subsampling to get the embedding.\n",
      "\n",
      "\n",
      "Selecting Coreset Indices.:   0%|          | 0/326 [00:00<?, ?it/s]\u001B[A\u001B[A\n",
      "\n",
      "Selecting Coreset Indices.:   7%|▋         | 23/326 [00:00<00:01, 226.72it/s]\u001B[A\u001B[A\n",
      "\n",
      "Selecting Coreset Indices.:  15%|█▌        | 49/326 [00:00<00:01, 245.55it/s]\u001B[A\u001B[A\n",
      "\n",
      "Selecting Coreset Indices.:  25%|██▌       | 83/326 [00:00<00:00, 286.16it/s]\u001B[A\u001B[A\n",
      "\n",
      "Selecting Coreset Indices.:  34%|███▍      | 112/326 [00:00<00:00, 282.06it/s]\u001B[A\u001B[A\n",
      "\n",
      "Selecting Coreset Indices.:  43%|████▎     | 141/326 [00:00<00:00, 279.14it/s]\u001B[A\u001B[A\n",
      "\n",
      "Selecting Coreset Indices.:  52%|█████▏    | 169/326 [00:00<00:00, 272.43it/s]\u001B[A\u001B[A\n",
      "\n",
      "Selecting Coreset Indices.:  60%|██████    | 197/326 [00:00<00:00, 267.96it/s]\u001B[A\u001B[A\n",
      "\n",
      "Selecting Coreset Indices.:  70%|███████   | 229/326 [00:00<00:00, 282.01it/s]\u001B[A\u001B[A\n",
      "\n",
      "Selecting Coreset Indices.:  83%|████████▎ | 272/326 [00:00<00:00, 316.65it/s]\u001B[A\u001B[A\n",
      "\n",
      "Selecting Coreset Indices.: 100%|██████████| 326/326 [00:01<00:00, 281.99it/s]\u001B[A\u001B[A\n",
      "INFO:lightning_fabric.utilities.rank_zero:`Trainer.fit` stopped: `max_epochs=1` reached.\n",
      "INFO:anomalib.callbacks.timer:Training took 22.44 seconds\n",
      "INFO:lightning_fabric.utilities.rank_zero:The following callbacks returned in `LightningModule.configure_callbacks` will override existing callbacks passed to Trainer: Evaluator, ImageVisualizer, PostProcessor, PreProcessor\n",
      "INFO:anomalib.data.datamodules.image.mvtecad:Found the dataset.\n"
     ]
    },
    {
     "data": {
      "text/plain": [
       "Testing: |          | 0/? [00:00<?, ?it/s]"
      ],
      "application/vnd.jupyter.widget-view+json": {
       "version_major": 2,
       "version_minor": 0,
       "model_id": "e2c2eb9925504803a369be51443e6967"
      }
     },
     "metadata": {},
     "output_type": "display_data"
    },
    {
     "name": "stderr",
     "output_type": "stream",
     "text": [
      "INFO:anomalib.callbacks.timer:Testing took 33.570154905319214 seconds\n",
      "Throughput (batch_size=32) : 2.472434227190551 FPS\n"
     ]
    },
    {
     "data": {
      "text/plain": [
       "┏━━━━━━━━━━━━━━━━━━━━━━━━━━━┳━━━━━━━━━━━━━━━━━━━━━━━━━━━┓\n",
       "┃\u001B[1m \u001B[0m\u001B[1m       Test metric       \u001B[0m\u001B[1m \u001B[0m┃\u001B[1m \u001B[0m\u001B[1m      DataLoader 0       \u001B[0m\u001B[1m \u001B[0m┃\n",
       "┡━━━━━━━━━━━━━━━━━━━━━━━━━━━╇━━━━━━━━━━━━━━━━━━━━━━━━━━━┩\n",
       "│\u001B[36m \u001B[0m\u001B[36m       image_AUROC       \u001B[0m\u001B[36m \u001B[0m│\u001B[35m \u001B[0m\u001B[35m           1.0           \u001B[0m\u001B[35m \u001B[0m│\n",
       "│\u001B[36m \u001B[0m\u001B[36m      image_F1Score      \u001B[0m\u001B[36m \u001B[0m│\u001B[35m \u001B[0m\u001B[35m   0.9919999837875366    \u001B[0m\u001B[35m \u001B[0m│\n",
       "│\u001B[36m \u001B[0m\u001B[36m       pixel_AUROC       \u001B[0m\u001B[36m \u001B[0m│\u001B[35m \u001B[0m\u001B[35m   0.9809191226959229    \u001B[0m\u001B[35m \u001B[0m│\n",
       "│\u001B[36m \u001B[0m\u001B[36m      pixel_F1Score      \u001B[0m\u001B[36m \u001B[0m│\u001B[35m \u001B[0m\u001B[35m   0.7314464449882507    \u001B[0m\u001B[35m \u001B[0m│\n",
       "└───────────────────────────┴───────────────────────────┘\n"
      ],
      "text/html": [
       "<pre style=\"white-space:pre;overflow-x:auto;line-height:normal;font-family:Menlo,'DejaVu Sans Mono',consolas,'Courier New',monospace\">┏━━━━━━━━━━━━━━━━━━━━━━━━━━━┳━━━━━━━━━━━━━━━━━━━━━━━━━━━┓\n",
       "┃<span style=\"font-weight: bold\">        Test metric        </span>┃<span style=\"font-weight: bold\">       DataLoader 0        </span>┃\n",
       "┡━━━━━━━━━━━━━━━━━━━━━━━━━━━╇━━━━━━━━━━━━━━━━━━━━━━━━━━━┩\n",
       "│<span style=\"color: #008080; text-decoration-color: #008080\">        image_AUROC        </span>│<span style=\"color: #800080; text-decoration-color: #800080\">            1.0            </span>│\n",
       "│<span style=\"color: #008080; text-decoration-color: #008080\">       image_F1Score       </span>│<span style=\"color: #800080; text-decoration-color: #800080\">    0.9919999837875366     </span>│\n",
       "│<span style=\"color: #008080; text-decoration-color: #008080\">        pixel_AUROC        </span>│<span style=\"color: #800080; text-decoration-color: #800080\">    0.9809191226959229     </span>│\n",
       "│<span style=\"color: #008080; text-decoration-color: #008080\">       pixel_F1Score       </span>│<span style=\"color: #800080; text-decoration-color: #800080\">    0.7314464449882507     </span>│\n",
       "└───────────────────────────┴───────────────────────────┘\n",
       "</pre>\n"
      ]
     },
     "metadata": {},
     "output_type": "display_data"
    },
    {
     "name": "stderr",
     "output_type": "stream",
     "text": [
      "[I 2025-04-09 21:20:08,779] Trial 3 finished with value: 1.0 and parameters: {'backbone': 'wide_resnet50_2', 'coreset_sampling_ratio': 0.06950522818649377, 'num_neighbors': 54}. Best is trial 0 with value: 1.0.\n"
     ]
    },
    {
     "name": "stdout",
     "output_type": "stream",
     "text": [
      "[{'image_AUROC': 1.0, 'image_F1Score': 0.9919999837875366, 'pixel_AUROC': 0.9809191226959229, 'pixel_F1Score': 0.7314464449882507}]\n"
     ]
    },
    {
     "name": "stderr",
     "output_type": "stream",
     "text": [
      "INFO:anomalib.models.components.base.anomalib_module:Initializing Patchcore model.\n",
      "INFO:timm.models._builder:Loading pretrained weights from Hugging Face hub (timm/resnet18.a1_in1k)\n",
      "INFO:timm.models._hub:[timm/resnet18.a1_in1k] Safe alternative available for 'pytorch_model.bin' (as 'model.safetensors'). Loading weights using safetensors.\n",
      "INFO:timm.models._builder:Missing keys (fc.weight, fc.bias) discovered while loading pretrained weights. This is expected if model is being adapted.\n",
      "/tmp/ipykernel_13568/599406512.py:27: DeprecationWarning:\n",
      "\n",
      "MVTec is deprecated and will be removed in a future version. Please use MVTecAD instead.\n",
      "\n",
      "INFO:lightning_fabric.utilities.rank_zero:GPU available: False, used: False\n",
      "INFO:lightning_fabric.utilities.rank_zero:TPU available: False, using: 0 TPU cores\n",
      "INFO:lightning_fabric.utilities.rank_zero:HPU available: False, using: 0 HPUs\n",
      "INFO:anomalib.data.datamodules.image.mvtecad:Found the dataset.\n",
      "/home/pawel/.local/lib/python3.10/site-packages/lightning/pytorch/core/optimizer.py:183: UserWarning:\n",
      "\n",
      "`LightningModule.configure_optimizers` returned `None`, this fit will run with no optimizer\n",
      "\n",
      "\n",
      "  | Name           | Type           | Params | Mode \n",
      "----------------------------------------------------------\n",
      "0 | pre_processor  | PreProcessor   | 0      | train\n",
      "1 | post_processor | PostProcessor  | 0      | train\n",
      "2 | evaluator      | Evaluator      | 0      | train\n",
      "3 | model          | PatchcoreModel | 2.8 M  | train\n",
      "----------------------------------------------------------\n",
      "2.8 M     Trainable params\n",
      "0         Non-trainable params\n",
      "2.8 M     Total params\n",
      "11.131    Total estimated model params size (MB)\n",
      "19        Modules in train mode\n",
      "69        Modules in eval mode\n"
     ]
    },
    {
     "data": {
      "text/plain": [
       "Training: |          | 0/? [00:00<?, ?it/s]"
      ],
      "application/vnd.jupyter.widget-view+json": {
       "version_major": 2,
       "version_minor": 0,
       "model_id": "2fe3d79dcf2249c2bb0b2326ae53317c"
      }
     },
     "metadata": {},
     "output_type": "display_data"
    },
    {
     "data": {
      "text/plain": [
       "Validation: |          | 0/? [00:00<?, ?it/s]"
      ],
      "application/vnd.jupyter.widget-view+json": {
       "version_major": 2,
       "version_minor": 0,
       "model_id": "25d982144c134a14bbcdc6ccf8f8b957"
      }
     },
     "metadata": {},
     "output_type": "display_data"
    },
    {
     "name": "stderr",
     "output_type": "stream",
     "text": [
      "INFO:anomalib.models.image.patchcore.lightning_model:Aggregating the embedding extracted from the training set.\n",
      "INFO:anomalib.models.image.patchcore.lightning_model:Applying core-set subsampling to get the embedding.\n",
      "\n",
      "\n",
      "Selecting Coreset Indices.:   0%|          | 0/1952 [00:00<?, ?it/s]\u001B[A\u001B[A\n",
      "\n",
      "Selecting Coreset Indices.:   0%|          | 8/1952 [00:00<00:26, 72.40it/s]\u001B[A\u001B[A\n",
      "\n",
      "Selecting Coreset Indices.:   1%|▏         | 25/1952 [00:00<00:15, 122.20it/s]\u001B[A\u001B[A\n",
      "\n",
      "Selecting Coreset Indices.:   2%|▏         | 38/1952 [00:00<00:20, 92.80it/s] \u001B[A\u001B[A\n",
      "\n",
      "Selecting Coreset Indices.:   2%|▏         | 48/1952 [00:00<00:24, 78.54it/s]\u001B[A\u001B[A\n",
      "\n",
      "Selecting Coreset Indices.:   3%|▎         | 64/1952 [00:00<00:19, 97.99it/s]\u001B[A\u001B[A\n",
      "\n",
      "Selecting Coreset Indices.:   4%|▍         | 86/1952 [00:00<00:15, 124.21it/s]\u001B[A\u001B[A\n",
      "\n",
      "Selecting Coreset Indices.:   5%|▌         | 100/1952 [00:00<00:14, 126.25it/s]\u001B[A\u001B[A\n",
      "\n",
      "Selecting Coreset Indices.:   6%|▌         | 118/1952 [00:01<00:13, 132.41it/s]\u001B[A\u001B[A\n",
      "\n",
      "Selecting Coreset Indices.:   7%|▋         | 138/1952 [00:01<00:12, 149.30it/s]\u001B[A\u001B[A\n",
      "\n",
      "Selecting Coreset Indices.:   8%|▊         | 160/1952 [00:01<00:10, 166.90it/s]\u001B[A\u001B[A\n",
      "\n",
      "Selecting Coreset Indices.:   9%|▉         | 185/1952 [00:01<00:09, 176.86it/s]\u001B[A\u001B[A\n",
      "\n",
      "Selecting Coreset Indices.:  11%|█         | 205/1952 [00:01<00:09, 183.00it/s]\u001B[A\u001B[A\n",
      "\n",
      "Selecting Coreset Indices.:  12%|█▏        | 225/1952 [00:01<00:09, 186.95it/s]\u001B[A\u001B[A\n",
      "\n",
      "Selecting Coreset Indices.:  13%|█▎        | 246/1952 [00:01<00:08, 190.17it/s]\u001B[A\u001B[A\n",
      "\n",
      "Selecting Coreset Indices.:  14%|█▎        | 266/1952 [00:01<00:08, 191.45it/s]\u001B[A\u001B[A\n",
      "\n",
      "Selecting Coreset Indices.:  15%|█▍        | 286/1952 [00:01<00:08, 189.74it/s]\u001B[A\u001B[A\n",
      "\n",
      "Selecting Coreset Indices.:  16%|█▌        | 306/1952 [00:01<00:08, 186.67it/s]\u001B[A\u001B[A\n",
      "\n",
      "Selecting Coreset Indices.:  17%|█▋        | 327/1952 [00:02<00:08, 192.73it/s]\u001B[A\u001B[A\n",
      "\n",
      "Selecting Coreset Indices.:  18%|█▊        | 347/1952 [00:02<00:08, 189.19it/s]\u001B[A\u001B[A\n",
      "\n",
      "Selecting Coreset Indices.:  19%|█▉        | 369/1952 [00:02<00:08, 194.73it/s]\u001B[A\u001B[A\n",
      "\n",
      "Selecting Coreset Indices.:  20%|█▉        | 389/1952 [00:02<00:10, 143.60it/s]\u001B[A\u001B[A\n",
      "\n",
      "Selecting Coreset Indices.:  21%|██        | 406/1952 [00:02<00:12, 125.16it/s]\u001B[A\u001B[A\n",
      "\n",
      "Selecting Coreset Indices.:  22%|██▏       | 423/1952 [00:02<00:11, 134.65it/s]\u001B[A\u001B[A\n",
      "\n",
      "Selecting Coreset Indices.:  23%|██▎       | 458/1952 [00:02<00:08, 183.67it/s]\u001B[A\u001B[A\n",
      "\n",
      "Selecting Coreset Indices.:  25%|██▍       | 479/1952 [00:03<00:07, 186.73it/s]\u001B[A\u001B[A\n",
      "\n",
      "Selecting Coreset Indices.:  26%|██▌       | 511/1952 [00:03<00:06, 219.55it/s]\u001B[A\u001B[A\n",
      "\n",
      "Selecting Coreset Indices.:  29%|██▊       | 558/1952 [00:03<00:04, 285.91it/s]\u001B[A\u001B[A\n",
      "\n",
      "Selecting Coreset Indices.:  30%|███       | 589/1952 [00:03<00:04, 282.79it/s]\u001B[A\u001B[A\n",
      "\n",
      "Selecting Coreset Indices.:  32%|███▏      | 619/1952 [00:03<00:04, 271.67it/s]\u001B[A\u001B[A\n",
      "\n",
      "Selecting Coreset Indices.:  33%|███▎      | 648/1952 [00:03<00:05, 256.62it/s]\u001B[A\u001B[A\n",
      "\n",
      "Selecting Coreset Indices.:  35%|███▍      | 675/1952 [00:03<00:05, 247.78it/s]\u001B[A\u001B[A\n",
      "\n",
      "Selecting Coreset Indices.:  36%|███▌      | 701/1952 [00:03<00:05, 230.26it/s]\u001B[A\u001B[A\n",
      "\n",
      "Selecting Coreset Indices.:  37%|███▋      | 725/1952 [00:03<00:05, 213.09it/s]\u001B[A\u001B[A\n",
      "\n",
      "Selecting Coreset Indices.:  38%|███▊      | 747/1952 [00:04<00:05, 202.52it/s]\u001B[A\u001B[A\n",
      "\n",
      "Selecting Coreset Indices.:  40%|███▉      | 779/1952 [00:04<00:05, 230.31it/s]\u001B[A\u001B[A\n",
      "\n",
      "Selecting Coreset Indices.:  41%|████      | 803/1952 [00:04<00:05, 204.75it/s]\u001B[A\u001B[A\n",
      "\n",
      "Selecting Coreset Indices.:  43%|████▎     | 835/1952 [00:04<00:04, 232.52it/s]\u001B[A\u001B[A\n",
      "\n",
      "Selecting Coreset Indices.:  45%|████▍     | 870/1952 [00:04<00:04, 262.26it/s]\u001B[A\u001B[A\n",
      "\n",
      "Selecting Coreset Indices.:  46%|████▋     | 903/1952 [00:04<00:03, 266.99it/s]\u001B[A\u001B[A\n",
      "\n",
      "Selecting Coreset Indices.:  48%|████▊     | 931/1952 [00:04<00:04, 251.28it/s]\u001B[A\u001B[A\n",
      "\n",
      "Selecting Coreset Indices.:  49%|████▉     | 957/1952 [00:04<00:04, 247.54it/s]\u001B[A\u001B[A\n",
      "\n",
      "Selecting Coreset Indices.:  50%|█████     | 983/1952 [00:05<00:03, 250.50it/s]\u001B[A\u001B[A\n",
      "\n",
      "Selecting Coreset Indices.:  52%|█████▏    | 1009/1952 [00:05<00:04, 220.59it/s]\u001B[A\u001B[A\n",
      "\n",
      "Selecting Coreset Indices.:  53%|█████▎    | 1033/1952 [00:05<00:04, 224.98it/s]\u001B[A\u001B[A\n",
      "\n",
      "Selecting Coreset Indices.:  54%|█████▍    | 1059/1952 [00:05<00:03, 233.25it/s]\u001B[A\u001B[A\n",
      "\n",
      "Selecting Coreset Indices.:  56%|█████▋    | 1098/1952 [00:05<00:03, 275.16it/s]\u001B[A\u001B[A\n",
      "\n",
      "Selecting Coreset Indices.:  58%|█████▊    | 1127/1952 [00:05<00:02, 276.44it/s]\u001B[A\u001B[A\n",
      "\n",
      "Selecting Coreset Indices.:  59%|█████▉    | 1156/1952 [00:05<00:02, 266.43it/s]\u001B[A\u001B[A\n",
      "\n",
      "Selecting Coreset Indices.:  61%|██████    | 1184/1952 [00:05<00:02, 263.23it/s]\u001B[A\u001B[A\n",
      "\n",
      "Selecting Coreset Indices.:  62%|██████▏   | 1216/1952 [00:05<00:02, 278.44it/s]\u001B[A\u001B[A\n",
      "\n",
      "Selecting Coreset Indices.:  64%|██████▍   | 1245/1952 [00:06<00:02, 266.59it/s]\u001B[A\u001B[A\n",
      "\n",
      "Selecting Coreset Indices.:  65%|██████▌   | 1272/1952 [00:06<00:02, 250.31it/s]\u001B[A\u001B[A\n",
      "\n",
      "Selecting Coreset Indices.:  67%|██████▋   | 1308/1952 [00:06<00:02, 271.91it/s]\u001B[A\u001B[A\n",
      "\n",
      "Selecting Coreset Indices.:  69%|██████▊   | 1340/1952 [00:06<00:02, 284.63it/s]\u001B[A\u001B[A\n",
      "\n",
      "Selecting Coreset Indices.:  70%|███████   | 1369/1952 [00:06<00:02, 276.35it/s]\u001B[A\u001B[A\n",
      "\n",
      "Selecting Coreset Indices.:  72%|███████▏  | 1397/1952 [00:06<00:02, 266.17it/s]\u001B[A\u001B[A\n",
      "\n",
      "Selecting Coreset Indices.:  74%|███████▍  | 1440/1952 [00:06<00:01, 310.77it/s]\u001B[A\u001B[A\n",
      "\n",
      "Selecting Coreset Indices.:  76%|███████▌  | 1476/1952 [00:06<00:01, 324.12it/s]\u001B[A\u001B[A\n",
      "\n",
      "Selecting Coreset Indices.:  78%|███████▊  | 1514/1952 [00:06<00:01, 339.37it/s]\u001B[A\u001B[A\n",
      "\n",
      "Selecting Coreset Indices.:  79%|███████▉  | 1549/1952 [00:07<00:01, 332.30it/s]\u001B[A\u001B[A\n",
      "\n",
      "Selecting Coreset Indices.:  81%|████████▏ | 1587/1952 [00:07<00:01, 344.75it/s]\u001B[A\u001B[A\n",
      "\n",
      "Selecting Coreset Indices.:  84%|████████▎ | 1632/1952 [00:07<00:00, 373.57it/s]\u001B[A\u001B[A\n",
      "\n",
      "Selecting Coreset Indices.:  86%|████████▌ | 1670/1952 [00:07<00:00, 362.03it/s]\u001B[A\u001B[A\n",
      "\n",
      "Selecting Coreset Indices.:  87%|████████▋ | 1707/1952 [00:07<00:00, 315.22it/s]\u001B[A\u001B[A\n",
      "\n",
      "Selecting Coreset Indices.:  89%|████████▉ | 1740/1952 [00:07<00:00, 307.90it/s]\u001B[A\u001B[A\n",
      "\n",
      "Selecting Coreset Indices.:  91%|█████████ | 1772/1952 [00:07<00:00, 305.16it/s]\u001B[A\u001B[A\n",
      "\n",
      "Selecting Coreset Indices.:  92%|█████████▏| 1804/1952 [00:07<00:00, 287.12it/s]\u001B[A\u001B[A\n",
      "\n",
      "Selecting Coreset Indices.:  94%|█████████▍| 1834/1952 [00:07<00:00, 287.96it/s]\u001B[A\u001B[A\n",
      "\n",
      "Selecting Coreset Indices.:  96%|█████████▌| 1875/1952 [00:08<00:00, 319.28it/s]\u001B[A\u001B[A\n",
      "\n",
      "Selecting Coreset Indices.:  98%|█████████▊| 1910/1952 [00:08<00:00, 326.95it/s]\u001B[A\u001B[A\n",
      "\n",
      "Selecting Coreset Indices.: 100%|██████████| 1952/1952 [00:08<00:00, 236.00it/s]\u001B[A\u001B[A\n",
      "INFO:lightning_fabric.utilities.rank_zero:`Trainer.fit` stopped: `max_epochs=1` reached.\n",
      "INFO:anomalib.callbacks.timer:Training took 18.38 seconds\n",
      "INFO:lightning_fabric.utilities.rank_zero:The following callbacks returned in `LightningModule.configure_callbacks` will override existing callbacks passed to Trainer: Evaluator, ImageVisualizer, PostProcessor, PreProcessor\n",
      "INFO:anomalib.data.datamodules.image.mvtecad:Found the dataset.\n"
     ]
    },
    {
     "data": {
      "text/plain": [
       "Testing: |          | 0/? [00:00<?, ?it/s]"
      ],
      "application/vnd.jupyter.widget-view+json": {
       "version_major": 2,
       "version_minor": 0,
       "model_id": "5f2bc323c8b743e6aa580cd21131fead"
      }
     },
     "metadata": {},
     "output_type": "display_data"
    },
    {
     "name": "stderr",
     "output_type": "stream",
     "text": [
      "INFO:anomalib.callbacks.timer:Testing took 24.509286642074585 seconds\n",
      "Throughput (batch_size=32) : 3.386471471491774 FPS\n"
     ]
    },
    {
     "data": {
      "text/plain": [
       "┏━━━━━━━━━━━━━━━━━━━━━━━━━━━┳━━━━━━━━━━━━━━━━━━━━━━━━━━━┓\n",
       "┃\u001B[1m \u001B[0m\u001B[1m       Test metric       \u001B[0m\u001B[1m \u001B[0m┃\u001B[1m \u001B[0m\u001B[1m      DataLoader 0       \u001B[0m\u001B[1m \u001B[0m┃\n",
       "┡━━━━━━━━━━━━━━━━━━━━━━━━━━━╇━━━━━━━━━━━━━━━━━━━━━━━━━━━┩\n",
       "│\u001B[36m \u001B[0m\u001B[36m       image_AUROC       \u001B[0m\u001B[36m \u001B[0m│\u001B[35m \u001B[0m\u001B[35m   0.9968254566192627    \u001B[0m\u001B[35m \u001B[0m│\n",
       "│\u001B[36m \u001B[0m\u001B[36m      image_F1Score      \u001B[0m\u001B[36m \u001B[0m│\u001B[35m \u001B[0m\u001B[35m   0.9841269850730896    \u001B[0m\u001B[35m \u001B[0m│\n",
       "│\u001B[36m \u001B[0m\u001B[36m       pixel_AUROC       \u001B[0m\u001B[36m \u001B[0m│\u001B[35m \u001B[0m\u001B[35m   0.9722042083740234    \u001B[0m\u001B[35m \u001B[0m│\n",
       "│\u001B[36m \u001B[0m\u001B[36m      pixel_F1Score      \u001B[0m\u001B[36m \u001B[0m│\u001B[35m \u001B[0m\u001B[35m   0.6777165532112122    \u001B[0m\u001B[35m \u001B[0m│\n",
       "└───────────────────────────┴───────────────────────────┘\n"
      ],
      "text/html": [
       "<pre style=\"white-space:pre;overflow-x:auto;line-height:normal;font-family:Menlo,'DejaVu Sans Mono',consolas,'Courier New',monospace\">┏━━━━━━━━━━━━━━━━━━━━━━━━━━━┳━━━━━━━━━━━━━━━━━━━━━━━━━━━┓\n",
       "┃<span style=\"font-weight: bold\">        Test metric        </span>┃<span style=\"font-weight: bold\">       DataLoader 0        </span>┃\n",
       "┡━━━━━━━━━━━━━━━━━━━━━━━━━━━╇━━━━━━━━━━━━━━━━━━━━━━━━━━━┩\n",
       "│<span style=\"color: #008080; text-decoration-color: #008080\">        image_AUROC        </span>│<span style=\"color: #800080; text-decoration-color: #800080\">    0.9968254566192627     </span>│\n",
       "│<span style=\"color: #008080; text-decoration-color: #008080\">       image_F1Score       </span>│<span style=\"color: #800080; text-decoration-color: #800080\">    0.9841269850730896     </span>│\n",
       "│<span style=\"color: #008080; text-decoration-color: #008080\">        pixel_AUROC        </span>│<span style=\"color: #800080; text-decoration-color: #800080\">    0.9722042083740234     </span>│\n",
       "│<span style=\"color: #008080; text-decoration-color: #008080\">       pixel_F1Score       </span>│<span style=\"color: #800080; text-decoration-color: #800080\">    0.6777165532112122     </span>│\n",
       "└───────────────────────────┴───────────────────────────┘\n",
       "</pre>\n"
      ]
     },
     "metadata": {},
     "output_type": "display_data"
    },
    {
     "name": "stderr",
     "output_type": "stream",
     "text": [
      "[I 2025-04-09 21:20:54,847] Trial 4 finished with value: 0.9968254566192627 and parameters: {'backbone': 'resnet18', 'coreset_sampling_ratio': 0.41502497702816593, 'num_neighbors': 19}. Best is trial 0 with value: 1.0.\n"
     ]
    },
    {
     "name": "stdout",
     "output_type": "stream",
     "text": [
      "[{'image_AUROC': 0.9968254566192627, 'image_F1Score': 0.9841269850730896, 'pixel_AUROC': 0.9722042083740234, 'pixel_F1Score': 0.6777165532112122}]\n"
     ]
    },
    {
     "name": "stderr",
     "output_type": "stream",
     "text": [
      "INFO:anomalib.models.components.base.anomalib_module:Initializing Patchcore model.\n",
      "INFO:timm.models._builder:Loading pretrained weights from Hugging Face hub (timm/resnet18.a1_in1k)\n",
      "INFO:timm.models._hub:[timm/resnet18.a1_in1k] Safe alternative available for 'pytorch_model.bin' (as 'model.safetensors'). Loading weights using safetensors.\n",
      "INFO:timm.models._builder:Missing keys (fc.weight, fc.bias) discovered while loading pretrained weights. This is expected if model is being adapted.\n",
      "/tmp/ipykernel_13568/599406512.py:27: DeprecationWarning:\n",
      "\n",
      "MVTec is deprecated and will be removed in a future version. Please use MVTecAD instead.\n",
      "\n",
      "INFO:lightning_fabric.utilities.rank_zero:GPU available: False, used: False\n",
      "INFO:lightning_fabric.utilities.rank_zero:TPU available: False, using: 0 TPU cores\n",
      "INFO:lightning_fabric.utilities.rank_zero:HPU available: False, using: 0 HPUs\n",
      "INFO:anomalib.data.datamodules.image.mvtecad:Found the dataset.\n",
      "/home/pawel/.local/lib/python3.10/site-packages/lightning/pytorch/core/optimizer.py:183: UserWarning:\n",
      "\n",
      "`LightningModule.configure_optimizers` returned `None`, this fit will run with no optimizer\n",
      "\n",
      "\n",
      "  | Name           | Type           | Params | Mode \n",
      "----------------------------------------------------------\n",
      "0 | pre_processor  | PreProcessor   | 0      | train\n",
      "1 | post_processor | PostProcessor  | 0      | train\n",
      "2 | evaluator      | Evaluator      | 0      | train\n",
      "3 | model          | PatchcoreModel | 2.8 M  | train\n",
      "----------------------------------------------------------\n",
      "2.8 M     Trainable params\n",
      "0         Non-trainable params\n",
      "2.8 M     Total params\n",
      "11.131    Total estimated model params size (MB)\n",
      "19        Modules in train mode\n",
      "69        Modules in eval mode\n"
     ]
    },
    {
     "data": {
      "text/plain": [
       "Training: |          | 0/? [00:00<?, ?it/s]"
      ],
      "application/vnd.jupyter.widget-view+json": {
       "version_major": 2,
       "version_minor": 0,
       "model_id": "c16a3a25dfcd46eb8e4254a5b6846b2d"
      }
     },
     "metadata": {},
     "output_type": "display_data"
    },
    {
     "data": {
      "text/plain": [
       "Validation: |          | 0/? [00:00<?, ?it/s]"
      ],
      "application/vnd.jupyter.widget-view+json": {
       "version_major": 2,
       "version_minor": 0,
       "model_id": "d61b5f52d0c04a8fb0985ea35d26a092"
      }
     },
     "metadata": {},
     "output_type": "display_data"
    },
    {
     "name": "stderr",
     "output_type": "stream",
     "text": [
      "INFO:anomalib.models.image.patchcore.lightning_model:Aggregating the embedding extracted from the training set.\n",
      "INFO:anomalib.models.image.patchcore.lightning_model:Applying core-set subsampling to get the embedding.\n",
      "\n",
      "\n",
      "Selecting Coreset Indices.:   0%|          | 0/468 [00:00<?, ?it/s]\u001B[A\u001B[A\n",
      "\n",
      "Selecting Coreset Indices.:   4%|▍         | 18/468 [00:00<00:02, 178.12it/s]\u001B[A\u001B[A\n",
      "\n",
      "Selecting Coreset Indices.:   8%|▊         | 36/468 [00:00<00:02, 165.31it/s]\u001B[A\u001B[A\n",
      "\n",
      "Selecting Coreset Indices.:  12%|█▏        | 55/468 [00:00<00:02, 172.16it/s]\u001B[A\u001B[A\n",
      "\n",
      "Selecting Coreset Indices.:  16%|█▌        | 76/468 [00:00<00:02, 185.16it/s]\u001B[A\u001B[A\n",
      "\n",
      "Selecting Coreset Indices.:  20%|██        | 95/468 [00:00<00:02, 158.79it/s]\u001B[A\u001B[A\n",
      "\n",
      "Selecting Coreset Indices.:  24%|██▍       | 112/468 [00:00<00:02, 154.56it/s]\u001B[A\u001B[A\n",
      "\n",
      "Selecting Coreset Indices.:  27%|██▋       | 128/468 [00:00<00:02, 152.04it/s]\u001B[A\u001B[A\n",
      "\n",
      "Selecting Coreset Indices.:  32%|███▏      | 149/468 [00:00<00:01, 167.76it/s]\u001B[A\u001B[A\n",
      "\n",
      "Selecting Coreset Indices.:  36%|███▌      | 168/468 [00:01<00:01, 167.34it/s]\u001B[A\u001B[A\n",
      "\n",
      "Selecting Coreset Indices.:  41%|████      | 191/468 [00:01<00:01, 183.52it/s]\u001B[A\u001B[A\n",
      "\n",
      "Selecting Coreset Indices.:  46%|████▌     | 214/468 [00:01<00:01, 195.75it/s]\u001B[A\u001B[A\n",
      "\n",
      "Selecting Coreset Indices.:  50%|█████     | 234/468 [00:01<00:01, 191.72it/s]\u001B[A\u001B[A\n",
      "\n",
      "Selecting Coreset Indices.:  56%|█████▋    | 264/468 [00:01<00:00, 222.15it/s]\u001B[A\u001B[A\n",
      "\n",
      "Selecting Coreset Indices.:  63%|██████▎   | 296/468 [00:01<00:00, 242.50it/s]\u001B[A\u001B[A\n",
      "\n",
      "Selecting Coreset Indices.:  70%|███████   | 329/468 [00:01<00:00, 267.19it/s]\u001B[A\u001B[A\n",
      "\n",
      "Selecting Coreset Indices.:  76%|███████▌  | 356/468 [00:01<00:00, 262.25it/s]\u001B[A\u001B[A\n",
      "\n",
      "Selecting Coreset Indices.:  82%|████████▏ | 383/468 [00:01<00:00, 247.34it/s]\u001B[A\u001B[A\n",
      "\n",
      "Selecting Coreset Indices.:  88%|████████▊ | 410/468 [00:01<00:00, 253.35it/s]\u001B[A\u001B[A\n",
      "\n",
      "Selecting Coreset Indices.:  93%|█████████▎| 436/468 [00:02<00:00, 120.36it/s]\u001B[A\u001B[A\n",
      "\n",
      "Selecting Coreset Indices.: 100%|██████████| 468/468 [00:02<00:00, 172.10it/s]\u001B[A\u001B[A\n",
      "INFO:lightning_fabric.utilities.rank_zero:`Trainer.fit` stopped: `max_epochs=1` reached.\n",
      "INFO:anomalib.callbacks.timer:Training took 12.10 seconds\n",
      "INFO:lightning_fabric.utilities.rank_zero:The following callbacks returned in `LightningModule.configure_callbacks` will override existing callbacks passed to Trainer: Evaluator, ImageVisualizer, PostProcessor, PreProcessor\n",
      "INFO:anomalib.data.datamodules.image.mvtecad:Found the dataset.\n"
     ]
    },
    {
     "data": {
      "text/plain": [
       "Testing: |          | 0/? [00:00<?, ?it/s]"
      ],
      "application/vnd.jupyter.widget-view+json": {
       "version_major": 2,
       "version_minor": 0,
       "model_id": "12710bb964af4bf1846430ae99d329a1"
      }
     },
     "metadata": {},
     "output_type": "display_data"
    },
    {
     "name": "stderr",
     "output_type": "stream",
     "text": [
      "INFO:anomalib.callbacks.timer:Testing took 25.922038078308105 seconds\n",
      "Throughput (batch_size=32) : 3.201908729138681 FPS\n"
     ]
    },
    {
     "data": {
      "text/plain": [
       "┏━━━━━━━━━━━━━━━━━━━━━━━━━━━┳━━━━━━━━━━━━━━━━━━━━━━━━━━━┓\n",
       "┃\u001B[1m \u001B[0m\u001B[1m       Test metric       \u001B[0m\u001B[1m \u001B[0m┃\u001B[1m \u001B[0m\u001B[1m      DataLoader 0       \u001B[0m\u001B[1m \u001B[0m┃\n",
       "┡━━━━━━━━━━━━━━━━━━━━━━━━━━━╇━━━━━━━━━━━━━━━━━━━━━━━━━━━┩\n",
       "│\u001B[36m \u001B[0m\u001B[36m       image_AUROC       \u001B[0m\u001B[36m \u001B[0m│\u001B[35m \u001B[0m\u001B[35m   0.9936508536338806    \u001B[0m\u001B[35m \u001B[0m│\n",
       "│\u001B[36m \u001B[0m\u001B[36m      image_F1Score      \u001B[0m\u001B[36m \u001B[0m│\u001B[35m \u001B[0m\u001B[35m   0.9841269850730896    \u001B[0m\u001B[35m \u001B[0m│\n",
       "│\u001B[36m \u001B[0m\u001B[36m       pixel_AUROC       \u001B[0m\u001B[36m \u001B[0m│\u001B[35m \u001B[0m\u001B[35m   0.9706872701644897    \u001B[0m\u001B[35m \u001B[0m│\n",
       "│\u001B[36m \u001B[0m\u001B[36m      pixel_F1Score      \u001B[0m\u001B[36m \u001B[0m│\u001B[35m \u001B[0m\u001B[35m   0.6778967976570129    \u001B[0m\u001B[35m \u001B[0m│\n",
       "└───────────────────────────┴───────────────────────────┘\n"
      ],
      "text/html": [
       "<pre style=\"white-space:pre;overflow-x:auto;line-height:normal;font-family:Menlo,'DejaVu Sans Mono',consolas,'Courier New',monospace\">┏━━━━━━━━━━━━━━━━━━━━━━━━━━━┳━━━━━━━━━━━━━━━━━━━━━━━━━━━┓\n",
       "┃<span style=\"font-weight: bold\">        Test metric        </span>┃<span style=\"font-weight: bold\">       DataLoader 0        </span>┃\n",
       "┡━━━━━━━━━━━━━━━━━━━━━━━━━━━╇━━━━━━━━━━━━━━━━━━━━━━━━━━━┩\n",
       "│<span style=\"color: #008080; text-decoration-color: #008080\">        image_AUROC        </span>│<span style=\"color: #800080; text-decoration-color: #800080\">    0.9936508536338806     </span>│\n",
       "│<span style=\"color: #008080; text-decoration-color: #008080\">       image_F1Score       </span>│<span style=\"color: #800080; text-decoration-color: #800080\">    0.9841269850730896     </span>│\n",
       "│<span style=\"color: #008080; text-decoration-color: #008080\">        pixel_AUROC        </span>│<span style=\"color: #800080; text-decoration-color: #800080\">    0.9706872701644897     </span>│\n",
       "│<span style=\"color: #008080; text-decoration-color: #008080\">       pixel_F1Score       </span>│<span style=\"color: #800080; text-decoration-color: #800080\">    0.6778967976570129     </span>│\n",
       "└───────────────────────────┴───────────────────────────┘\n",
       "</pre>\n"
      ]
     },
     "metadata": {},
     "output_type": "display_data"
    },
    {
     "name": "stderr",
     "output_type": "stream",
     "text": [
      "[I 2025-04-09 21:21:38,385] Trial 5 finished with value: 0.9936508536338806 and parameters: {'backbone': 'resnet18', 'coreset_sampling_ratio': 0.09961925824822632, 'num_neighbors': 6}. Best is trial 0 with value: 1.0.\n"
     ]
    },
    {
     "name": "stdout",
     "output_type": "stream",
     "text": [
      "[{'image_AUROC': 0.9936508536338806, 'image_F1Score': 0.9841269850730896, 'pixel_AUROC': 0.9706872701644897, 'pixel_F1Score': 0.6778967976570129}]\n"
     ]
    },
    {
     "name": "stderr",
     "output_type": "stream",
     "text": [
      "INFO:anomalib.models.components.base.anomalib_module:Initializing Patchcore model.\n",
      "INFO:timm.models._builder:Loading pretrained weights from Hugging Face hub (timm/resnet18.a1_in1k)\n",
      "INFO:timm.models._hub:[timm/resnet18.a1_in1k] Safe alternative available for 'pytorch_model.bin' (as 'model.safetensors'). Loading weights using safetensors.\n",
      "INFO:timm.models._builder:Missing keys (fc.weight, fc.bias) discovered while loading pretrained weights. This is expected if model is being adapted.\n",
      "/tmp/ipykernel_13568/599406512.py:27: DeprecationWarning:\n",
      "\n",
      "MVTec is deprecated and will be removed in a future version. Please use MVTecAD instead.\n",
      "\n",
      "INFO:lightning_fabric.utilities.rank_zero:GPU available: False, used: False\n",
      "INFO:lightning_fabric.utilities.rank_zero:TPU available: False, using: 0 TPU cores\n",
      "INFO:lightning_fabric.utilities.rank_zero:HPU available: False, using: 0 HPUs\n",
      "INFO:anomalib.data.datamodules.image.mvtecad:Found the dataset.\n",
      "/home/pawel/.local/lib/python3.10/site-packages/lightning/pytorch/core/optimizer.py:183: UserWarning:\n",
      "\n",
      "`LightningModule.configure_optimizers` returned `None`, this fit will run with no optimizer\n",
      "\n",
      "\n",
      "  | Name           | Type           | Params | Mode \n",
      "----------------------------------------------------------\n",
      "0 | pre_processor  | PreProcessor   | 0      | train\n",
      "1 | post_processor | PostProcessor  | 0      | train\n",
      "2 | evaluator      | Evaluator      | 0      | train\n",
      "3 | model          | PatchcoreModel | 2.8 M  | train\n",
      "----------------------------------------------------------\n",
      "2.8 M     Trainable params\n",
      "0         Non-trainable params\n",
      "2.8 M     Total params\n",
      "11.131    Total estimated model params size (MB)\n",
      "19        Modules in train mode\n",
      "69        Modules in eval mode\n"
     ]
    },
    {
     "data": {
      "text/plain": [
       "Training: |          | 0/? [00:00<?, ?it/s]"
      ],
      "application/vnd.jupyter.widget-view+json": {
       "version_major": 2,
       "version_minor": 0,
       "model_id": "26d9723c932e4917a7ab15d019c9354d"
      }
     },
     "metadata": {},
     "output_type": "display_data"
    },
    {
     "data": {
      "text/plain": [
       "Validation: |          | 0/? [00:00<?, ?it/s]"
      ],
      "application/vnd.jupyter.widget-view+json": {
       "version_major": 2,
       "version_minor": 0,
       "model_id": "5a86e870a9a749208cc7bdcb6aa90894"
      }
     },
     "metadata": {},
     "output_type": "display_data"
    },
    {
     "name": "stderr",
     "output_type": "stream",
     "text": [
      "INFO:anomalib.models.image.patchcore.lightning_model:Aggregating the embedding extracted from the training set.\n",
      "INFO:anomalib.models.image.patchcore.lightning_model:Applying core-set subsampling to get the embedding.\n",
      "\n",
      "\n",
      "Selecting Coreset Indices.:   0%|          | 0/2313 [00:00<?, ?it/s]\u001B[A\u001B[A\n",
      "\n",
      "Selecting Coreset Indices.:   0%|          | 11/2313 [00:00<00:21, 109.00it/s]\u001B[A\u001B[A\n",
      "\n",
      "Selecting Coreset Indices.:   1%|▏         | 31/2313 [00:00<00:14, 162.16it/s]\u001B[A\u001B[A\n",
      "\n",
      "Selecting Coreset Indices.:   2%|▏         | 48/2313 [00:00<00:16, 138.17it/s]\u001B[A\u001B[A\n",
      "\n",
      "Selecting Coreset Indices.:   3%|▎         | 75/2313 [00:00<00:13, 171.16it/s]\u001B[A\u001B[A\n",
      "\n",
      "Selecting Coreset Indices.:   4%|▍         | 93/2313 [00:00<00:18, 123.17it/s]\u001B[A\u001B[A\n",
      "\n",
      "Selecting Coreset Indices.:   5%|▍         | 107/2313 [00:00<00:21, 102.77it/s]\u001B[A\u001B[A\n",
      "\n",
      "Selecting Coreset Indices.:   5%|▌         | 119/2313 [00:01<00:23, 91.70it/s] \u001B[A\u001B[A\n",
      "\n",
      "Selecting Coreset Indices.:   6%|▌         | 130/2313 [00:01<00:23, 94.44it/s]\u001B[A\u001B[A\n",
      "\n",
      "Selecting Coreset Indices.:   6%|▌         | 143/2313 [00:01<00:21, 100.88it/s]\u001B[A\u001B[A\n",
      "\n",
      "Selecting Coreset Indices.:   7%|▋         | 154/2313 [00:01<00:23, 93.79it/s] \u001B[A\u001B[A\n",
      "\n",
      "Selecting Coreset Indices.:   7%|▋         | 164/2313 [00:01<00:22, 93.99it/s]\u001B[A\u001B[A\n",
      "\n",
      "Selecting Coreset Indices.:   8%|▊         | 183/2313 [00:01<00:18, 117.68it/s]\u001B[A\u001B[A\n",
      "\n",
      "Selecting Coreset Indices.:   9%|▉         | 205/2313 [00:01<00:14, 144.34it/s]\u001B[A\u001B[A\n",
      "\n",
      "Selecting Coreset Indices.:  10%|▉         | 221/2313 [00:02<00:20, 101.14it/s]\u001B[A\u001B[A\n",
      "\n",
      "Selecting Coreset Indices.:  10%|█         | 236/2313 [00:02<00:18, 111.26it/s]\u001B[A\u001B[A\n",
      "\n",
      "Selecting Coreset Indices.:  11%|█▏        | 263/2313 [00:02<00:13, 147.56it/s]\u001B[A\u001B[A\n",
      "\n",
      "Selecting Coreset Indices.:  12%|█▏        | 281/2313 [00:02<00:13, 148.74it/s]\u001B[A\u001B[A\n",
      "\n",
      "Selecting Coreset Indices.:  13%|█▎        | 298/2313 [00:02<00:16, 124.08it/s]\u001B[A\u001B[A\n",
      "\n",
      "Selecting Coreset Indices.:  14%|█▎        | 317/2313 [00:02<00:14, 138.09it/s]\u001B[A\u001B[A\n",
      "\n",
      "Selecting Coreset Indices.:  14%|█▍        | 333/2313 [00:02<00:14, 140.25it/s]\u001B[A\u001B[A\n",
      "\n",
      "Selecting Coreset Indices.:  15%|█▌        | 349/2313 [00:02<00:15, 129.73it/s]\u001B[A\u001B[A\n",
      "\n",
      "Selecting Coreset Indices.:  16%|█▌        | 363/2313 [00:03<00:18, 108.22it/s]\u001B[A\u001B[A\n",
      "\n",
      "Selecting Coreset Indices.:  16%|█▌        | 375/2313 [00:03<00:30, 63.43it/s] \u001B[A\u001B[A\n",
      "\n",
      "Selecting Coreset Indices.:  17%|█▋        | 385/2313 [00:03<00:37, 50.96it/s]\u001B[A\u001B[A\n",
      "\n",
      "Selecting Coreset Indices.:  17%|█▋        | 395/2313 [00:03<00:34, 56.33it/s]\u001B[A\u001B[A\n",
      "\n",
      "Selecting Coreset Indices.:  18%|█▊        | 405/2313 [00:04<00:30, 63.28it/s]\u001B[A\u001B[A\n",
      "\n",
      "Selecting Coreset Indices.:  18%|█▊        | 414/2313 [00:04<00:30, 61.91it/s]\u001B[A\u001B[A\n",
      "\n",
      "Selecting Coreset Indices.:  18%|█▊        | 422/2313 [00:04<00:29, 64.77it/s]\u001B[A\u001B[A\n",
      "\n",
      "Selecting Coreset Indices.:  19%|█▊        | 432/2313 [00:04<00:26, 72.29it/s]\u001B[A\u001B[A\n",
      "\n",
      "Selecting Coreset Indices.:  19%|█▉        | 445/2313 [00:04<00:21, 85.82it/s]\u001B[A\u001B[A\n",
      "\n",
      "Selecting Coreset Indices.:  20%|█▉        | 461/2313 [00:04<00:17, 103.03it/s]\u001B[A\u001B[A\n",
      "\n",
      "Selecting Coreset Indices.:  21%|██        | 476/2313 [00:04<00:16, 113.15it/s]\u001B[A\u001B[A\n",
      "\n",
      "Selecting Coreset Indices.:  21%|██▏       | 497/2313 [00:04<00:13, 139.05it/s]\u001B[A\u001B[A\n",
      "\n",
      "Selecting Coreset Indices.:  22%|██▏       | 512/2313 [00:04<00:13, 137.94it/s]\u001B[A\u001B[A\n",
      "\n",
      "Selecting Coreset Indices.:  23%|██▎       | 527/2313 [00:05<00:14, 124.87it/s]\u001B[A\u001B[A\n",
      "\n",
      "Selecting Coreset Indices.:  23%|██▎       | 541/2313 [00:05<00:14, 126.35it/s]\u001B[A\u001B[A\n",
      "\n",
      "Selecting Coreset Indices.:  24%|██▍       | 555/2313 [00:05<00:14, 123.38it/s]\u001B[A\u001B[A\n",
      "\n",
      "Selecting Coreset Indices.:  25%|██▍       | 570/2313 [00:05<00:13, 129.29it/s]\u001B[A\u001B[A\n",
      "\n",
      "Selecting Coreset Indices.:  25%|██▌       | 587/2313 [00:05<00:13, 126.14it/s]\u001B[A\u001B[A\n",
      "\n",
      "Selecting Coreset Indices.:  26%|██▌       | 600/2313 [00:05<00:16, 104.94it/s]\u001B[A\u001B[A\n",
      "\n",
      "Selecting Coreset Indices.:  26%|██▋       | 612/2313 [00:05<00:15, 107.17it/s]\u001B[A\u001B[A\n",
      "\n",
      "Selecting Coreset Indices.:  27%|██▋       | 624/2313 [00:06<00:17, 97.23it/s] \u001B[A\u001B[A\n",
      "\n",
      "Selecting Coreset Indices.:  28%|██▊       | 638/2313 [00:06<00:15, 107.07it/s]\u001B[A\u001B[A\n",
      "\n",
      "Selecting Coreset Indices.:  28%|██▊       | 650/2313 [00:06<00:19, 87.17it/s] \u001B[A\u001B[A\n",
      "\n",
      "Selecting Coreset Indices.:  29%|██▊       | 660/2313 [00:06<00:18, 89.02it/s]\u001B[A\u001B[A\n",
      "\n",
      "Selecting Coreset Indices.:  29%|██▉       | 675/2313 [00:06<00:15, 103.48it/s]\u001B[A\u001B[A\n",
      "\n",
      "Selecting Coreset Indices.:  30%|██▉       | 687/2313 [00:06<00:16, 101.55it/s]\u001B[A\u001B[A\n",
      "\n",
      "Selecting Coreset Indices.:  30%|███       | 705/2313 [00:06<00:13, 120.91it/s]\u001B[A\u001B[A\n",
      "\n",
      "Selecting Coreset Indices.:  31%|███       | 720/2313 [00:06<00:12, 127.48it/s]\u001B[A\u001B[A\n",
      "\n",
      "Selecting Coreset Indices.:  32%|███▏      | 734/2313 [00:07<00:14, 110.70it/s]\u001B[A\u001B[A\n",
      "\n",
      "Selecting Coreset Indices.:  32%|███▏      | 746/2313 [00:07<00:15, 100.67it/s]\u001B[A\u001B[A\n",
      "\n",
      "Selecting Coreset Indices.:  33%|███▎      | 757/2313 [00:07<00:17, 91.22it/s] \u001B[A\u001B[A\n",
      "\n",
      "Selecting Coreset Indices.:  33%|███▎      | 770/2313 [00:07<00:15, 96.98it/s]\u001B[A\u001B[A\n",
      "\n",
      "Selecting Coreset Indices.:  34%|███▍      | 781/2313 [00:07<00:26, 58.80it/s]\u001B[A\u001B[A\n",
      "\n",
      "Selecting Coreset Indices.:  34%|███▍      | 789/2313 [00:08<00:32, 47.22it/s]\u001B[A\u001B[A\n",
      "\n",
      "Selecting Coreset Indices.:  34%|███▍      | 796/2313 [00:08<00:38, 39.76it/s]\u001B[A\u001B[A\n",
      "\n",
      "Selecting Coreset Indices.:  35%|███▍      | 802/2313 [00:08<00:42, 35.85it/s]\u001B[A\u001B[A\n",
      "\n",
      "Selecting Coreset Indices.:  35%|███▍      | 807/2313 [00:08<00:44, 33.80it/s]\u001B[A\u001B[A\n",
      "\n",
      "Selecting Coreset Indices.:  35%|███▌      | 811/2313 [00:08<00:47, 31.58it/s]\u001B[A\u001B[A\n",
      "\n",
      "Selecting Coreset Indices.:  35%|███▌      | 815/2313 [00:09<00:47, 31.44it/s]\u001B[A\u001B[A\n",
      "\n",
      "Selecting Coreset Indices.:  35%|███▌      | 821/2313 [00:09<00:40, 36.78it/s]\u001B[A\u001B[A\n",
      "\n",
      "Selecting Coreset Indices.:  36%|███▌      | 826/2313 [00:09<00:38, 38.45it/s]\u001B[A\u001B[A\n",
      "\n",
      "Selecting Coreset Indices.:  36%|███▌      | 832/2313 [00:09<00:35, 42.15it/s]\u001B[A\u001B[A\n",
      "\n",
      "Selecting Coreset Indices.:  36%|███▌      | 837/2313 [00:09<00:36, 40.75it/s]\u001B[A\u001B[A\n",
      "\n",
      "Selecting Coreset Indices.:  36%|███▋      | 843/2313 [00:09<00:33, 43.47it/s]\u001B[A\u001B[A\n",
      "\n",
      "Selecting Coreset Indices.:  37%|███▋      | 849/2313 [00:09<00:32, 44.97it/s]\u001B[A\u001B[A\n",
      "\n",
      "Selecting Coreset Indices.:  38%|███▊      | 869/2313 [00:09<00:17, 82.63it/s]\u001B[A\u001B[A\n",
      "\n",
      "Selecting Coreset Indices.:  38%|███▊      | 885/2313 [00:10<00:13, 102.40it/s]\u001B[A\u001B[A\n",
      "\n",
      "Selecting Coreset Indices.:  39%|███▊      | 896/2313 [00:10<00:14, 97.17it/s] \u001B[A\u001B[A\n",
      "\n",
      "Selecting Coreset Indices.:  39%|███▉      | 907/2313 [00:10<00:18, 77.98it/s]\u001B[A\u001B[A\n",
      "\n",
      "Selecting Coreset Indices.:  40%|███▉      | 921/2313 [00:10<00:15, 87.20it/s]\u001B[A\u001B[A\n",
      "\n",
      "Selecting Coreset Indices.:  41%|████      | 937/2313 [00:10<00:13, 100.36it/s]\u001B[A\u001B[A\n",
      "\n",
      "Selecting Coreset Indices.:  41%|████      | 948/2313 [00:10<00:14, 94.49it/s] \u001B[A\u001B[A\n",
      "\n",
      "Selecting Coreset Indices.:  41%|████▏     | 958/2313 [00:10<00:17, 76.65it/s]\u001B[A\u001B[A\n",
      "\n",
      "Selecting Coreset Indices.:  42%|████▏     | 967/2313 [00:11<00:22, 59.46it/s]\u001B[A\u001B[A\n",
      "\n",
      "Selecting Coreset Indices.:  42%|████▏     | 980/2313 [00:11<00:19, 70.14it/s]\u001B[A\u001B[A\n",
      "\n",
      "Selecting Coreset Indices.:  43%|████▎     | 995/2313 [00:11<00:15, 86.37it/s]\u001B[A\u001B[A\n",
      "\n",
      "Selecting Coreset Indices.:  43%|████▎     | 1006/2313 [00:11<00:17, 74.02it/s]\u001B[A\u001B[A\n",
      "\n",
      "Selecting Coreset Indices.:  44%|████▍     | 1015/2313 [00:11<00:19, 67.27it/s]\u001B[A\u001B[A\n",
      "\n",
      "Selecting Coreset Indices.:  44%|████▍     | 1028/2313 [00:11<00:16, 78.25it/s]\u001B[A\u001B[A\n",
      "\n",
      "Selecting Coreset Indices.:  45%|████▌     | 1042/2313 [00:11<00:14, 90.36it/s]\u001B[A\u001B[A\n",
      "\n",
      "Selecting Coreset Indices.:  46%|████▌     | 1053/2313 [00:12<00:14, 88.58it/s]\u001B[A\u001B[A\n",
      "\n",
      "Selecting Coreset Indices.:  46%|████▌     | 1063/2313 [00:12<00:14, 84.86it/s]\u001B[A\u001B[A\n",
      "\n",
      "Selecting Coreset Indices.:  46%|████▋     | 1074/2313 [00:12<00:14, 87.81it/s]\u001B[A\u001B[A\n",
      "\n",
      "Selecting Coreset Indices.:  47%|████▋     | 1084/2313 [00:12<00:14, 83.98it/s]\u001B[A\u001B[A\n",
      "\n",
      "Selecting Coreset Indices.:  47%|████▋     | 1093/2313 [00:12<00:14, 84.79it/s]\u001B[A\u001B[A\n",
      "\n",
      "Selecting Coreset Indices.:  48%|████▊     | 1102/2313 [00:12<00:17, 70.60it/s]\u001B[A\u001B[A\n",
      "\n",
      "Selecting Coreset Indices.:  48%|████▊     | 1114/2313 [00:12<00:14, 81.68it/s]\u001B[A\u001B[A\n",
      "\n",
      "Selecting Coreset Indices.:  49%|████▊     | 1127/2313 [00:13<00:13, 91.19it/s]\u001B[A\u001B[A\n",
      "\n",
      "Selecting Coreset Indices.:  49%|████▉     | 1144/2313 [00:13<00:10, 111.32it/s]\u001B[A\u001B[A\n",
      "\n",
      "Selecting Coreset Indices.:  50%|████▉     | 1156/2313 [00:13<00:10, 107.06it/s]\u001B[A\u001B[A\n",
      "\n",
      "Selecting Coreset Indices.:  50%|█████     | 1168/2313 [00:13<00:12, 92.30it/s] \u001B[A\u001B[A\n",
      "\n",
      "Selecting Coreset Indices.:  51%|█████     | 1185/2313 [00:13<00:10, 110.56it/s]\u001B[A\u001B[A\n",
      "\n",
      "Selecting Coreset Indices.:  52%|█████▏    | 1210/2313 [00:13<00:07, 145.57it/s]\u001B[A\u001B[A\n",
      "\n",
      "Selecting Coreset Indices.:  54%|█████▎    | 1240/2313 [00:13<00:05, 185.57it/s]\u001B[A\u001B[A\n",
      "\n",
      "Selecting Coreset Indices.:  54%|█████▍    | 1260/2313 [00:13<00:06, 169.32it/s]\u001B[A\u001B[A\n",
      "\n",
      "Selecting Coreset Indices.:  55%|█████▌    | 1279/2313 [00:14<00:07, 144.63it/s]\u001B[A\u001B[A\n",
      "\n",
      "Selecting Coreset Indices.:  56%|█████▌    | 1295/2313 [00:14<00:06, 146.20it/s]\u001B[A\u001B[A\n",
      "\n",
      "Selecting Coreset Indices.:  57%|█████▋    | 1319/2313 [00:14<00:05, 168.89it/s]\u001B[A\u001B[A\n",
      "\n",
      "Selecting Coreset Indices.:  58%|█████▊    | 1338/2313 [00:14<00:07, 138.87it/s]\u001B[A\u001B[A\n",
      "\n",
      "Selecting Coreset Indices.:  59%|█████▊    | 1354/2313 [00:14<00:07, 122.46it/s]\u001B[A\u001B[A\n",
      "\n",
      "Selecting Coreset Indices.:  59%|█████▉    | 1369/2313 [00:14<00:07, 127.60it/s]\u001B[A\u001B[A\n",
      "\n",
      "Selecting Coreset Indices.:  60%|█████▉    | 1383/2313 [00:14<00:07, 124.90it/s]\u001B[A\u001B[A\n",
      "\n",
      "Selecting Coreset Indices.:  60%|██████    | 1399/2313 [00:14<00:06, 132.33it/s]\u001B[A\u001B[A\n",
      "\n",
      "Selecting Coreset Indices.:  61%|██████    | 1416/2313 [00:15<00:06, 132.89it/s]\u001B[A\u001B[A\n",
      "\n",
      "Selecting Coreset Indices.:  62%|██████▏   | 1430/2313 [00:15<00:06, 127.89it/s]\u001B[A\u001B[A\n",
      "\n",
      "Selecting Coreset Indices.:  62%|██████▏   | 1444/2313 [00:15<00:06, 128.42it/s]\u001B[A\u001B[A\n",
      "\n",
      "Selecting Coreset Indices.:  63%|██████▎   | 1460/2313 [00:15<00:06, 136.13it/s]\u001B[A\u001B[A\n",
      "\n",
      "Selecting Coreset Indices.:  64%|██████▎   | 1474/2313 [00:15<00:06, 125.14it/s]\u001B[A\u001B[A\n",
      "\n",
      "Selecting Coreset Indices.:  64%|██████▍   | 1487/2313 [00:15<00:06, 121.78it/s]\u001B[A\u001B[A\n",
      "\n",
      "Selecting Coreset Indices.:  65%|██████▍   | 1500/2313 [00:15<00:07, 111.25it/s]\u001B[A\u001B[A\n",
      "\n",
      "Selecting Coreset Indices.:  65%|██████▌   | 1513/2313 [00:15<00:07, 112.08it/s]\u001B[A\u001B[A\n",
      "\n",
      "Selecting Coreset Indices.:  66%|██████▌   | 1525/2313 [00:16<00:07, 110.17it/s]\u001B[A\u001B[A\n",
      "\n",
      "Selecting Coreset Indices.:  67%|██████▋   | 1540/2313 [00:16<00:06, 120.62it/s]\u001B[A\u001B[A\n",
      "\n",
      "Selecting Coreset Indices.:  67%|██████▋   | 1553/2313 [00:16<00:08, 92.69it/s] \u001B[A\u001B[A\n",
      "\n",
      "Selecting Coreset Indices.:  68%|██████▊   | 1564/2313 [00:16<00:07, 95.64it/s]\u001B[A\u001B[A\n",
      "\n",
      "Selecting Coreset Indices.:  68%|██████▊   | 1575/2313 [00:16<00:07, 97.46it/s]\u001B[A\u001B[A\n",
      "\n",
      "Selecting Coreset Indices.:  69%|██████▊   | 1590/2313 [00:16<00:06, 109.77it/s]\u001B[A\u001B[A\n",
      "\n",
      "Selecting Coreset Indices.:  69%|██████▉   | 1607/2313 [00:16<00:05, 124.88it/s]\u001B[A\u001B[A\n",
      "\n",
      "Selecting Coreset Indices.:  70%|███████   | 1621/2313 [00:16<00:05, 124.89it/s]\u001B[A\u001B[A\n",
      "\n",
      "Selecting Coreset Indices.:  71%|███████   | 1634/2313 [00:16<00:05, 125.19it/s]\u001B[A\u001B[A\n",
      "\n",
      "Selecting Coreset Indices.:  71%|███████   | 1647/2313 [00:17<00:06, 99.55it/s] \u001B[A\u001B[A\n",
      "\n",
      "Selecting Coreset Indices.:  72%|███████▏  | 1659/2313 [00:17<00:06, 104.43it/s]\u001B[A\u001B[A\n",
      "\n",
      "Selecting Coreset Indices.:  72%|███████▏  | 1671/2313 [00:17<00:05, 108.36it/s]\u001B[A\u001B[A\n",
      "\n",
      "Selecting Coreset Indices.:  73%|███████▎  | 1683/2313 [00:17<00:05, 110.69it/s]\u001B[A\u001B[A\n",
      "\n",
      "Selecting Coreset Indices.:  73%|███████▎  | 1695/2313 [00:17<00:06, 97.99it/s] \u001B[A\u001B[A\n",
      "\n",
      "Selecting Coreset Indices.:  74%|███████▍  | 1706/2313 [00:17<00:06, 91.38it/s]\u001B[A\u001B[A\n",
      "\n",
      "Selecting Coreset Indices.:  74%|███████▍  | 1718/2313 [00:17<00:06, 97.72it/s]\u001B[A\u001B[A\n",
      "\n",
      "Selecting Coreset Indices.:  75%|███████▌  | 1736/2313 [00:17<00:04, 117.89it/s]\u001B[A\u001B[A\n",
      "\n",
      "Selecting Coreset Indices.:  76%|███████▌  | 1749/2313 [00:18<00:05, 104.81it/s]\u001B[A\u001B[A\n",
      "\n",
      "Selecting Coreset Indices.:  76%|███████▌  | 1761/2313 [00:18<00:05, 101.31it/s]\u001B[A\u001B[A\n",
      "\n",
      "Selecting Coreset Indices.:  77%|███████▋  | 1772/2313 [00:18<00:06, 86.62it/s] \u001B[A\u001B[A\n",
      "\n",
      "Selecting Coreset Indices.:  77%|███████▋  | 1787/2313 [00:18<00:05, 99.50it/s]\u001B[A\u001B[A\n",
      "\n",
      "Selecting Coreset Indices.:  78%|███████▊  | 1798/2313 [00:18<00:05, 92.13it/s]\u001B[A\u001B[A\n",
      "\n",
      "Selecting Coreset Indices.:  78%|███████▊  | 1808/2313 [00:18<00:05, 93.42it/s]\u001B[A\u001B[A\n",
      "\n",
      "Selecting Coreset Indices.:  79%|███████▊  | 1820/2313 [00:18<00:05, 98.15it/s]\u001B[A\u001B[A\n",
      "\n",
      "Selecting Coreset Indices.:  79%|███████▉  | 1831/2313 [00:19<00:04, 98.39it/s]\u001B[A\u001B[A\n",
      "\n",
      "Selecting Coreset Indices.:  80%|███████▉  | 1846/2313 [00:19<00:04, 111.12it/s]\u001B[A\u001B[A\n",
      "\n",
      "Selecting Coreset Indices.:  80%|████████  | 1858/2313 [00:19<00:04, 92.99it/s] \u001B[A\u001B[A\n",
      "\n",
      "Selecting Coreset Indices.:  81%|████████  | 1869/2313 [00:19<00:04, 96.55it/s]\u001B[A\u001B[A\n",
      "\n",
      "Selecting Coreset Indices.:  81%|████████▏ | 1882/2313 [00:19<00:04, 104.36it/s]\u001B[A\u001B[A\n",
      "\n",
      "Selecting Coreset Indices.:  82%|████████▏ | 1903/2313 [00:19<00:03, 131.72it/s]\u001B[A\u001B[A\n",
      "\n",
      "Selecting Coreset Indices.:  83%|████████▎ | 1917/2313 [00:19<00:03, 118.46it/s]\u001B[A\u001B[A\n",
      "\n",
      "Selecting Coreset Indices.:  83%|████████▎ | 1930/2313 [00:21<00:16, 22.93it/s] \u001B[A\u001B[A\n",
      "\n",
      "Selecting Coreset Indices.:  84%|████████▍ | 1941/2313 [00:21<00:13, 28.43it/s]\u001B[A\u001B[A\n",
      "\n",
      "Selecting Coreset Indices.:  85%|████████▍ | 1955/2313 [00:21<00:09, 37.48it/s]\u001B[A\u001B[A\n",
      "\n",
      "Selecting Coreset Indices.:  85%|████████▌ | 1969/2313 [00:21<00:07, 48.37it/s]\u001B[A\u001B[A\n",
      "\n",
      "Selecting Coreset Indices.:  86%|████████▌ | 1981/2313 [00:21<00:05, 57.65it/s]\u001B[A\u001B[A\n",
      "\n",
      "Selecting Coreset Indices.:  86%|████████▌ | 1993/2313 [00:22<00:04, 66.22it/s]\u001B[A\u001B[A\n",
      "\n",
      "Selecting Coreset Indices.:  87%|████████▋ | 2005/2313 [00:22<00:04, 70.39it/s]\u001B[A\u001B[A\n",
      "\n",
      "Selecting Coreset Indices.:  87%|████████▋ | 2016/2313 [00:22<00:03, 77.03it/s]\u001B[A\u001B[A\n",
      "\n",
      "Selecting Coreset Indices.:  88%|████████▊ | 2034/2313 [00:22<00:02, 98.97it/s]\u001B[A\u001B[A\n",
      "\n",
      "Selecting Coreset Indices.:  89%|████████▉ | 2057/2313 [00:22<00:02, 123.82it/s]\u001B[A\u001B[A\n",
      "\n",
      "Selecting Coreset Indices.:  90%|████████▉ | 2072/2313 [00:22<00:02, 119.69it/s]\u001B[A\u001B[A\n",
      "\n",
      "Selecting Coreset Indices.:  90%|█████████ | 2089/2313 [00:22<00:01, 130.03it/s]\u001B[A\u001B[A\n",
      "\n",
      "Selecting Coreset Indices.:  91%|█████████ | 2104/2313 [00:22<00:01, 116.44it/s]\u001B[A\u001B[A\n",
      "\n",
      "Selecting Coreset Indices.:  92%|█████████▏| 2118/2313 [00:23<00:01, 121.87it/s]\u001B[A\u001B[A\n",
      "\n",
      "Selecting Coreset Indices.:  92%|█████████▏| 2132/2313 [00:23<00:01, 113.38it/s]\u001B[A\u001B[A\n",
      "\n",
      "Selecting Coreset Indices.:  93%|█████████▎| 2145/2313 [00:23<00:01, 115.00it/s]\u001B[A\u001B[A\n",
      "\n",
      "Selecting Coreset Indices.:  94%|█████████▎| 2163/2313 [00:23<00:01, 130.59it/s]\u001B[A\u001B[A\n",
      "\n",
      "Selecting Coreset Indices.:  94%|█████████▍| 2178/2313 [00:23<00:01, 134.50it/s]\u001B[A\u001B[A\n",
      "\n",
      "Selecting Coreset Indices.:  95%|█████████▍| 2192/2313 [00:23<00:00, 124.91it/s]\u001B[A\u001B[A\n",
      "\n",
      "Selecting Coreset Indices.:  95%|█████████▌| 2205/2313 [00:23<00:00, 124.85it/s]\u001B[A\u001B[A\n",
      "\n",
      "Selecting Coreset Indices.:  96%|█████████▌| 2218/2313 [00:23<00:00, 108.74it/s]\u001B[A\u001B[A\n",
      "\n",
      "Selecting Coreset Indices.:  96%|█████████▋| 2230/2313 [00:24<00:00, 97.81it/s] \u001B[A\u001B[A\n",
      "\n",
      "Selecting Coreset Indices.:  97%|█████████▋| 2243/2313 [00:24<00:00, 105.20it/s]\u001B[A\u001B[A\n",
      "\n",
      "Selecting Coreset Indices.:  97%|█████████▋| 2255/2313 [00:24<00:00, 86.33it/s] \u001B[A\u001B[A\n",
      "\n",
      "Selecting Coreset Indices.:  98%|█████████▊| 2266/2313 [00:24<00:00, 90.53it/s]\u001B[A\u001B[A\n",
      "\n",
      "Selecting Coreset Indices.:  98%|█████████▊| 2277/2313 [00:24<00:00, 94.15it/s]\u001B[A\u001B[A\n",
      "\n",
      "Selecting Coreset Indices.: 100%|██████████| 2313/2313 [00:24<00:00, 93.40it/s] \u001B[A\u001B[A\n",
      "INFO:lightning_fabric.utilities.rank_zero:`Trainer.fit` stopped: `max_epochs=1` reached.\n",
      "INFO:anomalib.callbacks.timer:Training took 47.45 seconds\n",
      "INFO:lightning_fabric.utilities.rank_zero:The following callbacks returned in `LightningModule.configure_callbacks` will override existing callbacks passed to Trainer: Evaluator, ImageVisualizer, PostProcessor, PreProcessor\n",
      "INFO:anomalib.data.datamodules.image.mvtecad:Found the dataset.\n"
     ]
    },
    {
     "data": {
      "text/plain": [
       "Testing: |          | 0/? [00:00<?, ?it/s]"
      ],
      "application/vnd.jupyter.widget-view+json": {
       "version_major": 2,
       "version_minor": 0,
       "model_id": "348f9453b9494d3497ea1ad13c2f783a"
      }
     },
     "metadata": {},
     "output_type": "display_data"
    },
    {
     "name": "stderr",
     "output_type": "stream",
     "text": [
      "INFO:anomalib.callbacks.timer:Testing took 80.53145337104797 seconds\n",
      "Throughput (batch_size=32) : 1.0306531985406773 FPS\n"
     ]
    },
    {
     "data": {
      "text/plain": [
       "┏━━━━━━━━━━━━━━━━━━━━━━━━━━━┳━━━━━━━━━━━━━━━━━━━━━━━━━━━┓\n",
       "┃\u001B[1m \u001B[0m\u001B[1m       Test metric       \u001B[0m\u001B[1m \u001B[0m┃\u001B[1m \u001B[0m\u001B[1m      DataLoader 0       \u001B[0m\u001B[1m \u001B[0m┃\n",
       "┡━━━━━━━━━━━━━━━━━━━━━━━━━━━╇━━━━━━━━━━━━━━━━━━━━━━━━━━━┩\n",
       "│\u001B[36m \u001B[0m\u001B[36m       image_AUROC       \u001B[0m\u001B[36m \u001B[0m│\u001B[35m \u001B[0m\u001B[35m           1.0           \u001B[0m\u001B[35m \u001B[0m│\n",
       "│\u001B[36m \u001B[0m\u001B[36m      image_F1Score      \u001B[0m\u001B[36m \u001B[0m│\u001B[35m \u001B[0m\u001B[35m   0.9919999837875366    \u001B[0m\u001B[35m \u001B[0m│\n",
       "│\u001B[36m \u001B[0m\u001B[36m       pixel_AUROC       \u001B[0m\u001B[36m \u001B[0m│\u001B[35m \u001B[0m\u001B[35m    0.972415566444397    \u001B[0m\u001B[35m \u001B[0m│\n",
       "│\u001B[36m \u001B[0m\u001B[36m      pixel_F1Score      \u001B[0m\u001B[36m \u001B[0m│\u001B[35m \u001B[0m\u001B[35m   0.6803697347640991    \u001B[0m\u001B[35m \u001B[0m│\n",
       "└───────────────────────────┴───────────────────────────┘\n"
      ],
      "text/html": [
       "<pre style=\"white-space:pre;overflow-x:auto;line-height:normal;font-family:Menlo,'DejaVu Sans Mono',consolas,'Courier New',monospace\">┏━━━━━━━━━━━━━━━━━━━━━━━━━━━┳━━━━━━━━━━━━━━━━━━━━━━━━━━━┓\n",
       "┃<span style=\"font-weight: bold\">        Test metric        </span>┃<span style=\"font-weight: bold\">       DataLoader 0        </span>┃\n",
       "┡━━━━━━━━━━━━━━━━━━━━━━━━━━━╇━━━━━━━━━━━━━━━━━━━━━━━━━━━┩\n",
       "│<span style=\"color: #008080; text-decoration-color: #008080\">        image_AUROC        </span>│<span style=\"color: #800080; text-decoration-color: #800080\">            1.0            </span>│\n",
       "│<span style=\"color: #008080; text-decoration-color: #008080\">       image_F1Score       </span>│<span style=\"color: #800080; text-decoration-color: #800080\">    0.9919999837875366     </span>│\n",
       "│<span style=\"color: #008080; text-decoration-color: #008080\">        pixel_AUROC        </span>│<span style=\"color: #800080; text-decoration-color: #800080\">     0.972415566444397     </span>│\n",
       "│<span style=\"color: #008080; text-decoration-color: #008080\">       pixel_F1Score       </span>│<span style=\"color: #800080; text-decoration-color: #800080\">    0.6803697347640991     </span>│\n",
       "└───────────────────────────┴───────────────────────────┘\n",
       "</pre>\n"
      ]
     },
     "metadata": {},
     "output_type": "display_data"
    },
    {
     "name": "stdout",
     "output_type": "stream",
     "text": [
      "[{'image_AUROC': 1.0, 'image_F1Score': 0.9919999837875366, 'pixel_AUROC': 0.972415566444397, 'pixel_F1Score': 0.6803697347640991}]\n"
     ]
    },
    {
     "name": "stderr",
     "output_type": "stream",
     "text": [
      "[I 2025-04-09 21:23:52,652] Trial 6 finished with value: 1.0 and parameters: {'backbone': 'resnet18', 'coreset_sampling_ratio': 0.49172729440582524, 'num_neighbors': 85}. Best is trial 0 with value: 1.0.\n",
      "INFO:anomalib.models.components.base.anomalib_module:Initializing Patchcore model.\n",
      "INFO:timm.models._builder:Loading pretrained weights from Hugging Face hub (timm/wide_resnet50_2.racm_in1k)\n",
      "INFO:timm.models._hub:[timm/wide_resnet50_2.racm_in1k] Safe alternative available for 'pytorch_model.bin' (as 'model.safetensors'). Loading weights using safetensors.\n",
      "INFO:timm.models._builder:Missing keys (fc.weight, fc.bias) discovered while loading pretrained weights. This is expected if model is being adapted.\n",
      "/tmp/ipykernel_13568/599406512.py:27: DeprecationWarning:\n",
      "\n",
      "MVTec is deprecated and will be removed in a future version. Please use MVTecAD instead.\n",
      "\n",
      "INFO:lightning_fabric.utilities.rank_zero:GPU available: False, used: False\n",
      "INFO:lightning_fabric.utilities.rank_zero:TPU available: False, using: 0 TPU cores\n",
      "INFO:lightning_fabric.utilities.rank_zero:HPU available: False, using: 0 HPUs\n",
      "INFO:anomalib.data.datamodules.image.mvtecad:Found the dataset.\n",
      "/home/pawel/.local/lib/python3.10/site-packages/lightning/pytorch/core/optimizer.py:183: UserWarning:\n",
      "\n",
      "`LightningModule.configure_optimizers` returned `None`, this fit will run with no optimizer\n",
      "\n",
      "\n",
      "  | Name           | Type           | Params | Mode \n",
      "----------------------------------------------------------\n",
      "0 | pre_processor  | PreProcessor   | 0      | train\n",
      "1 | post_processor | PostProcessor  | 0      | train\n",
      "2 | evaluator      | Evaluator      | 0      | train\n",
      "3 | model          | PatchcoreModel | 24.9 M | train\n",
      "----------------------------------------------------------\n",
      "24.9 M    Trainable params\n",
      "0         Non-trainable params\n",
      "24.9 M    Total params\n",
      "99.450    Total estimated model params size (MB)\n",
      "19        Modules in train mode\n",
      "174       Modules in eval mode\n"
     ]
    },
    {
     "data": {
      "text/plain": [
       "Training: |          | 0/? [00:00<?, ?it/s]"
      ],
      "application/vnd.jupyter.widget-view+json": {
       "version_major": 2,
       "version_minor": 0,
       "model_id": "84b2583979a448dbb75ce4a38072e5b2"
      }
     },
     "metadata": {},
     "output_type": "display_data"
    },
    {
     "data": {
      "text/plain": [
       "Validation: |          | 0/? [00:00<?, ?it/s]"
      ],
      "application/vnd.jupyter.widget-view+json": {
       "version_major": 2,
       "version_minor": 0,
       "model_id": "74a0312e33de4b29b5d2dac91764f797"
      }
     },
     "metadata": {},
     "output_type": "display_data"
    },
    {
     "name": "stderr",
     "output_type": "stream",
     "text": [
      "INFO:anomalib.models.image.patchcore.lightning_model:Aggregating the embedding extracted from the training set.\n",
      "INFO:anomalib.models.image.patchcore.lightning_model:Applying core-set subsampling to get the embedding.\n",
      "\n",
      "\n",
      "Selecting Coreset Indices.:   0%|          | 0/1715 [00:00<?, ?it/s]\u001B[A\u001B[A\n",
      "\n",
      "Selecting Coreset Indices.:   0%|          | 7/1715 [00:00<00:26, 63.29it/s]\u001B[A\u001B[A\n",
      "\n",
      "Selecting Coreset Indices.:   1%|          | 21/1715 [00:00<00:15, 105.99it/s]\u001B[A\u001B[A\n",
      "\n",
      "Selecting Coreset Indices.:   2%|▏         | 34/1715 [00:00<00:14, 114.97it/s]\u001B[A\u001B[A\n",
      "\n",
      "Selecting Coreset Indices.:   3%|▎         | 47/1715 [00:00<00:15, 108.68it/s]\u001B[A\u001B[A\n",
      "\n",
      "Selecting Coreset Indices.:   3%|▎         | 59/1715 [00:00<00:24, 67.90it/s] \u001B[A\u001B[A\n",
      "\n",
      "Selecting Coreset Indices.:   4%|▍         | 68/1715 [00:00<00:26, 62.54it/s]\u001B[A\u001B[A\n",
      "\n",
      "Selecting Coreset Indices.:   4%|▍         | 76/1715 [00:01<00:26, 62.41it/s]\u001B[A\u001B[A\n",
      "\n",
      "Selecting Coreset Indices.:   5%|▍         | 83/1715 [00:01<00:25, 64.10it/s]\u001B[A\u001B[A\n",
      "\n",
      "Selecting Coreset Indices.:   5%|▌         | 90/1715 [00:01<00:28, 56.56it/s]\u001B[A\u001B[A\n",
      "\n",
      "Selecting Coreset Indices.:   6%|▌         | 97/1715 [00:01<00:29, 54.74it/s]\u001B[A\u001B[A\n",
      "\n",
      "Selecting Coreset Indices.:   6%|▌         | 103/1715 [00:01<00:31, 51.17it/s]\u001B[A\u001B[A\n",
      "\n",
      "Selecting Coreset Indices.:   6%|▋         | 110/1715 [00:01<00:29, 54.37it/s]\u001B[A\u001B[A\n",
      "\n",
      "Selecting Coreset Indices.:   7%|▋         | 116/1715 [00:01<00:29, 53.69it/s]\u001B[A\u001B[A\n",
      "\n",
      "Selecting Coreset Indices.:   7%|▋         | 123/1715 [00:01<00:29, 54.61it/s]\u001B[A\u001B[A\n",
      "\n",
      "Selecting Coreset Indices.:   8%|▊         | 129/1715 [00:02<00:31, 50.15it/s]\u001B[A\u001B[A\n",
      "\n",
      "Selecting Coreset Indices.:   8%|▊         | 135/1715 [00:02<00:31, 50.24it/s]\u001B[A\u001B[A\n",
      "\n",
      "Selecting Coreset Indices.:   8%|▊         | 142/1715 [00:02<00:29, 53.41it/s]\u001B[A\u001B[A\n",
      "\n",
      "Selecting Coreset Indices.:   9%|▊         | 148/1715 [00:02<00:29, 53.90it/s]\u001B[A\u001B[A\n",
      "\n",
      "Selecting Coreset Indices.:   9%|▉         | 154/1715 [00:02<00:33, 46.26it/s]\u001B[A\u001B[A\n",
      "\n",
      "Selecting Coreset Indices.:   9%|▉         | 159/1715 [00:02<00:38, 40.57it/s]\u001B[A\u001B[A\n",
      "\n",
      "Selecting Coreset Indices.:  10%|▉         | 164/1715 [00:02<00:38, 40.05it/s]\u001B[A\u001B[A\n",
      "\n",
      "Selecting Coreset Indices.:  10%|▉         | 169/1715 [00:03<00:41, 37.35it/s]\u001B[A\u001B[A\n",
      "\n",
      "Selecting Coreset Indices.:  10%|█         | 173/1715 [00:03<00:40, 37.70it/s]\u001B[A\u001B[A\n",
      "\n",
      "Selecting Coreset Indices.:  10%|█         | 177/1715 [00:03<00:46, 33.37it/s]\u001B[A\u001B[A\n",
      "\n",
      "Selecting Coreset Indices.:  11%|█         | 181/1715 [00:03<00:44, 34.16it/s]\u001B[A\u001B[A\n",
      "\n",
      "Selecting Coreset Indices.:  11%|█         | 185/1715 [00:03<00:51, 29.93it/s]\u001B[A\u001B[A\n",
      "\n",
      "Selecting Coreset Indices.:  11%|█         | 189/1715 [00:03<00:48, 31.18it/s]\u001B[A\u001B[A\n",
      "\n",
      "Selecting Coreset Indices.:  11%|█▏        | 193/1715 [00:03<00:47, 31.97it/s]\u001B[A\u001B[A\n",
      "\n",
      "Selecting Coreset Indices.:  11%|█▏        | 197/1715 [00:04<00:50, 29.79it/s]\u001B[A\u001B[A\n",
      "\n",
      "Selecting Coreset Indices.:  12%|█▏        | 201/1715 [00:04<00:50, 29.78it/s]\u001B[A\u001B[A\n",
      "\n",
      "Selecting Coreset Indices.:  12%|█▏        | 205/1715 [00:04<00:47, 31.59it/s]\u001B[A\u001B[A\n",
      "\n",
      "Selecting Coreset Indices.:  12%|█▏        | 212/1715 [00:04<00:37, 39.60it/s]\u001B[A\u001B[A\n",
      "\n",
      "Selecting Coreset Indices.:  13%|█▎        | 217/1715 [00:04<00:45, 33.16it/s]\u001B[A\u001B[A\n",
      "\n",
      "Selecting Coreset Indices.:  13%|█▎        | 223/1715 [00:04<00:38, 38.48it/s]\u001B[A\u001B[A\n",
      "\n",
      "Selecting Coreset Indices.:  13%|█▎        | 228/1715 [00:04<00:38, 38.21it/s]\u001B[A\u001B[A\n",
      "\n",
      "Selecting Coreset Indices.:  14%|█▍        | 239/1715 [00:04<00:29, 50.69it/s]\u001B[A\u001B[A\n",
      "\n",
      "Selecting Coreset Indices.:  14%|█▍        | 245/1715 [00:05<00:30, 48.23it/s]\u001B[A\u001B[A\n",
      "\n",
      "Selecting Coreset Indices.:  15%|█▌        | 261/1715 [00:05<00:19, 74.13it/s]\u001B[A\u001B[A\n",
      "\n",
      "Selecting Coreset Indices.:  16%|█▋        | 279/1715 [00:05<00:14, 100.62it/s]\u001B[A\u001B[A\n",
      "\n",
      "Selecting Coreset Indices.:  17%|█▋        | 292/1715 [00:05<00:13, 107.23it/s]\u001B[A\u001B[A\n",
      "\n",
      "Selecting Coreset Indices.:  18%|█▊        | 304/1715 [00:05<00:12, 109.10it/s]\u001B[A\u001B[A\n",
      "\n",
      "Selecting Coreset Indices.:  18%|█▊        | 316/1715 [00:05<00:12, 109.33it/s]\u001B[A\u001B[A\n",
      "\n",
      "Selecting Coreset Indices.:  19%|█▉        | 328/1715 [00:05<00:15, 90.79it/s] \u001B[A\u001B[A\n",
      "\n",
      "Selecting Coreset Indices.:  20%|█▉        | 338/1715 [00:05<00:14, 92.86it/s]\u001B[A\u001B[A\n",
      "\n",
      "Selecting Coreset Indices.:  20%|██        | 348/1715 [00:06<00:16, 82.32it/s]\u001B[A\u001B[A\n",
      "\n",
      "Selecting Coreset Indices.:  21%|██        | 357/1715 [00:06<00:17, 77.33it/s]\u001B[A\u001B[A\n",
      "\n",
      "Selecting Coreset Indices.:  22%|██▏       | 370/1715 [00:06<00:15, 89.04it/s]\u001B[A\u001B[A\n",
      "\n",
      "Selecting Coreset Indices.:  22%|██▏       | 380/1715 [00:06<00:18, 70.93it/s]\u001B[A\u001B[A\n",
      "\n",
      "Selecting Coreset Indices.:  23%|██▎       | 388/1715 [00:06<00:19, 68.32it/s]\u001B[A\u001B[A\n",
      "\n",
      "Selecting Coreset Indices.:  23%|██▎       | 399/1715 [00:06<00:17, 77.29it/s]\u001B[A\u001B[A\n",
      "\n",
      "Selecting Coreset Indices.:  24%|██▍       | 413/1715 [00:06<00:14, 92.18it/s]\u001B[A\u001B[A\n",
      "\n",
      "Selecting Coreset Indices.:  25%|██▍       | 427/1715 [00:06<00:12, 104.06it/s]\u001B[A\u001B[A\n",
      "\n",
      "Selecting Coreset Indices.:  26%|██▌       | 439/1715 [00:07<00:12, 103.39it/s]\u001B[A\u001B[A\n",
      "\n",
      "Selecting Coreset Indices.:  26%|██▌       | 450/1715 [00:07<00:12, 103.20it/s]\u001B[A\u001B[A\n",
      "\n",
      "Selecting Coreset Indices.:  27%|██▋       | 463/1715 [00:07<00:11, 108.36it/s]\u001B[A\u001B[A\n",
      "\n",
      "Selecting Coreset Indices.:  28%|██▊       | 476/1715 [00:07<00:10, 113.50it/s]\u001B[A\u001B[A\n",
      "\n",
      "Selecting Coreset Indices.:  29%|██▊       | 490/1715 [00:07<00:10, 120.42it/s]\u001B[A\u001B[A\n",
      "\n",
      "Selecting Coreset Indices.:  29%|██▉       | 503/1715 [00:07<00:11, 108.11it/s]\u001B[A\u001B[A\n",
      "\n",
      "Selecting Coreset Indices.:  30%|███       | 518/1715 [00:07<00:10, 118.67it/s]\u001B[A\u001B[A\n",
      "\n",
      "Selecting Coreset Indices.:  31%|███       | 531/1715 [00:07<00:10, 112.81it/s]\u001B[A\u001B[A\n",
      "\n",
      "Selecting Coreset Indices.:  32%|███▏      | 543/1715 [00:07<00:10, 111.83it/s]\u001B[A\u001B[A\n",
      "\n",
      "Selecting Coreset Indices.:  32%|███▏      | 555/1715 [00:08<00:11, 104.05it/s]\u001B[A\u001B[A\n",
      "\n",
      "Selecting Coreset Indices.:  33%|███▎      | 566/1715 [00:08<00:15, 76.37it/s] \u001B[A\u001B[A\n",
      "\n",
      "Selecting Coreset Indices.:  34%|███▎      | 575/1715 [00:08<00:17, 64.36it/s]\u001B[A\u001B[A\n",
      "\n",
      "Selecting Coreset Indices.:  34%|███▍      | 583/1715 [00:08<00:17, 64.14it/s]\u001B[A\u001B[A\n",
      "\n",
      "Selecting Coreset Indices.:  34%|███▍      | 591/1715 [00:08<00:17, 63.86it/s]\u001B[A\u001B[A\n",
      "\n",
      "Selecting Coreset Indices.:  35%|███▌      | 601/1715 [00:08<00:15, 71.42it/s]\u001B[A\u001B[A\n",
      "\n",
      "Selecting Coreset Indices.:  36%|███▌      | 609/1715 [00:09<00:16, 67.87it/s]\u001B[A\u001B[A\n",
      "\n",
      "Selecting Coreset Indices.:  36%|███▌      | 617/1715 [00:09<00:17, 64.56it/s]\u001B[A\u001B[A\n",
      "\n",
      "Selecting Coreset Indices.:  36%|███▋      | 624/1715 [00:09<00:17, 63.50it/s]\u001B[A\u001B[A\n",
      "\n",
      "Selecting Coreset Indices.:  37%|███▋      | 631/1715 [00:09<00:17, 60.76it/s]\u001B[A\u001B[A\n",
      "\n",
      "Selecting Coreset Indices.:  37%|███▋      | 638/1715 [00:09<00:18, 58.64it/s]\u001B[A\u001B[A\n",
      "\n",
      "Selecting Coreset Indices.:  38%|███▊      | 644/1715 [00:09<00:19, 55.14it/s]\u001B[A\u001B[A\n",
      "\n",
      "Selecting Coreset Indices.:  38%|███▊      | 652/1715 [00:09<00:17, 61.18it/s]\u001B[A\u001B[A\n",
      "\n",
      "Selecting Coreset Indices.:  38%|███▊      | 660/1715 [00:09<00:16, 65.53it/s]\u001B[A\u001B[A\n",
      "\n",
      "Selecting Coreset Indices.:  39%|███▉      | 672/1715 [00:10<00:13, 79.44it/s]\u001B[A\u001B[A\n",
      "\n",
      "Selecting Coreset Indices.:  40%|███▉      | 681/1715 [00:10<00:15, 66.00it/s]\u001B[A\u001B[A\n",
      "\n",
      "Selecting Coreset Indices.:  40%|████      | 689/1715 [00:10<00:15, 66.37it/s]\u001B[A\u001B[A\n",
      "\n",
      "Selecting Coreset Indices.:  41%|████      | 697/1715 [00:10<00:15, 64.39it/s]\u001B[A\u001B[A\n",
      "\n",
      "Selecting Coreset Indices.:  41%|████▏     | 708/1715 [00:10<00:13, 75.45it/s]\u001B[A\u001B[A\n",
      "\n",
      "Selecting Coreset Indices.:  42%|████▏     | 718/1715 [00:10<00:12, 81.01it/s]\u001B[A\u001B[A\n",
      "\n",
      "Selecting Coreset Indices.:  42%|████▏     | 727/1715 [00:10<00:12, 79.11it/s]\u001B[A\u001B[A\n",
      "\n",
      "Selecting Coreset Indices.:  43%|████▎     | 739/1715 [00:10<00:11, 86.83it/s]\u001B[A\u001B[A\n",
      "\n",
      "Selecting Coreset Indices.:  44%|████▍     | 751/1715 [00:10<00:10, 93.49it/s]\u001B[A\u001B[A\n",
      "\n",
      "Selecting Coreset Indices.:  44%|████▍     | 761/1715 [00:11<00:13, 73.31it/s]\u001B[A\u001B[A\n",
      "\n",
      "Selecting Coreset Indices.:  45%|████▍     | 770/1715 [00:11<00:13, 71.20it/s]\u001B[A\u001B[A\n",
      "\n",
      "Selecting Coreset Indices.:  45%|████▌     | 778/1715 [00:11<00:13, 70.48it/s]\u001B[A\u001B[A\n",
      "\n",
      "Selecting Coreset Indices.:  46%|████▌     | 786/1715 [00:11<00:13, 69.11it/s]\u001B[A\u001B[A\n",
      "\n",
      "Selecting Coreset Indices.:  46%|████▋     | 796/1715 [00:11<00:12, 76.38it/s]\u001B[A\u001B[A\n",
      "\n",
      "Selecting Coreset Indices.:  47%|████▋     | 805/1715 [00:11<00:12, 75.19it/s]\u001B[A\u001B[A\n",
      "\n",
      "Selecting Coreset Indices.:  47%|████▋     | 814/1715 [00:11<00:11, 78.53it/s]\u001B[A\u001B[A\n",
      "\n",
      "Selecting Coreset Indices.:  48%|████▊     | 823/1715 [00:12<00:11, 75.93it/s]\u001B[A\u001B[A\n",
      "\n",
      "Selecting Coreset Indices.:  49%|████▉     | 839/1715 [00:12<00:09, 97.26it/s]\u001B[A\u001B[A\n",
      "\n",
      "Selecting Coreset Indices.:  50%|████▉     | 850/1715 [00:12<00:08, 99.93it/s]\u001B[A\u001B[A\n",
      "\n",
      "Selecting Coreset Indices.:  50%|█████     | 861/1715 [00:12<00:09, 93.37it/s]\u001B[A\u001B[A\n",
      "\n",
      "Selecting Coreset Indices.:  51%|█████     | 872/1715 [00:12<00:08, 97.14it/s]\u001B[A\u001B[A\n",
      "\n",
      "Selecting Coreset Indices.:  51%|█████▏    | 883/1715 [00:12<00:08, 95.18it/s]\u001B[A\u001B[A\n",
      "\n",
      "Selecting Coreset Indices.:  52%|█████▏    | 893/1715 [00:12<00:09, 83.27it/s]\u001B[A\u001B[A\n",
      "\n",
      "Selecting Coreset Indices.:  53%|█████▎    | 902/1715 [00:12<00:09, 82.36it/s]\u001B[A\u001B[A\n",
      "\n",
      "Selecting Coreset Indices.:  53%|█████▎    | 913/1715 [00:12<00:08, 89.33it/s]\u001B[A\u001B[A\n",
      "\n",
      "Selecting Coreset Indices.:  54%|█████▍    | 923/1715 [00:13<00:10, 76.40it/s]\u001B[A\u001B[A\n",
      "\n",
      "Selecting Coreset Indices.:  54%|█████▍    | 932/1715 [00:13<00:10, 78.15it/s]\u001B[A\u001B[A\n",
      "\n",
      "Selecting Coreset Indices.:  55%|█████▍    | 941/1715 [00:13<00:10, 74.90it/s]\u001B[A\u001B[A\n",
      "\n",
      "Selecting Coreset Indices.:  55%|█████▌    | 949/1715 [00:13<00:11, 64.04it/s]\u001B[A\u001B[A\n",
      "\n",
      "Selecting Coreset Indices.:  56%|█████▌    | 956/1715 [00:15<00:11, 63.48it/s]\u001B[A\u001B[A\n",
      "\n",
      "Selecting Coreset Indices.:  56%|█████▌    | 963/1715 [00:15<01:03, 11.77it/s]\u001B[A\u001B[A\n",
      "\n",
      "Selecting Coreset Indices.:  57%|█████▋    | 970/1715 [00:15<00:49, 15.16it/s]\u001B[A\u001B[A\n",
      "\n",
      "Selecting Coreset Indices.:  57%|█████▋    | 980/1715 [00:15<00:33, 21.67it/s]\u001B[A\u001B[A\n",
      "\n",
      "Selecting Coreset Indices.:  58%|█████▊    | 1000/1715 [00:15<00:18, 39.33it/s]\u001B[A\u001B[A\n",
      "\n",
      "Selecting Coreset Indices.:  59%|█████▉    | 1011/1715 [00:16<00:15, 44.08it/s]\u001B[A\u001B[A\n",
      "\n",
      "Selecting Coreset Indices.:  60%|█████▉    | 1021/1715 [00:16<00:14, 49.50it/s]\u001B[A\u001B[A\n",
      "\n",
      "Selecting Coreset Indices.:  60%|██████    | 1033/1715 [00:16<00:11, 60.22it/s]\u001B[A\u001B[A\n",
      "\n",
      "Selecting Coreset Indices.:  61%|██████    | 1043/1715 [00:16<00:09, 67.29it/s]\u001B[A\u001B[A\n",
      "\n",
      "Selecting Coreset Indices.:  61%|██████▏   | 1053/1715 [00:16<00:10, 63.73it/s]\u001B[A\u001B[A\n",
      "\n",
      "Selecting Coreset Indices.:  62%|██████▏   | 1062/1715 [00:16<00:10, 61.03it/s]\u001B[A\u001B[A\n",
      "\n",
      "Selecting Coreset Indices.:  62%|██████▏   | 1071/1715 [00:16<00:09, 66.67it/s]\u001B[A\u001B[A\n",
      "\n",
      "Selecting Coreset Indices.:  63%|██████▎   | 1083/1715 [00:17<00:08, 78.34it/s]\u001B[A\u001B[A\n",
      "\n",
      "Selecting Coreset Indices.:  64%|██████▎   | 1093/1715 [00:17<00:07, 81.15it/s]\u001B[A\u001B[A\n",
      "\n",
      "Selecting Coreset Indices.:  65%|██████▍   | 1114/1715 [00:17<00:05, 113.58it/s]\u001B[A\u001B[A\n",
      "\n",
      "Selecting Coreset Indices.:  66%|██████▌   | 1133/1715 [00:17<00:04, 132.15it/s]\u001B[A\u001B[A\n",
      "\n",
      "Selecting Coreset Indices.:  67%|██████▋   | 1154/1715 [00:17<00:03, 149.87it/s]\u001B[A\u001B[A\n",
      "\n",
      "Selecting Coreset Indices.:  68%|██████▊   | 1170/1715 [00:17<00:07, 69.61it/s] \u001B[A\u001B[A\n",
      "\n",
      "Selecting Coreset Indices.:  69%|██████▉   | 1182/1715 [00:18<00:10, 51.92it/s]\u001B[A\u001B[A\n",
      "\n",
      "Selecting Coreset Indices.:  70%|██████▉   | 1192/1715 [00:18<00:11, 47.49it/s]\u001B[A\u001B[A\n",
      "\n",
      "Selecting Coreset Indices.:  70%|██████▉   | 1200/1715 [00:18<00:11, 46.57it/s]\u001B[A\u001B[A\n",
      "\n",
      "Selecting Coreset Indices.:  70%|███████   | 1207/1715 [00:19<00:13, 36.68it/s]\u001B[A\u001B[A\n",
      "\n",
      "Selecting Coreset Indices.:  71%|███████   | 1213/1715 [00:19<00:15, 31.50it/s]\u001B[A\u001B[A\n",
      "\n",
      "Selecting Coreset Indices.:  71%|███████   | 1218/1715 [00:19<00:18, 27.30it/s]\u001B[A\u001B[A\n",
      "\n",
      "Selecting Coreset Indices.:  72%|███████▏  | 1231/1715 [00:19<00:11, 40.46it/s]\u001B[A\u001B[A\n",
      "\n",
      "Selecting Coreset Indices.:  73%|███████▎  | 1244/1715 [00:20<00:09, 51.64it/s]\u001B[A\u001B[A\n",
      "\n",
      "Selecting Coreset Indices.:  73%|███████▎  | 1252/1715 [00:20<00:10, 42.55it/s]\u001B[A\u001B[A\n",
      "\n",
      "Selecting Coreset Indices.:  74%|███████▍  | 1266/1715 [00:20<00:07, 57.78it/s]\u001B[A\u001B[A\n",
      "\n",
      "Selecting Coreset Indices.:  74%|███████▍  | 1277/1715 [00:20<00:06, 65.78it/s]\u001B[A\u001B[A\n",
      "\n",
      "Selecting Coreset Indices.:  76%|███████▌  | 1296/1715 [00:20<00:04, 90.76it/s]\u001B[A\u001B[A\n",
      "\n",
      "Selecting Coreset Indices.:  77%|███████▋  | 1312/1715 [00:20<00:03, 105.83it/s]\u001B[A\u001B[A\n",
      "\n",
      "Selecting Coreset Indices.:  77%|███████▋  | 1325/1715 [00:20<00:03, 103.43it/s]\u001B[A\u001B[A\n",
      "\n",
      "Selecting Coreset Indices.:  78%|███████▊  | 1337/1715 [00:21<00:03, 95.62it/s] \u001B[A\u001B[A\n",
      "\n",
      "Selecting Coreset Indices.:  79%|███████▉  | 1351/1715 [00:21<00:03, 105.45it/s]\u001B[A\u001B[A\n",
      "\n",
      "Selecting Coreset Indices.:  80%|███████▉  | 1366/1715 [00:21<00:03, 115.69it/s]\u001B[A\u001B[A\n",
      "\n",
      "Selecting Coreset Indices.:  81%|████████  | 1385/1715 [00:21<00:02, 133.73it/s]\u001B[A\u001B[A\n",
      "\n",
      "Selecting Coreset Indices.:  82%|████████▏ | 1403/1715 [00:21<00:02, 146.04it/s]\u001B[A\u001B[A\n",
      "\n",
      "Selecting Coreset Indices.:  84%|████████▎ | 1433/1715 [00:21<00:01, 185.53it/s]\u001B[A\u001B[A\n",
      "\n",
      "Selecting Coreset Indices.:  85%|████████▍ | 1453/1715 [00:21<00:01, 169.34it/s]\u001B[A\u001B[A\n",
      "\n",
      "Selecting Coreset Indices.:  86%|████████▌ | 1471/1715 [00:21<00:01, 162.52it/s]\u001B[A\u001B[A\n",
      "\n",
      "Selecting Coreset Indices.:  87%|████████▋ | 1488/1715 [00:21<00:01, 140.56it/s]\u001B[A\u001B[A\n",
      "\n",
      "Selecting Coreset Indices.:  88%|████████▊ | 1503/1715 [00:22<00:01, 132.45it/s]\u001B[A\u001B[A\n",
      "\n",
      "Selecting Coreset Indices.:  89%|████████▊ | 1521/1715 [00:22<00:01, 141.63it/s]\u001B[A\u001B[A\n",
      "\n",
      "Selecting Coreset Indices.:  90%|████████▉ | 1536/1715 [00:22<00:01, 141.10it/s]\u001B[A\u001B[A\n",
      "\n",
      "Selecting Coreset Indices.:  90%|█████████ | 1551/1715 [00:22<00:01, 142.57it/s]\u001B[A\u001B[A\n",
      "\n",
      "Selecting Coreset Indices.:  91%|█████████▏| 1569/1715 [00:22<00:00, 152.55it/s]\u001B[A\u001B[A\n",
      "\n",
      "Selecting Coreset Indices.:  92%|█████████▏| 1585/1715 [00:22<00:00, 152.12it/s]\u001B[A\u001B[A\n",
      "\n",
      "Selecting Coreset Indices.:  93%|█████████▎| 1603/1715 [00:22<00:00, 159.10it/s]\u001B[A\u001B[A\n",
      "\n",
      "Selecting Coreset Indices.:  94%|█████████▍| 1620/1715 [00:22<00:00, 143.96it/s]\u001B[A\u001B[A\n",
      "\n",
      "Selecting Coreset Indices.:  95%|█████████▌| 1635/1715 [00:22<00:00, 143.77it/s]\u001B[A\u001B[A\n",
      "\n",
      "Selecting Coreset Indices.:  96%|█████████▌| 1650/1715 [00:23<00:00, 137.01it/s]\u001B[A\u001B[A\n",
      "\n",
      "Selecting Coreset Indices.:  97%|█████████▋| 1667/1715 [00:23<00:00, 145.25it/s]\u001B[A\u001B[A\n",
      "\n",
      "Selecting Coreset Indices.:  98%|█████████▊| 1682/1715 [00:23<00:00, 123.20it/s]\u001B[A\u001B[A\n",
      "\n",
      "Selecting Coreset Indices.:  99%|█████████▉| 1696/1715 [00:23<00:00, 122.97it/s]\u001B[A\u001B[A\n",
      "\n",
      "Selecting Coreset Indices.: 100%|██████████| 1715/1715 [00:23<00:00, 72.59it/s] \u001B[A\u001B[A\n",
      "INFO:lightning_fabric.utilities.rank_zero:`Trainer.fit` stopped: `max_epochs=1` reached.\n",
      "INFO:anomalib.callbacks.timer:Training took 83.69 seconds\n",
      "INFO:lightning_fabric.utilities.rank_zero:The following callbacks returned in `LightningModule.configure_callbacks` will override existing callbacks passed to Trainer: Evaluator, ImageVisualizer, PostProcessor, PreProcessor\n",
      "INFO:anomalib.data.datamodules.image.mvtecad:Found the dataset.\n"
     ]
    },
    {
     "data": {
      "text/plain": [
       "Testing: |          | 0/? [00:00<?, ?it/s]"
      ],
      "application/vnd.jupyter.widget-view+json": {
       "version_major": 2,
       "version_minor": 0,
       "model_id": "5ad22a17f02641169809b9b049c82c52"
      }
     },
     "metadata": {},
     "output_type": "display_data"
    },
    {
     "name": "stderr",
     "output_type": "stream",
     "text": [
      "INFO:anomalib.callbacks.timer:Testing took 102.1015100479126 seconds\n",
      "Throughput (batch_size=32) : 0.812916478522708 FPS\n"
     ]
    },
    {
     "data": {
      "text/plain": [
       "┏━━━━━━━━━━━━━━━━━━━━━━━━━━━┳━━━━━━━━━━━━━━━━━━━━━━━━━━━┓\n",
       "┃\u001B[1m \u001B[0m\u001B[1m       Test metric       \u001B[0m\u001B[1m \u001B[0m┃\u001B[1m \u001B[0m\u001B[1m      DataLoader 0       \u001B[0m\u001B[1m \u001B[0m┃\n",
       "┡━━━━━━━━━━━━━━━━━━━━━━━━━━━╇━━━━━━━━━━━━━━━━━━━━━━━━━━━┩\n",
       "│\u001B[36m \u001B[0m\u001B[36m       image_AUROC       \u001B[0m\u001B[36m \u001B[0m│\u001B[35m \u001B[0m\u001B[35m   0.9976190328598022    \u001B[0m\u001B[35m \u001B[0m│\n",
       "│\u001B[36m \u001B[0m\u001B[36m      image_F1Score      \u001B[0m\u001B[36m \u001B[0m│\u001B[35m \u001B[0m\u001B[35m   0.9841269850730896    \u001B[0m\u001B[35m \u001B[0m│\n",
       "│\u001B[36m \u001B[0m\u001B[36m       pixel_AUROC       \u001B[0m\u001B[36m \u001B[0m│\u001B[35m \u001B[0m\u001B[35m   0.9814721345901489    \u001B[0m\u001B[35m \u001B[0m│\n",
       "│\u001B[36m \u001B[0m\u001B[36m      pixel_F1Score      \u001B[0m\u001B[36m \u001B[0m│\u001B[35m \u001B[0m\u001B[35m   0.7329121828079224    \u001B[0m\u001B[35m \u001B[0m│\n",
       "└───────────────────────────┴───────────────────────────┘\n"
      ],
      "text/html": [
       "<pre style=\"white-space:pre;overflow-x:auto;line-height:normal;font-family:Menlo,'DejaVu Sans Mono',consolas,'Courier New',monospace\">┏━━━━━━━━━━━━━━━━━━━━━━━━━━━┳━━━━━━━━━━━━━━━━━━━━━━━━━━━┓\n",
       "┃<span style=\"font-weight: bold\">        Test metric        </span>┃<span style=\"font-weight: bold\">       DataLoader 0        </span>┃\n",
       "┡━━━━━━━━━━━━━━━━━━━━━━━━━━━╇━━━━━━━━━━━━━━━━━━━━━━━━━━━┩\n",
       "│<span style=\"color: #008080; text-decoration-color: #008080\">        image_AUROC        </span>│<span style=\"color: #800080; text-decoration-color: #800080\">    0.9976190328598022     </span>│\n",
       "│<span style=\"color: #008080; text-decoration-color: #008080\">       image_F1Score       </span>│<span style=\"color: #800080; text-decoration-color: #800080\">    0.9841269850730896     </span>│\n",
       "│<span style=\"color: #008080; text-decoration-color: #008080\">        pixel_AUROC        </span>│<span style=\"color: #800080; text-decoration-color: #800080\">    0.9814721345901489     </span>│\n",
       "│<span style=\"color: #008080; text-decoration-color: #008080\">       pixel_F1Score       </span>│<span style=\"color: #800080; text-decoration-color: #800080\">    0.7329121828079224     </span>│\n",
       "└───────────────────────────┴───────────────────────────┘\n",
       "</pre>\n"
      ]
     },
     "metadata": {},
     "output_type": "display_data"
    },
    {
     "name": "stdout",
     "output_type": "stream",
     "text": [
      "[{'image_AUROC': 0.9976190328598022, 'image_F1Score': 0.9841269850730896, 'pixel_AUROC': 0.9814721345901489, 'pixel_F1Score': 0.7329121828079224}]\n"
     ]
    },
    {
     "name": "stderr",
     "output_type": "stream",
     "text": [
      "[I 2025-04-09 21:27:08,856] Trial 7 finished with value: 0.9976190328598022 and parameters: {'backbone': 'wide_resnet50_2', 'coreset_sampling_ratio': 0.36460944557242714, 'num_neighbors': 86}. Best is trial 0 with value: 1.0.\n",
      "INFO:anomalib.models.components.base.anomalib_module:Initializing Patchcore model.\n",
      "INFO:timm.models._builder:Loading pretrained weights from Hugging Face hub (timm/wide_resnet50_2.racm_in1k)\n",
      "INFO:timm.models._hub:[timm/wide_resnet50_2.racm_in1k] Safe alternative available for 'pytorch_model.bin' (as 'model.safetensors'). Loading weights using safetensors.\n",
      "INFO:timm.models._builder:Missing keys (fc.weight, fc.bias) discovered while loading pretrained weights. This is expected if model is being adapted.\n",
      "/tmp/ipykernel_13568/599406512.py:27: DeprecationWarning:\n",
      "\n",
      "MVTec is deprecated and will be removed in a future version. Please use MVTecAD instead.\n",
      "\n",
      "INFO:lightning_fabric.utilities.rank_zero:GPU available: False, used: False\n",
      "INFO:lightning_fabric.utilities.rank_zero:TPU available: False, using: 0 TPU cores\n",
      "INFO:lightning_fabric.utilities.rank_zero:HPU available: False, using: 0 HPUs\n",
      "INFO:anomalib.data.datamodules.image.mvtecad:Found the dataset.\n",
      "/home/pawel/.local/lib/python3.10/site-packages/lightning/pytorch/core/optimizer.py:183: UserWarning:\n",
      "\n",
      "`LightningModule.configure_optimizers` returned `None`, this fit will run with no optimizer\n",
      "\n",
      "\n",
      "  | Name           | Type           | Params | Mode \n",
      "----------------------------------------------------------\n",
      "0 | pre_processor  | PreProcessor   | 0      | train\n",
      "1 | post_processor | PostProcessor  | 0      | train\n",
      "2 | evaluator      | Evaluator      | 0      | train\n",
      "3 | model          | PatchcoreModel | 24.9 M | train\n",
      "----------------------------------------------------------\n",
      "24.9 M    Trainable params\n",
      "0         Non-trainable params\n",
      "24.9 M    Total params\n",
      "99.450    Total estimated model params size (MB)\n",
      "19        Modules in train mode\n",
      "174       Modules in eval mode\n"
     ]
    },
    {
     "data": {
      "text/plain": [
       "Training: |          | 0/? [00:00<?, ?it/s]"
      ],
      "application/vnd.jupyter.widget-view+json": {
       "version_major": 2,
       "version_minor": 0,
       "model_id": "0e70781050ac41e6ad9198402f2ce5df"
      }
     },
     "metadata": {},
     "output_type": "display_data"
    },
    {
     "data": {
      "text/plain": [
       "Validation: |          | 0/? [00:00<?, ?it/s]"
      ],
      "application/vnd.jupyter.widget-view+json": {
       "version_major": 2,
       "version_minor": 0,
       "model_id": "650a86268dc045619d6f35c1c75faebf"
      }
     },
     "metadata": {},
     "output_type": "display_data"
    },
    {
     "name": "stderr",
     "output_type": "stream",
     "text": [
      "INFO:anomalib.models.image.patchcore.lightning_model:Aggregating the embedding extracted from the training set.\n",
      "INFO:anomalib.models.image.patchcore.lightning_model:Applying core-set subsampling to get the embedding.\n",
      "\n",
      "\n",
      "Selecting Coreset Indices.:   0%|          | 0/2330 [00:00<?, ?it/s]\u001B[A\u001B[A\n",
      "\n",
      "Selecting Coreset Indices.:   0%|          | 2/2330 [00:00<02:17, 16.90it/s]\u001B[A\u001B[A\n",
      "\n",
      "Selecting Coreset Indices.:   0%|          | 4/2330 [00:00<02:25, 16.02it/s]\u001B[A\u001B[A\n",
      "\n",
      "Selecting Coreset Indices.:   0%|          | 6/2330 [00:00<06:22,  6.08it/s]\u001B[A\u001B[A\n",
      "\n",
      "Selecting Coreset Indices.:   0%|          | 8/2330 [00:01<05:53,  6.57it/s]\u001B[A\u001B[A\n",
      "\n",
      "Selecting Coreset Indices.:   0%|          | 10/2330 [00:01<04:58,  7.77it/s]\u001B[A\u001B[A\n",
      "\n",
      "Selecting Coreset Indices.:   1%|          | 12/2330 [00:01<04:44,  8.14it/s]\u001B[A\u001B[A\n",
      "\n",
      "Selecting Coreset Indices.:   1%|          | 13/2330 [00:01<04:46,  8.08it/s]\u001B[A\u001B[A\n",
      "\n",
      "Selecting Coreset Indices.:   1%|          | 15/2330 [00:01<04:00,  9.62it/s]\u001B[A\u001B[A\n",
      "\n",
      "Selecting Coreset Indices.:   1%|          | 17/2330 [00:01<03:50, 10.03it/s]\u001B[A\u001B[A\n",
      "\n",
      "Selecting Coreset Indices.:   1%|          | 19/2330 [00:02<03:57,  9.74it/s]\u001B[A\u001B[A\n",
      "\n",
      "Selecting Coreset Indices.:   1%|          | 21/2330 [00:02<05:50,  6.60it/s]\u001B[A\u001B[A\n",
      "\n",
      "Selecting Coreset Indices.:   1%|          | 23/2330 [00:02<04:48,  8.01it/s]\u001B[A\u001B[A\n",
      "\n",
      "Selecting Coreset Indices.:   1%|          | 25/2330 [00:02<04:11,  9.17it/s]\u001B[A\u001B[A\n",
      "\n",
      "Selecting Coreset Indices.:   1%|          | 27/2330 [00:03<04:04,  9.42it/s]\u001B[A\u001B[A\n",
      "\n",
      "Selecting Coreset Indices.:   1%|▏         | 31/2330 [00:03<02:37, 14.57it/s]\u001B[A\u001B[A\n",
      "\n",
      "Selecting Coreset Indices.:   1%|▏         | 34/2330 [00:03<02:11, 17.48it/s]\u001B[A\u001B[A\n",
      "\n",
      "Selecting Coreset Indices.:   2%|▏         | 37/2330 [00:03<01:56, 19.62it/s]\u001B[A\u001B[A\n",
      "\n",
      "Selecting Coreset Indices.:   2%|▏         | 41/2330 [00:03<01:39, 23.11it/s]\u001B[A\u001B[A\n",
      "\n",
      "Selecting Coreset Indices.:   2%|▏         | 44/2330 [00:03<01:38, 23.13it/s]\u001B[A\u001B[A\n",
      "\n",
      "Selecting Coreset Indices.:   2%|▏         | 47/2330 [00:03<01:37, 23.41it/s]\u001B[A\u001B[A\n",
      "\n",
      "Selecting Coreset Indices.:   2%|▏         | 50/2330 [00:04<01:45, 21.69it/s]\u001B[A\u001B[A\n",
      "\n",
      "Selecting Coreset Indices.:   2%|▏         | 53/2330 [00:04<01:39, 22.91it/s]\u001B[A\u001B[A\n",
      "\n",
      "Selecting Coreset Indices.:   3%|▎         | 60/2330 [00:04<01:08, 33.02it/s]\u001B[A\u001B[A\n",
      "\n",
      "Selecting Coreset Indices.:   3%|▎         | 64/2330 [00:04<01:06, 34.26it/s]\u001B[A\u001B[A\n",
      "\n",
      "Selecting Coreset Indices.:   3%|▎         | 68/2330 [00:04<01:28, 25.57it/s]\u001B[A\u001B[A\n",
      "\n",
      "Selecting Coreset Indices.:   3%|▎         | 71/2330 [00:04<01:32, 24.39it/s]\u001B[A\u001B[A\n",
      "\n",
      "Selecting Coreset Indices.:   3%|▎         | 74/2330 [00:04<01:40, 22.44it/s]\u001B[A\u001B[A\n",
      "\n",
      "Selecting Coreset Indices.:   3%|▎         | 77/2330 [00:05<02:01, 18.48it/s]\u001B[A\u001B[A\n",
      "\n",
      "Selecting Coreset Indices.:   3%|▎         | 80/2330 [00:05<02:00, 18.67it/s]\u001B[A\u001B[A\n",
      "\n",
      "Selecting Coreset Indices.:   4%|▎         | 83/2330 [00:05<01:56, 19.24it/s]\u001B[A\u001B[A\n",
      "\n",
      "Selecting Coreset Indices.:   4%|▎         | 86/2330 [00:05<02:06, 17.73it/s]\u001B[A\u001B[A\n",
      "\n",
      "Selecting Coreset Indices.:   4%|▍         | 88/2330 [00:05<02:08, 17.47it/s]\u001B[A\u001B[A\n",
      "\n",
      "Selecting Coreset Indices.:   4%|▍         | 90/2330 [00:05<02:09, 17.32it/s]\u001B[A\u001B[A\n",
      "\n",
      "Selecting Coreset Indices.:   4%|▍         | 92/2330 [00:06<02:14, 16.61it/s]\u001B[A\u001B[A\n",
      "\n",
      "Selecting Coreset Indices.:   4%|▍         | 94/2330 [00:06<02:22, 15.72it/s]\u001B[A\u001B[A\n",
      "\n",
      "Selecting Coreset Indices.:   4%|▍         | 96/2330 [00:06<02:26, 15.22it/s]\u001B[A\u001B[A\n",
      "\n",
      "Selecting Coreset Indices.:   4%|▍         | 98/2330 [00:06<02:28, 15.05it/s]\u001B[A\u001B[A\n",
      "\n",
      "Selecting Coreset Indices.:   4%|▍         | 100/2330 [00:06<02:33, 14.51it/s]\u001B[A\u001B[A\n",
      "\n",
      "Selecting Coreset Indices.:   4%|▍         | 102/2330 [00:06<02:43, 13.63it/s]\u001B[A\u001B[A\n",
      "\n",
      "Selecting Coreset Indices.:   4%|▍         | 104/2330 [00:06<02:33, 14.51it/s]\u001B[A\u001B[A\n",
      "\n",
      "Selecting Coreset Indices.:   5%|▍         | 107/2330 [00:06<02:03, 17.94it/s]\u001B[A\u001B[A\n",
      "\n",
      "Selecting Coreset Indices.:   5%|▍         | 110/2330 [00:07<01:55, 19.25it/s]\u001B[A\u001B[A\n",
      "\n",
      "Selecting Coreset Indices.:   5%|▍         | 112/2330 [00:07<04:01,  9.18it/s]\u001B[A\u001B[A\n",
      "\n",
      "Selecting Coreset Indices.:   5%|▍         | 114/2330 [00:07<03:30, 10.55it/s]\u001B[A\u001B[A\n",
      "\n",
      "Selecting Coreset Indices.:   5%|▍         | 116/2330 [00:08<03:35, 10.29it/s]\u001B[A\u001B[A\n",
      "\n",
      "Selecting Coreset Indices.:   5%|▌         | 118/2330 [00:08<03:21, 10.98it/s]\u001B[A\u001B[A\n",
      "\n",
      "Selecting Coreset Indices.:   5%|▌         | 120/2330 [00:08<03:01, 12.16it/s]\u001B[A\u001B[A\n",
      "\n",
      "Selecting Coreset Indices.:   5%|▌         | 122/2330 [00:08<03:07, 11.77it/s]\u001B[A\u001B[A\n",
      "\n",
      "Selecting Coreset Indices.:   5%|▌         | 124/2330 [00:08<03:11, 11.52it/s]\u001B[A\u001B[A\n",
      "\n",
      "Selecting Coreset Indices.:   5%|▌         | 126/2330 [00:08<03:20, 11.01it/s]\u001B[A\u001B[A\n",
      "\n",
      "Selecting Coreset Indices.:   5%|▌         | 128/2330 [00:09<03:22, 10.86it/s]\u001B[A\u001B[A\n",
      "\n",
      "Selecting Coreset Indices.:   6%|▌         | 130/2330 [00:09<03:21, 10.92it/s]\u001B[A\u001B[A\n",
      "\n",
      "Selecting Coreset Indices.:   6%|▌         | 132/2330 [00:09<03:01, 12.12it/s]\u001B[A\u001B[A\n",
      "\n",
      "Selecting Coreset Indices.:   6%|▌         | 134/2330 [00:09<02:46, 13.17it/s]\u001B[A\u001B[A\n",
      "\n",
      "Selecting Coreset Indices.:   6%|▌         | 136/2330 [00:09<02:36, 14.01it/s]\u001B[A\u001B[A\n",
      "\n",
      "Selecting Coreset Indices.:   6%|▌         | 138/2330 [00:09<02:37, 13.89it/s]\u001B[A\u001B[A\n",
      "\n",
      "Selecting Coreset Indices.:   6%|▌         | 140/2330 [00:09<03:02, 12.01it/s]\u001B[A\u001B[A\n",
      "\n",
      "Selecting Coreset Indices.:   6%|▌         | 142/2330 [00:10<03:23, 10.77it/s]\u001B[A\u001B[A\n",
      "\n",
      "Selecting Coreset Indices.:   6%|▌         | 144/2330 [00:10<03:16, 11.12it/s]\u001B[A\u001B[A\n",
      "\n",
      "Selecting Coreset Indices.:   6%|▋         | 146/2330 [00:10<03:07, 11.67it/s]\u001B[A\u001B[A\n",
      "\n",
      "Selecting Coreset Indices.:   6%|▋         | 148/2330 [00:10<03:19, 10.94it/s]\u001B[A\u001B[A\n",
      "\n",
      "Selecting Coreset Indices.:   6%|▋         | 150/2330 [00:10<03:21, 10.81it/s]\u001B[A\u001B[A\n",
      "\n",
      "Selecting Coreset Indices.:   7%|▋         | 152/2330 [00:11<03:07, 11.59it/s]\u001B[A\u001B[A\n",
      "\n",
      "Selecting Coreset Indices.:   7%|▋         | 154/2330 [00:11<03:26, 10.52it/s]\u001B[A\u001B[A\n",
      "\n",
      "Selecting Coreset Indices.:   7%|▋         | 156/2330 [00:11<03:43,  9.71it/s]\u001B[A\u001B[A\n",
      "\n",
      "Selecting Coreset Indices.:   7%|▋         | 158/2330 [00:11<03:19, 10.91it/s]\u001B[A\u001B[A\n",
      "\n",
      "Selecting Coreset Indices.:   7%|▋         | 160/2330 [00:11<03:16, 11.04it/s]\u001B[A\u001B[A\n",
      "\n",
      "Selecting Coreset Indices.:   7%|▋         | 162/2330 [00:11<03:03, 11.79it/s]\u001B[A\u001B[A\n",
      "\n",
      "Selecting Coreset Indices.:   7%|▋         | 164/2330 [00:12<03:16, 11.01it/s]\u001B[A\u001B[A\n",
      "\n",
      "Selecting Coreset Indices.:   7%|▋         | 166/2330 [00:12<02:59, 12.03it/s]\u001B[A\u001B[A\n",
      "\n",
      "Selecting Coreset Indices.:   7%|▋         | 168/2330 [00:12<03:12, 11.20it/s]\u001B[A\u001B[A\n",
      "\n",
      "Selecting Coreset Indices.:   7%|▋         | 170/2330 [00:12<03:13, 11.18it/s]\u001B[A\u001B[A\n",
      "\n",
      "Selecting Coreset Indices.:   7%|▋         | 172/2330 [00:12<02:49, 12.71it/s]\u001B[A\u001B[A\n",
      "\n",
      "Selecting Coreset Indices.:   7%|▋         | 174/2330 [00:12<02:54, 12.33it/s]\u001B[A\u001B[A\n",
      "\n",
      "Selecting Coreset Indices.:   8%|▊         | 176/2330 [00:13<02:41, 13.32it/s]\u001B[A\u001B[A\n",
      "\n",
      "Selecting Coreset Indices.:   8%|▊         | 178/2330 [00:13<03:02, 11.78it/s]\u001B[A\u001B[A\n",
      "\n",
      "Selecting Coreset Indices.:   8%|▊         | 180/2330 [00:13<03:09, 11.35it/s]\u001B[A\u001B[A\n",
      "\n",
      "Selecting Coreset Indices.:   8%|▊         | 182/2330 [00:13<03:13, 11.11it/s]\u001B[A\u001B[A\n",
      "\n",
      "Selecting Coreset Indices.:   8%|▊         | 184/2330 [00:13<03:08, 11.38it/s]\u001B[A\u001B[A\n",
      "\n",
      "Selecting Coreset Indices.:   8%|▊         | 186/2330 [00:13<03:03, 11.69it/s]\u001B[A\u001B[A\n",
      "\n",
      "Selecting Coreset Indices.:   8%|▊         | 188/2330 [00:14<03:16, 10.91it/s]\u001B[A\u001B[A\n",
      "\n",
      "Selecting Coreset Indices.:   8%|▊         | 190/2330 [00:14<03:13, 11.06it/s]\u001B[A\u001B[A\n",
      "\n",
      "Selecting Coreset Indices.:   8%|▊         | 192/2330 [00:14<03:16, 10.87it/s]\u001B[A\u001B[A\n",
      "\n",
      "Selecting Coreset Indices.:   8%|▊         | 194/2330 [00:14<03:24, 10.44it/s]\u001B[A\u001B[A\n",
      "\n",
      "Selecting Coreset Indices.:   8%|▊         | 196/2330 [00:14<03:26, 10.33it/s]\u001B[A\u001B[A\n",
      "\n",
      "Selecting Coreset Indices.:   8%|▊         | 198/2330 [00:15<03:26, 10.31it/s]\u001B[A\u001B[A\n",
      "\n",
      "Selecting Coreset Indices.:   9%|▊         | 200/2330 [00:15<03:29, 10.19it/s]\u001B[A\u001B[A\n",
      "\n",
      "Selecting Coreset Indices.:   9%|▊         | 202/2330 [00:15<03:32, 10.03it/s]\u001B[A\u001B[A\n",
      "\n",
      "Selecting Coreset Indices.:   9%|▉         | 204/2330 [00:15<03:19, 10.68it/s]\u001B[A\u001B[A\n",
      "\n",
      "Selecting Coreset Indices.:   9%|▉         | 206/2330 [00:15<03:04, 11.49it/s]\u001B[A\u001B[A\n",
      "\n",
      "Selecting Coreset Indices.:   9%|▉         | 208/2330 [00:16<02:55, 12.07it/s]\u001B[A\u001B[A\n",
      "\n",
      "Selecting Coreset Indices.:   9%|▉         | 210/2330 [00:16<02:46, 12.72it/s]\u001B[A\u001B[A\n",
      "\n",
      "Selecting Coreset Indices.:   9%|▉         | 212/2330 [00:16<02:56, 12.01it/s]\u001B[A\u001B[A\n",
      "\n",
      "Selecting Coreset Indices.:   9%|▉         | 214/2330 [00:16<03:24, 10.37it/s]\u001B[A\u001B[A\n",
      "\n",
      "Selecting Coreset Indices.:   9%|▉         | 216/2330 [00:16<03:17, 10.68it/s]\u001B[A\u001B[A\n",
      "\n",
      "Selecting Coreset Indices.:   9%|▉         | 218/2330 [00:16<03:06, 11.32it/s]\u001B[A\u001B[A\n",
      "\n",
      "Selecting Coreset Indices.:   9%|▉         | 220/2330 [00:17<02:57, 11.89it/s]\u001B[A\u001B[A\n",
      "\n",
      "Selecting Coreset Indices.:  10%|▉         | 222/2330 [00:17<02:53, 12.12it/s]\u001B[A\u001B[A\n",
      "\n",
      "Selecting Coreset Indices.:  10%|▉         | 224/2330 [00:17<03:07, 11.25it/s]\u001B[A\u001B[A\n",
      "\n",
      "Selecting Coreset Indices.:  10%|▉         | 226/2330 [00:17<03:19, 10.54it/s]\u001B[A\u001B[A\n",
      "\n",
      "Selecting Coreset Indices.:  10%|▉         | 228/2330 [00:17<03:21, 10.45it/s]\u001B[A\u001B[A\n",
      "\n",
      "Selecting Coreset Indices.:  10%|▉         | 230/2330 [00:18<03:24, 10.28it/s]\u001B[A\u001B[A\n",
      "\n",
      "Selecting Coreset Indices.:  10%|▉         | 232/2330 [00:18<03:30,  9.98it/s]\u001B[A\u001B[A\n",
      "\n",
      "Selecting Coreset Indices.:  10%|█         | 234/2330 [00:18<03:24, 10.25it/s]\u001B[A\u001B[A\n",
      "\n",
      "Selecting Coreset Indices.:  10%|█         | 236/2330 [00:18<02:57, 11.82it/s]\u001B[A\u001B[A\n",
      "\n",
      "Selecting Coreset Indices.:  10%|█         | 238/2330 [00:18<02:37, 13.30it/s]\u001B[A\u001B[A\n",
      "\n",
      "Selecting Coreset Indices.:  10%|█         | 240/2330 [00:18<02:32, 13.70it/s]\u001B[A\u001B[A\n",
      "\n",
      "Selecting Coreset Indices.:  10%|█         | 243/2330 [00:18<02:09, 16.17it/s]\u001B[A\u001B[A\n",
      "\n",
      "Selecting Coreset Indices.:  11%|█         | 245/2330 [00:19<02:35, 13.39it/s]\u001B[A\u001B[A\n",
      "\n",
      "Selecting Coreset Indices.:  11%|█         | 247/2330 [00:21<02:52, 12.08it/s]\u001B[A\u001B[A\n",
      "\n",
      "Selecting Coreset Indices.:  11%|█         | 249/2330 [00:21<12:27,  2.78it/s]\u001B[A\u001B[A\n",
      "\n",
      "Selecting Coreset Indices.:  11%|█         | 250/2330 [00:21<11:01,  3.15it/s]\u001B[A\u001B[A\n",
      "\n",
      "Selecting Coreset Indices.:  11%|█         | 251/2330 [00:21<09:39,  3.59it/s]\u001B[A\u001B[A\n",
      "\n",
      "Selecting Coreset Indices.:  11%|█         | 253/2330 [00:21<07:06,  4.87it/s]\u001B[A\u001B[A\n",
      "\n",
      "Selecting Coreset Indices.:  11%|█         | 255/2330 [00:22<05:32,  6.25it/s]\u001B[A\u001B[A\n",
      "\n",
      "Selecting Coreset Indices.:  11%|█         | 257/2330 [00:22<04:27,  7.75it/s]\u001B[A\u001B[A\n",
      "\n",
      "Selecting Coreset Indices.:  11%|█         | 259/2330 [00:22<03:51,  8.94it/s]\u001B[A\u001B[A\n",
      "\n",
      "Selecting Coreset Indices.:  11%|█         | 261/2330 [00:22<04:00,  8.60it/s]\u001B[A\u001B[A\n",
      "\n",
      "Selecting Coreset Indices.:  11%|█▏        | 263/2330 [00:22<04:00,  8.60it/s]\u001B[A\u001B[A\n",
      "\n",
      "Selecting Coreset Indices.:  11%|█▏        | 265/2330 [00:22<03:49,  9.00it/s]\u001B[A\u001B[A\n",
      "\n",
      "Selecting Coreset Indices.:  11%|█▏        | 267/2330 [00:23<03:37,  9.50it/s]\u001B[A\u001B[A\n",
      "\n",
      "Selecting Coreset Indices.:  12%|█▏        | 269/2330 [00:23<03:39,  9.38it/s]\u001B[A\u001B[A\n",
      "\n",
      "Selecting Coreset Indices.:  12%|█▏        | 271/2330 [00:23<03:22, 10.15it/s]\u001B[A\u001B[A\n",
      "\n",
      "Selecting Coreset Indices.:  12%|█▏        | 273/2330 [00:23<03:31,  9.70it/s]\u001B[A\u001B[A\n",
      "\n",
      "Selecting Coreset Indices.:  12%|█▏        | 275/2330 [00:23<03:10, 10.81it/s]\u001B[A\u001B[A\n",
      "\n",
      "Selecting Coreset Indices.:  12%|█▏        | 277/2330 [00:24<03:02, 11.25it/s]\u001B[A\u001B[A\n",
      "\n",
      "Selecting Coreset Indices.:  12%|█▏        | 279/2330 [00:24<03:04, 11.12it/s]\u001B[A\u001B[A\n",
      "\n",
      "Selecting Coreset Indices.:  12%|█▏        | 281/2330 [00:24<02:44, 12.48it/s]\u001B[A\u001B[A\n",
      "\n",
      "Selecting Coreset Indices.:  12%|█▏        | 283/2330 [00:24<02:34, 13.27it/s]\u001B[A\u001B[A\n",
      "\n",
      "Selecting Coreset Indices.:  12%|█▏        | 285/2330 [00:24<02:38, 12.90it/s]\u001B[A\u001B[A\n",
      "\n",
      "Selecting Coreset Indices.:  12%|█▏        | 287/2330 [00:24<02:29, 13.69it/s]\u001B[A\u001B[A\n",
      "\n",
      "Selecting Coreset Indices.:  12%|█▏        | 289/2330 [00:24<02:33, 13.28it/s]\u001B[A\u001B[A\n",
      "\n",
      "Selecting Coreset Indices.:  12%|█▏        | 291/2330 [00:25<02:31, 13.49it/s]\u001B[A\u001B[A\n",
      "\n",
      "Selecting Coreset Indices.:  13%|█▎        | 293/2330 [00:25<02:25, 14.03it/s]\u001B[A\u001B[A\n",
      "\n",
      "Selecting Coreset Indices.:  13%|█▎        | 295/2330 [00:25<02:29, 13.60it/s]\u001B[A\u001B[A\n",
      "\n",
      "Selecting Coreset Indices.:  13%|█▎        | 297/2330 [00:25<02:23, 14.21it/s]\u001B[A\u001B[A\n",
      "\n",
      "Selecting Coreset Indices.:  13%|█▎        | 299/2330 [00:25<02:43, 12.44it/s]\u001B[A\u001B[A\n",
      "\n",
      "Selecting Coreset Indices.:  13%|█▎        | 301/2330 [00:25<02:38, 12.83it/s]\u001B[A\u001B[A\n",
      "\n",
      "Selecting Coreset Indices.:  13%|█▎        | 303/2330 [00:25<02:30, 13.49it/s]\u001B[A\u001B[A\n",
      "\n",
      "Selecting Coreset Indices.:  13%|█▎        | 305/2330 [00:26<02:18, 14.64it/s]\u001B[A\u001B[A\n",
      "\n",
      "Selecting Coreset Indices.:  13%|█▎        | 307/2330 [00:26<02:12, 15.32it/s]\u001B[A\u001B[A\n",
      "\n",
      "Selecting Coreset Indices.:  13%|█▎        | 309/2330 [00:26<02:18, 14.56it/s]\u001B[A\u001B[A\n",
      "\n",
      "Selecting Coreset Indices.:  13%|█▎        | 311/2330 [00:26<02:29, 13.47it/s]\u001B[A\u001B[A\n",
      "\n",
      "Selecting Coreset Indices.:  13%|█▎        | 313/2330 [00:26<02:34, 13.05it/s]\u001B[A\u001B[A\n",
      "\n",
      "Selecting Coreset Indices.:  14%|█▎        | 315/2330 [00:26<02:31, 13.30it/s]\u001B[A\u001B[A\n",
      "\n",
      "Selecting Coreset Indices.:  14%|█▎        | 317/2330 [00:27<02:39, 12.65it/s]\u001B[A\u001B[A\n",
      "\n",
      "Selecting Coreset Indices.:  14%|█▎        | 319/2330 [00:27<02:38, 12.71it/s]\u001B[A\u001B[A\n",
      "\n",
      "Selecting Coreset Indices.:  14%|█▍        | 321/2330 [00:27<02:23, 13.97it/s]\u001B[A\u001B[A\n",
      "\n",
      "Selecting Coreset Indices.:  14%|█▍        | 323/2330 [00:27<02:17, 14.59it/s]\u001B[A\u001B[A\n",
      "\n",
      "Selecting Coreset Indices.:  14%|█▍        | 325/2330 [00:27<02:13, 14.96it/s]\u001B[A\u001B[A\n",
      "\n",
      "Selecting Coreset Indices.:  14%|█▍        | 328/2330 [00:27<01:49, 18.26it/s]\u001B[A\u001B[A\n",
      "\n",
      "Selecting Coreset Indices.:  14%|█▍        | 332/2330 [00:27<01:28, 22.47it/s]\u001B[A\u001B[A\n",
      "\n",
      "Selecting Coreset Indices.:  14%|█▍        | 335/2330 [00:27<01:34, 21.22it/s]\u001B[A\u001B[A\n",
      "\n",
      "Selecting Coreset Indices.:  15%|█▍        | 338/2330 [00:28<01:34, 21.10it/s]\u001B[A\u001B[A\n",
      "\n",
      "Selecting Coreset Indices.:  15%|█▍        | 341/2330 [00:28<01:28, 22.51it/s]\u001B[A\u001B[A\n",
      "\n",
      "Selecting Coreset Indices.:  15%|█▍        | 344/2330 [00:28<01:26, 23.02it/s]\u001B[A\u001B[A\n",
      "\n",
      "Selecting Coreset Indices.:  15%|█▍        | 347/2330 [00:28<01:22, 23.96it/s]\u001B[A\u001B[A\n",
      "\n",
      "Selecting Coreset Indices.:  15%|█▌        | 350/2330 [00:28<01:20, 24.46it/s]\u001B[A\u001B[A\n",
      "\n",
      "Selecting Coreset Indices.:  15%|█▌        | 353/2330 [00:28<01:21, 24.18it/s]\u001B[A\u001B[A\n",
      "\n",
      "Selecting Coreset Indices.:  15%|█▌        | 356/2330 [00:28<01:25, 22.96it/s]\u001B[A\u001B[A\n",
      "\n",
      "Selecting Coreset Indices.:  15%|█▌        | 359/2330 [00:28<01:25, 23.08it/s]\u001B[A\u001B[A\n",
      "\n",
      "Selecting Coreset Indices.:  16%|█▌        | 362/2330 [00:29<01:20, 24.41it/s]\u001B[A\u001B[A\n",
      "\n",
      "Selecting Coreset Indices.:  16%|█▌        | 365/2330 [00:29<01:24, 23.39it/s]\u001B[A\u001B[A\n",
      "\n",
      "Selecting Coreset Indices.:  16%|█▌        | 368/2330 [00:29<01:24, 23.10it/s]\u001B[A\u001B[A\n",
      "\n",
      "Selecting Coreset Indices.:  16%|█▌        | 371/2330 [00:29<01:34, 20.72it/s]\u001B[A\u001B[A\n",
      "\n",
      "Selecting Coreset Indices.:  16%|█▌        | 374/2330 [00:29<01:32, 21.11it/s]\u001B[A\u001B[A\n",
      "\n",
      "Selecting Coreset Indices.:  16%|█▌        | 377/2330 [00:29<01:27, 22.34it/s]\u001B[A\u001B[A\n",
      "\n",
      "Selecting Coreset Indices.:  16%|█▋        | 380/2330 [00:29<01:25, 22.72it/s]\u001B[A\u001B[A\n",
      "\n",
      "Selecting Coreset Indices.:  16%|█▋        | 383/2330 [00:30<01:29, 21.64it/s]\u001B[A\u001B[A\n",
      "\n",
      "Selecting Coreset Indices.:  17%|█▋        | 386/2330 [00:30<01:36, 20.14it/s]\u001B[A\u001B[A\n",
      "\n",
      "Selecting Coreset Indices.:  17%|█▋        | 389/2330 [00:30<01:43, 18.72it/s]\u001B[A\u001B[A\n",
      "\n",
      "Selecting Coreset Indices.:  17%|█▋        | 391/2330 [00:30<01:42, 18.96it/s]\u001B[A\u001B[A\n",
      "\n",
      "Selecting Coreset Indices.:  17%|█▋        | 393/2330 [00:30<01:42, 18.91it/s]\u001B[A\u001B[A\n",
      "\n",
      "Selecting Coreset Indices.:  17%|█▋        | 395/2330 [00:30<01:46, 18.11it/s]\u001B[A\u001B[A\n",
      "\n",
      "Selecting Coreset Indices.:  17%|█▋        | 398/2330 [00:30<01:40, 19.31it/s]\u001B[A\u001B[A\n",
      "\n",
      "Selecting Coreset Indices.:  17%|█▋        | 401/2330 [00:30<01:28, 21.70it/s]\u001B[A\u001B[A\n",
      "\n",
      "Selecting Coreset Indices.:  17%|█▋        | 404/2330 [00:31<01:30, 21.17it/s]\u001B[A\u001B[A\n",
      "\n",
      "Selecting Coreset Indices.:  17%|█▋        | 407/2330 [00:31<01:32, 20.88it/s]\u001B[A\u001B[A\n",
      "\n",
      "Selecting Coreset Indices.:  18%|█▊        | 410/2330 [00:31<01:36, 19.84it/s]\u001B[A\u001B[A\n",
      "\n",
      "Selecting Coreset Indices.:  18%|█▊        | 413/2330 [00:31<01:35, 20.04it/s]\u001B[A\u001B[A\n",
      "\n",
      "Selecting Coreset Indices.:  18%|█▊        | 416/2330 [00:31<01:34, 20.17it/s]\u001B[A\u001B[A\n",
      "\n",
      "Selecting Coreset Indices.:  18%|█▊        | 419/2330 [00:31<01:37, 19.65it/s]\u001B[A\u001B[A\n",
      "\n",
      "Selecting Coreset Indices.:  18%|█▊        | 421/2330 [00:31<01:39, 19.14it/s]\u001B[A\u001B[A\n",
      "\n",
      "Selecting Coreset Indices.:  18%|█▊        | 423/2330 [00:32<01:43, 18.38it/s]\u001B[A\u001B[A\n",
      "\n",
      "Selecting Coreset Indices.:  18%|█▊        | 425/2330 [00:32<01:42, 18.63it/s]\u001B[A\u001B[A\n",
      "\n",
      "Selecting Coreset Indices.:  18%|█▊        | 428/2330 [00:32<01:37, 19.57it/s]\u001B[A\u001B[A\n",
      "\n",
      "Selecting Coreset Indices.:  18%|█▊        | 430/2330 [00:32<01:37, 19.48it/s]\u001B[A\u001B[A\n",
      "\n",
      "Selecting Coreset Indices.:  19%|█▊        | 432/2330 [00:32<01:44, 18.15it/s]\u001B[A\u001B[A\n",
      "\n",
      "Selecting Coreset Indices.:  19%|█▊        | 434/2330 [00:32<01:59, 15.87it/s]\u001B[A\u001B[A\n",
      "\n",
      "Selecting Coreset Indices.:  19%|█▊        | 436/2330 [00:32<02:01, 15.55it/s]\u001B[A\u001B[A\n",
      "\n",
      "Selecting Coreset Indices.:  19%|█▉        | 438/2330 [00:33<02:01, 15.54it/s]\u001B[A\u001B[A\n",
      "\n",
      "Selecting Coreset Indices.:  19%|█▉        | 440/2330 [00:33<01:54, 16.44it/s]\u001B[A\u001B[A\n",
      "\n",
      "Selecting Coreset Indices.:  19%|█▉        | 442/2330 [00:33<01:55, 16.28it/s]\u001B[A\u001B[A\n",
      "\n",
      "Selecting Coreset Indices.:  19%|█▉        | 444/2330 [00:33<01:51, 16.89it/s]\u001B[A\u001B[A\n",
      "\n",
      "Selecting Coreset Indices.:  19%|█▉        | 446/2330 [00:33<01:47, 17.50it/s]\u001B[A\u001B[A\n",
      "\n",
      "Selecting Coreset Indices.:  19%|█▉        | 448/2330 [00:33<01:47, 17.43it/s]\u001B[A\u001B[A\n",
      "\n",
      "Selecting Coreset Indices.:  19%|█▉        | 450/2330 [00:33<01:46, 17.61it/s]\u001B[A\u001B[A\n",
      "\n",
      "Selecting Coreset Indices.:  19%|█▉        | 452/2330 [00:33<01:44, 17.89it/s]\u001B[A\u001B[A\n",
      "\n",
      "Selecting Coreset Indices.:  20%|█▉        | 455/2330 [00:33<01:38, 19.13it/s]\u001B[A\u001B[A\n",
      "\n",
      "Selecting Coreset Indices.:  20%|█▉        | 457/2330 [00:34<01:40, 18.67it/s]\u001B[A\u001B[A\n",
      "\n",
      "Selecting Coreset Indices.:  20%|█▉        | 459/2330 [00:34<01:49, 17.13it/s]\u001B[A\u001B[A\n",
      "\n",
      "Selecting Coreset Indices.:  20%|█▉        | 461/2330 [00:34<01:45, 17.70it/s]\u001B[A\u001B[A\n",
      "\n",
      "Selecting Coreset Indices.:  20%|█▉        | 463/2330 [00:34<01:46, 17.46it/s]\u001B[A\u001B[A\n",
      "\n",
      "Selecting Coreset Indices.:  20%|█▉        | 465/2330 [00:34<01:52, 16.55it/s]\u001B[A\u001B[A\n",
      "\n",
      "Selecting Coreset Indices.:  20%|██        | 468/2330 [00:34<01:40, 18.46it/s]\u001B[A\u001B[A\n",
      "\n",
      "Selecting Coreset Indices.:  20%|██        | 470/2330 [00:34<01:43, 17.92it/s]\u001B[A\u001B[A\n",
      "\n",
      "Selecting Coreset Indices.:  20%|██        | 472/2330 [00:34<01:42, 18.05it/s]\u001B[A\u001B[A\n",
      "\n",
      "Selecting Coreset Indices.:  20%|██        | 474/2330 [00:35<01:50, 16.84it/s]\u001B[A\u001B[A\n",
      "\n",
      "Selecting Coreset Indices.:  20%|██        | 476/2330 [00:35<01:50, 16.85it/s]\u001B[A\u001B[A\n",
      "\n",
      "Selecting Coreset Indices.:  21%|██        | 478/2330 [00:35<01:48, 16.99it/s]\u001B[A\u001B[A\n",
      "\n",
      "Selecting Coreset Indices.:  21%|██        | 481/2330 [00:35<01:34, 19.57it/s]\u001B[A\u001B[A\n",
      "\n",
      "Selecting Coreset Indices.:  21%|██        | 483/2330 [00:35<01:38, 18.80it/s]\u001B[A\u001B[A\n",
      "\n",
      "Selecting Coreset Indices.:  21%|██        | 485/2330 [00:35<01:40, 18.40it/s]\u001B[A\u001B[A\n",
      "\n",
      "Selecting Coreset Indices.:  21%|██        | 488/2330 [00:35<01:32, 19.95it/s]\u001B[A\u001B[A\n",
      "\n",
      "Selecting Coreset Indices.:  21%|██        | 490/2330 [00:35<01:32, 19.80it/s]\u001B[A\u001B[A\n",
      "\n",
      "Selecting Coreset Indices.:  21%|██        | 492/2330 [00:35<01:33, 19.67it/s]\u001B[A\u001B[A\n",
      "\n",
      "Selecting Coreset Indices.:  21%|██        | 495/2330 [00:36<01:26, 21.27it/s]\u001B[A\u001B[A\n",
      "\n",
      "Selecting Coreset Indices.:  21%|██▏       | 498/2330 [00:36<01:30, 20.22it/s]\u001B[A\u001B[A\n",
      "\n",
      "Selecting Coreset Indices.:  22%|██▏       | 501/2330 [00:36<01:35, 19.12it/s]\u001B[A\u001B[A\n",
      "\n",
      "Selecting Coreset Indices.:  22%|██▏       | 505/2330 [00:36<01:20, 22.57it/s]\u001B[A\u001B[A\n",
      "\n",
      "Selecting Coreset Indices.:  22%|██▏       | 508/2330 [00:36<01:24, 21.64it/s]\u001B[A\u001B[A\n",
      "\n",
      "Selecting Coreset Indices.:  22%|██▏       | 511/2330 [00:36<01:17, 23.40it/s]\u001B[A\u001B[A\n",
      "\n",
      "Selecting Coreset Indices.:  22%|██▏       | 514/2330 [00:36<01:14, 24.48it/s]\u001B[A\u001B[A\n",
      "\n",
      "Selecting Coreset Indices.:  22%|██▏       | 517/2330 [00:37<01:19, 22.88it/s]\u001B[A\u001B[A\n",
      "\n",
      "Selecting Coreset Indices.:  22%|██▏       | 520/2330 [00:37<01:22, 21.84it/s]\u001B[A\u001B[A\n",
      "\n",
      "Selecting Coreset Indices.:  22%|██▏       | 523/2330 [00:37<01:25, 21.18it/s]\u001B[A\u001B[A\n",
      "\n",
      "Selecting Coreset Indices.:  23%|██▎       | 526/2330 [00:37<01:31, 19.63it/s]\u001B[A\u001B[A\n",
      "\n",
      "Selecting Coreset Indices.:  23%|██▎       | 529/2330 [00:37<01:41, 17.77it/s]\u001B[A\u001B[A\n",
      "\n",
      "Selecting Coreset Indices.:  23%|██▎       | 531/2330 [00:37<01:43, 17.46it/s]\u001B[A\u001B[A\n",
      "\n",
      "Selecting Coreset Indices.:  23%|██▎       | 534/2330 [00:37<01:32, 19.40it/s]\u001B[A\u001B[A\n",
      "\n",
      "Selecting Coreset Indices.:  23%|██▎       | 537/2330 [00:38<01:24, 21.28it/s]\u001B[A\u001B[A\n",
      "\n",
      "Selecting Coreset Indices.:  23%|██▎       | 540/2330 [00:38<01:31, 19.59it/s]\u001B[A\u001B[A\n",
      "\n",
      "Selecting Coreset Indices.:  23%|██▎       | 543/2330 [00:38<01:28, 20.30it/s]\u001B[A\u001B[A\n",
      "\n",
      "Selecting Coreset Indices.:  23%|██▎       | 547/2330 [00:38<01:14, 23.81it/s]\u001B[A\u001B[A\n",
      "\n",
      "Selecting Coreset Indices.:  24%|██▎       | 550/2330 [00:38<01:11, 24.86it/s]\u001B[A\u001B[A\n",
      "\n",
      "Selecting Coreset Indices.:  24%|██▎       | 553/2330 [00:38<01:11, 24.77it/s]\u001B[A\u001B[A\n",
      "\n",
      "Selecting Coreset Indices.:  24%|██▍       | 556/2330 [00:38<01:12, 24.58it/s]\u001B[A\u001B[A\n",
      "\n",
      "Selecting Coreset Indices.:  24%|██▍       | 560/2330 [00:38<01:02, 28.29it/s]\u001B[A\u001B[A\n",
      "\n",
      "Selecting Coreset Indices.:  24%|██▍       | 563/2330 [00:39<01:02, 28.40it/s]\u001B[A\u001B[A\n",
      "\n",
      "Selecting Coreset Indices.:  25%|██▍       | 571/2330 [00:39<00:41, 41.96it/s]\u001B[A\u001B[A\n",
      "\n",
      "Selecting Coreset Indices.:  25%|██▍       | 576/2330 [00:39<00:47, 36.58it/s]\u001B[A\u001B[A\n",
      "\n",
      "Selecting Coreset Indices.:  25%|██▍       | 580/2330 [00:39<00:52, 33.10it/s]\u001B[A\u001B[A\n",
      "\n",
      "Selecting Coreset Indices.:  25%|██▌       | 584/2330 [00:39<00:54, 31.79it/s]\u001B[A\u001B[A\n",
      "\n",
      "Selecting Coreset Indices.:  25%|██▌       | 588/2330 [00:39<00:54, 31.72it/s]\u001B[A\u001B[A\n",
      "\n",
      "Selecting Coreset Indices.:  25%|██▌       | 594/2330 [00:39<00:46, 37.46it/s]\u001B[A\u001B[A\n",
      "\n",
      "Selecting Coreset Indices.:  26%|██▌       | 600/2330 [00:40<00:40, 42.67it/s]\u001B[A\u001B[A\n",
      "\n",
      "Selecting Coreset Indices.:  26%|██▌       | 605/2330 [00:40<00:44, 39.14it/s]\u001B[A\u001B[A\n",
      "\n",
      "Selecting Coreset Indices.:  26%|██▌       | 610/2330 [00:40<00:44, 38.27it/s]\u001B[A\u001B[A\n",
      "\n",
      "Selecting Coreset Indices.:  26%|██▋       | 614/2330 [00:40<00:44, 38.41it/s]\u001B[A\u001B[A\n",
      "\n",
      "Selecting Coreset Indices.:  27%|██▋       | 619/2330 [00:40<00:41, 41.31it/s]\u001B[A\u001B[A\n",
      "\n",
      "Selecting Coreset Indices.:  27%|██▋       | 626/2330 [00:40<00:37, 45.51it/s]\u001B[A\u001B[A\n",
      "\n",
      "Selecting Coreset Indices.:  27%|██▋       | 631/2330 [00:40<00:46, 36.81it/s]\u001B[A\u001B[A\n",
      "\n",
      "Selecting Coreset Indices.:  27%|██▋       | 635/2330 [00:40<00:47, 35.53it/s]\u001B[A\u001B[A\n",
      "\n",
      "Selecting Coreset Indices.:  27%|██▋       | 639/2330 [00:41<00:47, 35.85it/s]\u001B[A\u001B[A\n",
      "\n",
      "Selecting Coreset Indices.:  28%|██▊       | 644/2330 [00:41<00:44, 38.16it/s]\u001B[A\u001B[A\n",
      "\n",
      "Selecting Coreset Indices.:  28%|██▊       | 649/2330 [00:41<00:41, 40.95it/s]\u001B[A\u001B[A\n",
      "\n",
      "Selecting Coreset Indices.:  28%|██▊       | 654/2330 [00:41<00:43, 38.85it/s]\u001B[A\u001B[A\n",
      "\n",
      "Selecting Coreset Indices.:  28%|██▊       | 658/2330 [00:41<00:45, 36.82it/s]\u001B[A\u001B[A\n",
      "\n",
      "Selecting Coreset Indices.:  28%|██▊       | 662/2330 [00:41<00:48, 34.22it/s]\u001B[A\u001B[A\n",
      "\n",
      "Selecting Coreset Indices.:  29%|██▊       | 666/2330 [00:41<00:50, 32.83it/s]\u001B[A\u001B[A\n",
      "\n",
      "Selecting Coreset Indices.:  29%|██▉       | 670/2330 [00:41<00:50, 32.75it/s]\u001B[A\u001B[A\n",
      "\n",
      "Selecting Coreset Indices.:  29%|██▉       | 674/2330 [00:42<00:55, 29.81it/s]\u001B[A\u001B[A\n",
      "\n",
      "Selecting Coreset Indices.:  29%|██▉       | 678/2330 [00:42<01:05, 25.18it/s]\u001B[A\u001B[A\n",
      "\n",
      "Selecting Coreset Indices.:  29%|██▉       | 681/2330 [00:42<01:10, 23.45it/s]\u001B[A\u001B[A\n",
      "\n",
      "Selecting Coreset Indices.:  29%|██▉       | 684/2330 [00:42<01:14, 22.17it/s]\u001B[A\u001B[A\n",
      "\n",
      "Selecting Coreset Indices.:  29%|██▉       | 687/2330 [00:42<01:13, 22.40it/s]\u001B[A\u001B[A\n",
      "\n",
      "Selecting Coreset Indices.:  30%|██▉       | 690/2330 [00:42<01:16, 21.37it/s]\u001B[A\u001B[A\n",
      "\n",
      "Selecting Coreset Indices.:  30%|██▉       | 693/2330 [00:43<01:17, 21.17it/s]\u001B[A\u001B[A\n",
      "\n",
      "Selecting Coreset Indices.:  30%|██▉       | 696/2330 [00:43<01:18, 20.71it/s]\u001B[A\u001B[A\n",
      "\n",
      "Selecting Coreset Indices.:  30%|███       | 699/2330 [00:43<01:17, 20.99it/s]\u001B[A\u001B[A\n",
      "\n",
      "Selecting Coreset Indices.:  30%|███       | 702/2330 [00:43<01:14, 21.73it/s]\u001B[A\u001B[A\n",
      "\n",
      "Selecting Coreset Indices.:  30%|███       | 705/2330 [00:43<01:17, 20.97it/s]\u001B[A\u001B[A\n",
      "\n",
      "Selecting Coreset Indices.:  30%|███       | 708/2330 [00:43<01:14, 21.77it/s]\u001B[A\u001B[A\n",
      "\n",
      "Selecting Coreset Indices.:  31%|███       | 714/2330 [00:43<00:54, 29.78it/s]\u001B[A\u001B[A\n",
      "\n",
      "Selecting Coreset Indices.:  31%|███       | 719/2330 [00:43<00:46, 34.37it/s]\u001B[A\u001B[A\n",
      "\n",
      "Selecting Coreset Indices.:  31%|███       | 723/2330 [00:44<00:46, 34.83it/s]\u001B[A\u001B[A\n",
      "\n",
      "Selecting Coreset Indices.:  31%|███       | 728/2330 [00:44<00:42, 37.80it/s]\u001B[A\u001B[A\n",
      "\n",
      "Selecting Coreset Indices.:  31%|███▏      | 732/2330 [00:44<00:41, 38.16it/s]\u001B[A\u001B[A\n",
      "\n",
      "Selecting Coreset Indices.:  32%|███▏      | 736/2330 [00:44<00:44, 36.18it/s]\u001B[A\u001B[A\n",
      "\n",
      "Selecting Coreset Indices.:  32%|███▏      | 740/2330 [00:44<00:45, 34.91it/s]\u001B[A\u001B[A\n",
      "\n",
      "Selecting Coreset Indices.:  32%|███▏      | 744/2330 [00:44<00:48, 32.77it/s]\u001B[A\u001B[A\n",
      "\n",
      "Selecting Coreset Indices.:  32%|███▏      | 748/2330 [00:44<00:45, 34.47it/s]\u001B[A\u001B[A\n",
      "\n",
      "Selecting Coreset Indices.:  32%|███▏      | 752/2330 [00:44<00:44, 35.81it/s]\u001B[A\u001B[A\n",
      "\n",
      "Selecting Coreset Indices.:  32%|███▏      | 756/2330 [00:45<00:50, 30.90it/s]\u001B[A\u001B[A\n",
      "\n",
      "Selecting Coreset Indices.:  33%|███▎      | 760/2330 [00:45<00:57, 27.28it/s]\u001B[A\u001B[A\n",
      "\n",
      "Selecting Coreset Indices.:  33%|███▎      | 763/2330 [00:45<00:59, 26.14it/s]\u001B[A\u001B[A\n",
      "\n",
      "Selecting Coreset Indices.:  33%|███▎      | 766/2330 [00:45<01:03, 24.82it/s]\u001B[A\u001B[A\n",
      "\n",
      "Selecting Coreset Indices.:  33%|███▎      | 770/2330 [00:45<00:55, 28.34it/s]\u001B[A\u001B[A\n",
      "\n",
      "Selecting Coreset Indices.:  33%|███▎      | 778/2330 [00:45<00:39, 39.67it/s]\u001B[A\u001B[A\n",
      "\n",
      "Selecting Coreset Indices.:  34%|███▎      | 783/2330 [00:45<00:43, 35.63it/s]\u001B[A\u001B[A\n",
      "\n",
      "Selecting Coreset Indices.:  34%|███▍      | 787/2330 [00:46<00:57, 26.70it/s]\u001B[A\u001B[A\n",
      "\n",
      "Selecting Coreset Indices.:  34%|███▍      | 791/2330 [00:46<01:02, 24.46it/s]\u001B[A\u001B[A\n",
      "\n",
      "Selecting Coreset Indices.:  34%|███▍      | 794/2330 [00:46<01:08, 22.38it/s]\u001B[A\u001B[A\n",
      "\n",
      "Selecting Coreset Indices.:  34%|███▍      | 797/2330 [00:46<01:11, 21.36it/s]\u001B[A\u001B[A\n",
      "\n",
      "Selecting Coreset Indices.:  34%|███▍      | 801/2330 [00:46<01:01, 24.78it/s]\u001B[A\u001B[A\n",
      "\n",
      "Selecting Coreset Indices.:  35%|███▍      | 804/2330 [00:46<01:08, 22.38it/s]\u001B[A\u001B[A\n",
      "\n",
      "Selecting Coreset Indices.:  35%|███▍      | 807/2330 [00:47<01:19, 19.13it/s]\u001B[A\u001B[A\n",
      "\n",
      "Selecting Coreset Indices.:  35%|███▍      | 810/2330 [00:47<01:28, 17.22it/s]\u001B[A\u001B[A\n",
      "\n",
      "Selecting Coreset Indices.:  35%|███▍      | 813/2330 [00:47<01:17, 19.56it/s]\u001B[A\u001B[A\n",
      "\n",
      "Selecting Coreset Indices.:  35%|███▌      | 816/2330 [00:47<01:17, 19.57it/s]\u001B[A\u001B[A\n",
      "\n",
      "Selecting Coreset Indices.:  35%|███▌      | 823/2330 [00:47<00:51, 29.49it/s]\u001B[A\u001B[A\n",
      "\n",
      "Selecting Coreset Indices.:  35%|███▌      | 827/2330 [00:48<00:58, 25.87it/s]\u001B[A\u001B[A\n",
      "\n",
      "Selecting Coreset Indices.:  36%|███▌      | 830/2330 [00:48<01:01, 24.58it/s]\u001B[A\u001B[A\n",
      "\n",
      "Selecting Coreset Indices.:  36%|███▌      | 834/2330 [00:48<00:54, 27.27it/s]\u001B[A\u001B[A\n",
      "\n",
      "Selecting Coreset Indices.:  36%|███▌      | 837/2330 [00:48<01:00, 24.76it/s]\u001B[A\u001B[A\n",
      "\n",
      "Selecting Coreset Indices.:  36%|███▋      | 847/2330 [00:48<00:37, 39.41it/s]\u001B[A\u001B[A\n",
      "\n",
      "Selecting Coreset Indices.:  37%|███▋      | 852/2330 [00:48<00:40, 36.54it/s]\u001B[A\u001B[A\n",
      "\n",
      "Selecting Coreset Indices.:  37%|███▋      | 856/2330 [00:48<00:39, 36.88it/s]\u001B[A\u001B[A\n",
      "\n",
      "Selecting Coreset Indices.:  37%|███▋      | 863/2330 [00:48<00:33, 44.24it/s]\u001B[A\u001B[A\n",
      "\n",
      "Selecting Coreset Indices.:  37%|███▋      | 868/2330 [00:49<00:46, 31.62it/s]\u001B[A\u001B[A\n",
      "\n",
      "Selecting Coreset Indices.:  37%|███▋      | 872/2330 [00:49<00:52, 27.88it/s]\u001B[A\u001B[A\n",
      "\n",
      "Selecting Coreset Indices.:  38%|███▊      | 876/2330 [00:49<00:48, 29.81it/s]\u001B[A\u001B[A\n",
      "\n",
      "Selecting Coreset Indices.:  38%|███▊      | 880/2330 [00:49<00:49, 29.23it/s]\u001B[A\u001B[A\n",
      "\n",
      "Selecting Coreset Indices.:  38%|███▊      | 884/2330 [00:49<00:52, 27.29it/s]\u001B[A\u001B[A\n",
      "\n",
      "Selecting Coreset Indices.:  38%|███▊      | 887/2330 [00:49<00:53, 26.93it/s]\u001B[A\u001B[A\n",
      "\n",
      "Selecting Coreset Indices.:  38%|███▊      | 893/2330 [00:50<00:42, 33.95it/s]\u001B[A\u001B[A\n",
      "\n",
      "Selecting Coreset Indices.:  39%|███▊      | 900/2330 [00:50<00:34, 41.85it/s]\u001B[A\u001B[A\n",
      "\n",
      "Selecting Coreset Indices.:  39%|███▉      | 905/2330 [00:50<00:47, 30.32it/s]\u001B[A\u001B[A\n",
      "\n",
      "Selecting Coreset Indices.:  39%|███▉      | 909/2330 [00:50<00:56, 25.08it/s]\u001B[A\u001B[A\n",
      "\n",
      "Selecting Coreset Indices.:  39%|███▉      | 913/2330 [00:50<01:00, 23.47it/s]\u001B[A\u001B[A\n",
      "\n",
      "Selecting Coreset Indices.:  39%|███▉      | 916/2330 [00:51<01:05, 21.50it/s]\u001B[A\u001B[A\n",
      "\n",
      "Selecting Coreset Indices.:  39%|███▉      | 919/2330 [00:51<01:08, 20.68it/s]\u001B[A\u001B[A\n",
      "\n",
      "Selecting Coreset Indices.:  40%|███▉      | 924/2330 [00:51<00:56, 25.08it/s]\u001B[A\u001B[A\n",
      "\n",
      "Selecting Coreset Indices.:  40%|███▉      | 929/2330 [00:51<00:48, 28.99it/s]\u001B[A\u001B[A\n",
      "\n",
      "Selecting Coreset Indices.:  40%|████      | 933/2330 [00:51<00:46, 29.85it/s]\u001B[A\u001B[A\n",
      "\n",
      "Selecting Coreset Indices.:  40%|████      | 937/2330 [00:51<00:44, 31.31it/s]\u001B[A\u001B[A\n",
      "\n",
      "Selecting Coreset Indices.:  40%|████      | 942/2330 [00:51<00:40, 34.68it/s]\u001B[A\u001B[A\n",
      "\n",
      "Selecting Coreset Indices.:  41%|████      | 948/2330 [00:51<00:37, 36.92it/s]\u001B[A\u001B[A\n",
      "\n",
      "Selecting Coreset Indices.:  41%|████      | 953/2330 [00:52<00:35, 38.79it/s]\u001B[A\u001B[A\n",
      "\n",
      "Selecting Coreset Indices.:  41%|████      | 957/2330 [00:52<00:37, 36.44it/s]\u001B[A\u001B[A\n",
      "\n",
      "Selecting Coreset Indices.:  41%|████      | 961/2330 [00:52<00:40, 34.17it/s]\u001B[A\u001B[A\n",
      "\n",
      "Selecting Coreset Indices.:  41%|████▏     | 965/2330 [00:52<00:40, 33.44it/s]\u001B[A\u001B[A\n",
      "\n",
      "Selecting Coreset Indices.:  42%|████▏     | 970/2330 [00:52<00:38, 35.66it/s]\u001B[A\u001B[A\n",
      "\n",
      "Selecting Coreset Indices.:  42%|████▏     | 974/2330 [00:52<00:43, 31.16it/s]\u001B[A\u001B[A\n",
      "\n",
      "Selecting Coreset Indices.:  42%|████▏     | 978/2330 [00:52<00:52, 25.56it/s]\u001B[A\u001B[A\n",
      "\n",
      "Selecting Coreset Indices.:  42%|████▏     | 981/2330 [00:53<00:55, 24.16it/s]\u001B[A\u001B[A\n",
      "\n",
      "Selecting Coreset Indices.:  42%|████▏     | 984/2330 [00:53<00:56, 23.73it/s]\u001B[A\u001B[A\n",
      "\n",
      "Selecting Coreset Indices.:  42%|████▏     | 987/2330 [00:53<00:54, 24.67it/s]\u001B[A\u001B[A\n",
      "\n",
      "Selecting Coreset Indices.:  42%|████▏     | 990/2330 [00:55<04:12,  5.30it/s]\u001B[A\u001B[A\n",
      "\n",
      "Selecting Coreset Indices.:  43%|████▎     | 997/2330 [00:55<02:21,  9.39it/s]\u001B[A\u001B[A\n",
      "\n",
      "Selecting Coreset Indices.:  43%|████▎     | 1001/2330 [00:55<01:51, 11.94it/s]\u001B[A\u001B[A\n",
      "\n",
      "Selecting Coreset Indices.:  43%|████▎     | 1005/2330 [00:55<01:28, 14.92it/s]\u001B[A\u001B[A\n",
      "\n",
      "Selecting Coreset Indices.:  43%|████▎     | 1010/2330 [00:55<01:08, 19.32it/s]\u001B[A\u001B[A\n",
      "\n",
      "Selecting Coreset Indices.:  44%|████▎     | 1014/2330 [00:55<00:59, 22.23it/s]\u001B[A\u001B[A\n",
      "\n",
      "Selecting Coreset Indices.:  44%|████▎     | 1018/2330 [00:55<00:57, 22.80it/s]\u001B[A\u001B[A\n",
      "\n",
      "Selecting Coreset Indices.:  44%|████▍     | 1023/2330 [00:55<00:47, 27.73it/s]\u001B[A\u001B[A\n",
      "\n",
      "Selecting Coreset Indices.:  44%|████▍     | 1028/2330 [00:56<00:42, 30.84it/s]\u001B[A\u001B[A\n",
      "\n",
      "Selecting Coreset Indices.:  44%|████▍     | 1034/2330 [00:56<00:34, 37.11it/s]\u001B[A\u001B[A\n",
      "\n",
      "Selecting Coreset Indices.:  45%|████▍     | 1043/2330 [00:56<00:26, 49.16it/s]\u001B[A\u001B[A\n",
      "\n",
      "Selecting Coreset Indices.:  45%|████▌     | 1049/2330 [00:56<00:27, 46.04it/s]\u001B[A\u001B[A\n",
      "\n",
      "Selecting Coreset Indices.:  45%|████▌     | 1058/2330 [00:56<00:22, 56.23it/s]\u001B[A\u001B[A\n",
      "\n",
      "Selecting Coreset Indices.:  46%|████▌     | 1070/2330 [00:56<00:18, 67.95it/s]\u001B[A\u001B[A\n",
      "\n",
      "Selecting Coreset Indices.:  47%|████▋     | 1086/2330 [00:56<00:13, 91.41it/s]\u001B[A\u001B[A\n",
      "\n",
      "Selecting Coreset Indices.:  48%|████▊     | 1107/2330 [00:56<00:10, 122.08it/s]\u001B[A\u001B[A\n",
      "\n",
      "Selecting Coreset Indices.:  48%|████▊     | 1121/2330 [00:56<00:10, 112.95it/s]\u001B[A\u001B[A\n",
      "\n",
      "Selecting Coreset Indices.:  49%|████▊     | 1133/2330 [00:57<00:10, 108.99it/s]\u001B[A\u001B[A\n",
      "\n",
      "Selecting Coreset Indices.:  49%|████▉     | 1153/2330 [00:57<00:09, 130.47it/s]\u001B[A\u001B[A\n",
      "\n",
      "Selecting Coreset Indices.:  50%|█████     | 1167/2330 [00:57<00:09, 122.16it/s]\u001B[A\u001B[A\n",
      "\n",
      "Selecting Coreset Indices.:  51%|█████     | 1180/2330 [00:57<00:09, 119.58it/s]\u001B[A\u001B[A\n",
      "\n",
      "Selecting Coreset Indices.:  52%|█████▏    | 1210/2330 [00:57<00:06, 166.94it/s]\u001B[A\u001B[A\n",
      "\n",
      "Selecting Coreset Indices.:  53%|█████▎    | 1231/2330 [00:57<00:06, 177.06it/s]\u001B[A\u001B[A\n",
      "\n",
      "Selecting Coreset Indices.:  54%|█████▍    | 1253/2330 [00:57<00:05, 187.85it/s]\u001B[A\u001B[A\n",
      "\n",
      "Selecting Coreset Indices.:  55%|█████▍    | 1273/2330 [00:57<00:05, 176.41it/s]\u001B[A\u001B[A\n",
      "\n",
      "Selecting Coreset Indices.:  55%|█████▌    | 1292/2330 [00:57<00:05, 174.73it/s]\u001B[A\u001B[A\n",
      "\n",
      "Selecting Coreset Indices.:  56%|█████▌    | 1310/2330 [00:58<00:06, 145.98it/s]\u001B[A\u001B[A\n",
      "\n",
      "Selecting Coreset Indices.:  57%|█████▋    | 1336/2330 [00:58<00:05, 173.17it/s]\u001B[A\u001B[A\n",
      "\n",
      "Selecting Coreset Indices.:  58%|█████▊    | 1361/2330 [00:58<00:05, 191.27it/s]\u001B[A\u001B[A\n",
      "\n",
      "Selecting Coreset Indices.:  59%|█████▉    | 1383/2330 [00:58<00:04, 196.50it/s]\u001B[A\u001B[A\n",
      "\n",
      "Selecting Coreset Indices.:  60%|██████    | 1404/2330 [00:58<00:05, 155.62it/s]\u001B[A\u001B[A\n",
      "\n",
      "Selecting Coreset Indices.:  61%|██████▏   | 1429/2330 [00:58<00:05, 176.63it/s]\u001B[A\u001B[A\n",
      "\n",
      "Selecting Coreset Indices.:  62%|██████▏   | 1454/2330 [00:58<00:04, 192.83it/s]\u001B[A\u001B[A\n",
      "\n",
      "Selecting Coreset Indices.:  63%|██████▎   | 1475/2330 [00:59<00:04, 190.72it/s]\u001B[A\u001B[A\n",
      "\n",
      "Selecting Coreset Indices.:  64%|██████▍   | 1496/2330 [00:59<00:04, 171.67it/s]\u001B[A\u001B[A\n",
      "\n",
      "Selecting Coreset Indices.:  65%|██████▌   | 1521/2330 [00:59<00:04, 190.42it/s]\u001B[A\u001B[A\n",
      "\n",
      "Selecting Coreset Indices.:  66%|██████▌   | 1542/2330 [00:59<00:04, 190.72it/s]\u001B[A\u001B[A\n",
      "\n",
      "Selecting Coreset Indices.:  67%|██████▋   | 1562/2330 [00:59<00:08, 88.27it/s] \u001B[A\u001B[A\n",
      "\n",
      "Selecting Coreset Indices.:  68%|██████▊   | 1577/2330 [01:00<00:13, 53.93it/s]\u001B[A\u001B[A\n",
      "\n",
      "Selecting Coreset Indices.:  68%|██████▊   | 1589/2330 [01:01<00:18, 40.81it/s]\u001B[A\u001B[A\n",
      "\n",
      "Selecting Coreset Indices.:  69%|██████▊   | 1598/2330 [01:01<00:21, 33.57it/s]\u001B[A\u001B[A\n",
      "\n",
      "Selecting Coreset Indices.:  69%|██████▉   | 1605/2330 [01:01<00:21, 34.00it/s]\u001B[A\u001B[A\n",
      "\n",
      "Selecting Coreset Indices.:  69%|██████▉   | 1611/2330 [01:02<00:24, 29.58it/s]\u001B[A\u001B[A\n",
      "\n",
      "Selecting Coreset Indices.:  69%|██████▉   | 1616/2330 [01:02<00:24, 29.01it/s]\u001B[A\u001B[A\n",
      "\n",
      "Selecting Coreset Indices.:  70%|██████▉   | 1620/2330 [01:02<00:25, 27.40it/s]\u001B[A\u001B[A\n",
      "\n",
      "Selecting Coreset Indices.:  70%|██████▉   | 1624/2330 [01:02<00:26, 26.75it/s]\u001B[A\u001B[A\n",
      "\n",
      "Selecting Coreset Indices.:  70%|██████▉   | 1628/2330 [01:02<00:25, 27.92it/s]\u001B[A\u001B[A\n",
      "\n",
      "Selecting Coreset Indices.:  70%|███████   | 1632/2330 [01:03<00:34, 20.53it/s]\u001B[A\u001B[A\n",
      "\n",
      "Selecting Coreset Indices.:  70%|███████   | 1635/2330 [01:03<00:39, 17.60it/s]\u001B[A\u001B[A\n",
      "\n",
      "Selecting Coreset Indices.:  70%|███████   | 1639/2330 [01:03<00:34, 19.88it/s]\u001B[A\u001B[A\n",
      "\n",
      "Selecting Coreset Indices.:  70%|███████   | 1642/2330 [01:03<00:35, 19.42it/s]\u001B[A\u001B[A\n",
      "\n",
      "Selecting Coreset Indices.:  71%|███████   | 1650/2330 [01:03<00:22, 29.82it/s]\u001B[A\u001B[A\n",
      "\n",
      "Selecting Coreset Indices.:  71%|███████▏  | 1661/2330 [01:03<00:14, 45.61it/s]\u001B[A\u001B[A\n",
      "\n",
      "Selecting Coreset Indices.:  72%|███████▏  | 1673/2330 [01:04<00:11, 58.03it/s]\u001B[A\u001B[A\n",
      "\n",
      "Selecting Coreset Indices.:  72%|███████▏  | 1680/2330 [01:04<00:14, 46.01it/s]\u001B[A\u001B[A\n",
      "\n",
      "Selecting Coreset Indices.:  72%|███████▏  | 1686/2330 [01:04<00:15, 41.95it/s]\u001B[A\u001B[A\n",
      "\n",
      "Selecting Coreset Indices.:  73%|███████▎  | 1701/2330 [01:04<00:10, 62.89it/s]\u001B[A\u001B[A\n",
      "\n",
      "Selecting Coreset Indices.:  73%|███████▎  | 1712/2330 [01:04<00:08, 71.47it/s]\u001B[A\u001B[A\n",
      "\n",
      "Selecting Coreset Indices.:  74%|███████▍  | 1725/2330 [01:04<00:07, 84.25it/s]\u001B[A\u001B[A\n",
      "\n",
      "Selecting Coreset Indices.:  75%|███████▍  | 1740/2330 [01:04<00:05, 99.82it/s]\u001B[A\u001B[A\n",
      "\n",
      "Selecting Coreset Indices.:  75%|███████▌  | 1756/2330 [01:05<00:05, 113.76it/s]\u001B[A\u001B[A\n",
      "\n",
      "Selecting Coreset Indices.:  76%|███████▌  | 1769/2330 [01:05<00:04, 116.35it/s]\u001B[A\u001B[A\n",
      "\n",
      "Selecting Coreset Indices.:  76%|███████▋  | 1782/2330 [01:05<00:05, 103.51it/s]\u001B[A\u001B[A\n",
      "\n",
      "Selecting Coreset Indices.:  77%|███████▋  | 1798/2330 [01:05<00:04, 117.64it/s]\u001B[A\u001B[A\n",
      "\n",
      "Selecting Coreset Indices.:  78%|███████▊  | 1814/2330 [01:05<00:04, 128.10it/s]\u001B[A\u001B[A\n",
      "\n",
      "Selecting Coreset Indices.:  79%|███████▊  | 1830/2330 [01:05<00:03, 136.45it/s]\u001B[A\u001B[A\n",
      "\n",
      "Selecting Coreset Indices.:  79%|███████▉  | 1845/2330 [01:05<00:03, 134.61it/s]\u001B[A\u001B[A\n",
      "\n",
      "Selecting Coreset Indices.:  80%|███████▉  | 1859/2330 [01:05<00:03, 133.58it/s]\u001B[A\u001B[A\n",
      "\n",
      "Selecting Coreset Indices.:  80%|████████  | 1873/2330 [01:05<00:03, 129.18it/s]\u001B[A\u001B[A\n",
      "\n",
      "Selecting Coreset Indices.:  81%|████████  | 1887/2330 [01:06<00:03, 123.28it/s]\u001B[A\u001B[A\n",
      "\n",
      "Selecting Coreset Indices.:  82%|████████▏ | 1900/2330 [01:06<00:03, 123.36it/s]\u001B[A\u001B[A\n",
      "\n",
      "Selecting Coreset Indices.:  82%|████████▏ | 1913/2330 [01:06<00:03, 123.42it/s]\u001B[A\u001B[A\n",
      "\n",
      "Selecting Coreset Indices.:  83%|████████▎ | 1926/2330 [01:06<00:03, 102.96it/s]\u001B[A\u001B[A\n",
      "\n",
      "Selecting Coreset Indices.:  83%|████████▎ | 1938/2330 [01:06<00:03, 106.59it/s]\u001B[A\u001B[A\n",
      "\n",
      "Selecting Coreset Indices.:  84%|████████▍ | 1966/2330 [01:06<00:02, 151.44it/s]\u001B[A\u001B[A\n",
      "\n",
      "Selecting Coreset Indices.:  85%|████████▌ | 1984/2330 [01:06<00:02, 156.89it/s]\u001B[A\u001B[A\n",
      "\n",
      "Selecting Coreset Indices.:  86%|████████▌ | 2001/2330 [01:06<00:02, 129.56it/s]\u001B[A\u001B[A\n",
      "\n",
      "Selecting Coreset Indices.:  87%|████████▋ | 2016/2330 [01:07<00:02, 133.59it/s]\u001B[A\u001B[A\n",
      "\n",
      "Selecting Coreset Indices.:  87%|████████▋ | 2031/2330 [01:07<00:02, 135.14it/s]\u001B[A\u001B[A\n",
      "\n",
      "Selecting Coreset Indices.:  88%|████████▊ | 2048/2330 [01:07<00:01, 142.44it/s]\u001B[A\u001B[A\n",
      "\n",
      "Selecting Coreset Indices.:  89%|████████▊ | 2063/2330 [01:07<00:02, 132.15it/s]\u001B[A\u001B[A\n",
      "\n",
      "Selecting Coreset Indices.:  89%|████████▉ | 2083/2330 [01:07<00:01, 148.50it/s]\u001B[A\u001B[A\n",
      "\n",
      "Selecting Coreset Indices.:  90%|█████████ | 2099/2330 [01:07<00:01, 143.14it/s]\u001B[A\u001B[A\n",
      "\n",
      "Selecting Coreset Indices.:  91%|█████████ | 2124/2330 [01:07<00:01, 169.71it/s]\u001B[A\u001B[A\n",
      "\n",
      "Selecting Coreset Indices.:  92%|█████████▏| 2142/2330 [01:07<00:01, 163.06it/s]\u001B[A\u001B[A\n",
      "\n",
      "Selecting Coreset Indices.:  93%|█████████▎| 2159/2330 [01:08<00:01, 112.52it/s]\u001B[A\u001B[A\n",
      "\n",
      "Selecting Coreset Indices.:  93%|█████████▎| 2176/2330 [01:08<00:01, 124.19it/s]\u001B[A\u001B[A\n",
      "\n",
      "Selecting Coreset Indices.:  94%|█████████▍| 2191/2330 [01:08<00:01, 109.87it/s]\u001B[A\u001B[A\n",
      "\n",
      "Selecting Coreset Indices.:  95%|█████████▍| 2211/2330 [01:08<00:00, 129.34it/s]\u001B[A\u001B[A\n",
      "\n",
      "Selecting Coreset Indices.:  96%|█████████▌| 2233/2330 [01:08<00:00, 149.92it/s]\u001B[A\u001B[A\n",
      "\n",
      "Selecting Coreset Indices.:  97%|█████████▋| 2257/2330 [01:08<00:00, 161.71it/s]\u001B[A\u001B[A\n",
      "\n",
      "Selecting Coreset Indices.:  98%|█████████▊| 2275/2330 [01:08<00:00, 147.69it/s]\u001B[A\u001B[A\n",
      "\n",
      "Selecting Coreset Indices.:  98%|█████████▊| 2291/2330 [01:09<00:00, 135.85it/s]\u001B[A\u001B[A\n",
      "\n",
      "Selecting Coreset Indices.: 100%|██████████| 2330/2330 [01:09<00:00, 33.66it/s] \u001B[A\u001B[A\n",
      "INFO:lightning_fabric.utilities.rank_zero:`Trainer.fit` stopped: `max_epochs=1` reached.\n",
      "INFO:anomalib.callbacks.timer:Training took 182.12 seconds\n",
      "INFO:lightning_fabric.utilities.rank_zero:The following callbacks returned in `LightningModule.configure_callbacks` will override existing callbacks passed to Trainer: Evaluator, ImageVisualizer, PostProcessor, PreProcessor\n",
      "INFO:anomalib.data.datamodules.image.mvtecad:Found the dataset.\n"
     ]
    },
    {
     "data": {
      "text/plain": [
       "Testing: |          | 0/? [00:00<?, ?it/s]"
      ],
      "application/vnd.jupyter.widget-view+json": {
       "version_major": 2,
       "version_minor": 0,
       "model_id": "77321de96150481c8c833ab00e677bbd"
      }
     },
     "metadata": {},
     "output_type": "display_data"
    },
    {
     "name": "stderr",
     "output_type": "stream",
     "text": [
      "INFO:anomalib.callbacks.timer:Testing took 192.94680166244507 seconds\n",
      "Throughput (batch_size=32) : 0.43017038522984247 FPS\n"
     ]
    },
    {
     "data": {
      "text/plain": [
       "┏━━━━━━━━━━━━━━━━━━━━━━━━━━━┳━━━━━━━━━━━━━━━━━━━━━━━━━━━┓\n",
       "┃\u001B[1m \u001B[0m\u001B[1m       Test metric       \u001B[0m\u001B[1m \u001B[0m┃\u001B[1m \u001B[0m\u001B[1m      DataLoader 0       \u001B[0m\u001B[1m \u001B[0m┃\n",
       "┡━━━━━━━━━━━━━━━━━━━━━━━━━━━╇━━━━━━━━━━━━━━━━━━━━━━━━━━━┩\n",
       "│\u001B[36m \u001B[0m\u001B[36m       image_AUROC       \u001B[0m\u001B[36m \u001B[0m│\u001B[35m \u001B[0m\u001B[35m           1.0           \u001B[0m\u001B[35m \u001B[0m│\n",
       "│\u001B[36m \u001B[0m\u001B[36m      image_F1Score      \u001B[0m\u001B[36m \u001B[0m│\u001B[35m \u001B[0m\u001B[35m   0.9919999837875366    \u001B[0m\u001B[35m \u001B[0m│\n",
       "│\u001B[36m \u001B[0m\u001B[36m       pixel_AUROC       \u001B[0m\u001B[36m \u001B[0m│\u001B[35m \u001B[0m\u001B[35m   0.9812473058700562    \u001B[0m\u001B[35m \u001B[0m│\n",
       "│\u001B[36m \u001B[0m\u001B[36m      pixel_F1Score      \u001B[0m\u001B[36m \u001B[0m│\u001B[35m \u001B[0m\u001B[35m   0.7355218529701233    \u001B[0m\u001B[35m \u001B[0m│\n",
       "└───────────────────────────┴───────────────────────────┘\n"
      ],
      "text/html": [
       "<pre style=\"white-space:pre;overflow-x:auto;line-height:normal;font-family:Menlo,'DejaVu Sans Mono',consolas,'Courier New',monospace\">┏━━━━━━━━━━━━━━━━━━━━━━━━━━━┳━━━━━━━━━━━━━━━━━━━━━━━━━━━┓\n",
       "┃<span style=\"font-weight: bold\">        Test metric        </span>┃<span style=\"font-weight: bold\">       DataLoader 0        </span>┃\n",
       "┡━━━━━━━━━━━━━━━━━━━━━━━━━━━╇━━━━━━━━━━━━━━━━━━━━━━━━━━━┩\n",
       "│<span style=\"color: #008080; text-decoration-color: #008080\">        image_AUROC        </span>│<span style=\"color: #800080; text-decoration-color: #800080\">            1.0            </span>│\n",
       "│<span style=\"color: #008080; text-decoration-color: #008080\">       image_F1Score       </span>│<span style=\"color: #800080; text-decoration-color: #800080\">    0.9919999837875366     </span>│\n",
       "│<span style=\"color: #008080; text-decoration-color: #008080\">        pixel_AUROC        </span>│<span style=\"color: #800080; text-decoration-color: #800080\">    0.9812473058700562     </span>│\n",
       "│<span style=\"color: #008080; text-decoration-color: #008080\">       pixel_F1Score       </span>│<span style=\"color: #800080; text-decoration-color: #800080\">    0.7355218529701233     </span>│\n",
       "└───────────────────────────┴───────────────────────────┘\n",
       "</pre>\n"
      ]
     },
     "metadata": {},
     "output_type": "display_data"
    },
    {
     "name": "stdout",
     "output_type": "stream",
     "text": [
      "[{'image_AUROC': 1.0, 'image_F1Score': 0.9919999837875366, 'pixel_AUROC': 0.9812473058700562, 'pixel_F1Score': 0.7355218529701233}]\n"
     ]
    },
    {
     "name": "stderr",
     "output_type": "stream",
     "text": [
      "[I 2025-04-09 21:33:36,377] Trial 8 finished with value: 1.0 and parameters: {'backbone': 'wide_resnet50_2', 'coreset_sampling_ratio': 0.49552158455424633, 'num_neighbors': 78}. Best is trial 0 with value: 1.0.\n",
      "INFO:anomalib.models.components.base.anomalib_module:Initializing Patchcore model.\n",
      "INFO:timm.models._builder:Loading pretrained weights from Hugging Face hub (timm/wide_resnet50_2.racm_in1k)\n",
      "INFO:timm.models._hub:[timm/wide_resnet50_2.racm_in1k] Safe alternative available for 'pytorch_model.bin' (as 'model.safetensors'). Loading weights using safetensors.\n",
      "INFO:timm.models._builder:Missing keys (fc.weight, fc.bias) discovered while loading pretrained weights. This is expected if model is being adapted.\n",
      "/tmp/ipykernel_13568/599406512.py:27: DeprecationWarning:\n",
      "\n",
      "MVTec is deprecated and will be removed in a future version. Please use MVTecAD instead.\n",
      "\n",
      "INFO:lightning_fabric.utilities.rank_zero:GPU available: False, used: False\n",
      "INFO:lightning_fabric.utilities.rank_zero:TPU available: False, using: 0 TPU cores\n",
      "INFO:lightning_fabric.utilities.rank_zero:HPU available: False, using: 0 HPUs\n",
      "INFO:anomalib.data.datamodules.image.mvtecad:Found the dataset.\n",
      "/home/pawel/.local/lib/python3.10/site-packages/lightning/pytorch/core/optimizer.py:183: UserWarning:\n",
      "\n",
      "`LightningModule.configure_optimizers` returned `None`, this fit will run with no optimizer\n",
      "\n",
      "\n",
      "  | Name           | Type           | Params | Mode \n",
      "----------------------------------------------------------\n",
      "0 | pre_processor  | PreProcessor   | 0      | train\n",
      "1 | post_processor | PostProcessor  | 0      | train\n",
      "2 | evaluator      | Evaluator      | 0      | train\n",
      "3 | model          | PatchcoreModel | 24.9 M | train\n",
      "----------------------------------------------------------\n",
      "24.9 M    Trainable params\n",
      "0         Non-trainable params\n",
      "24.9 M    Total params\n",
      "99.450    Total estimated model params size (MB)\n",
      "19        Modules in train mode\n",
      "174       Modules in eval mode\n"
     ]
    },
    {
     "data": {
      "text/plain": [
       "Training: |          | 0/? [00:00<?, ?it/s]"
      ],
      "application/vnd.jupyter.widget-view+json": {
       "version_major": 2,
       "version_minor": 0,
       "model_id": "b92569d6b79f47e3b0833e1c6c8aa6c1"
      }
     },
     "metadata": {},
     "output_type": "display_data"
    },
    {
     "data": {
      "text/plain": [
       "Validation: |          | 0/? [00:00<?, ?it/s]"
      ],
      "application/vnd.jupyter.widget-view+json": {
       "version_major": 2,
       "version_minor": 0,
       "model_id": "131d03cd4a6c45e894ac9a1bfb455b70"
      }
     },
     "metadata": {},
     "output_type": "display_data"
    },
    {
     "name": "stderr",
     "output_type": "stream",
     "text": [
      "INFO:anomalib.models.image.patchcore.lightning_model:Aggregating the embedding extracted from the training set.\n",
      "INFO:anomalib.models.image.patchcore.lightning_model:Applying core-set subsampling to get the embedding.\n",
      "\n",
      "\n",
      "Selecting Coreset Indices.:   0%|          | 0/284 [00:00<?, ?it/s]\u001B[A\u001B[A\n",
      "\n",
      "Selecting Coreset Indices.:   1%|          | 2/284 [00:00<00:28,  9.93it/s]\u001B[A\u001B[A\n",
      "\n",
      "Selecting Coreset Indices.:   3%|▎         | 9/284 [00:00<00:07, 34.70it/s]\u001B[A\u001B[A\n",
      "\n",
      "Selecting Coreset Indices.:   6%|▋         | 18/284 [00:00<00:05, 49.15it/s]\u001B[A\u001B[A\n",
      "\n",
      "Selecting Coreset Indices.:  11%|█         | 30/284 [00:00<00:04, 62.13it/s]\u001B[A\u001B[A\n",
      "\n",
      "Selecting Coreset Indices.:  13%|█▎        | 37/284 [00:00<00:05, 44.25it/s]\u001B[A\u001B[A\n",
      "\n",
      "Selecting Coreset Indices.:  15%|█▌        | 43/284 [00:01<00:06, 38.96it/s]\u001B[A\u001B[A\n",
      "\n",
      "Selecting Coreset Indices.:  17%|█▋        | 48/284 [00:01<00:07, 32.95it/s]\u001B[A\u001B[A\n",
      "\n",
      "Selecting Coreset Indices.:  18%|█▊        | 52/284 [00:01<00:07, 29.44it/s]\u001B[A\u001B[A\n",
      "\n",
      "Selecting Coreset Indices.:  20%|█▉        | 56/284 [00:01<00:08, 26.30it/s]\u001B[A\u001B[A\n",
      "\n",
      "Selecting Coreset Indices.:  21%|██        | 59/284 [00:01<00:09, 24.73it/s]\u001B[A\u001B[A\n",
      "\n",
      "Selecting Coreset Indices.:  22%|██▏       | 62/284 [00:01<00:09, 23.34it/s]\u001B[A\u001B[A\n",
      "\n",
      "Selecting Coreset Indices.:  23%|██▎       | 65/284 [00:02<00:09, 22.69it/s]\u001B[A\u001B[A\n",
      "\n",
      "Selecting Coreset Indices.:  24%|██▍       | 68/284 [00:02<00:09, 23.25it/s]\u001B[A\u001B[A\n",
      "\n",
      "Selecting Coreset Indices.:  25%|██▌       | 71/284 [00:02<00:09, 22.20it/s]\u001B[A\u001B[A\n",
      "\n",
      "Selecting Coreset Indices.:  26%|██▌       | 74/284 [00:02<00:09, 21.08it/s]\u001B[A\u001B[A\n",
      "\n",
      "Selecting Coreset Indices.:  27%|██▋       | 77/284 [00:02<00:10, 19.79it/s]\u001B[A\u001B[A\n",
      "\n",
      "Selecting Coreset Indices.:  29%|██▊       | 81/284 [00:02<00:08, 22.59it/s]\u001B[A\u001B[A\n",
      "\n",
      "Selecting Coreset Indices.:  30%|██▉       | 84/284 [00:02<00:09, 21.96it/s]\u001B[A\u001B[A\n",
      "\n",
      "Selecting Coreset Indices.:  31%|███       | 87/284 [00:03<00:08, 21.97it/s]\u001B[A\u001B[A\n",
      "\n",
      "Selecting Coreset Indices.:  33%|███▎      | 94/284 [00:03<00:05, 31.96it/s]\u001B[A\u001B[A\n",
      "\n",
      "Selecting Coreset Indices.:  35%|███▍      | 99/284 [00:03<00:05, 34.37it/s]\u001B[A\u001B[A\n",
      "\n",
      "Selecting Coreset Indices.:  36%|███▋      | 103/284 [00:03<00:05, 34.86it/s]\u001B[A\u001B[A\n",
      "\n",
      "Selecting Coreset Indices.:  38%|███▊      | 107/284 [00:03<00:05, 31.02it/s]\u001B[A\u001B[A\n",
      "\n",
      "Selecting Coreset Indices.:  39%|███▉      | 111/284 [00:03<00:05, 31.87it/s]\u001B[A\u001B[A\n",
      "\n",
      "Selecting Coreset Indices.:  40%|████      | 115/284 [00:03<00:05, 28.24it/s]\u001B[A\u001B[A\n",
      "\n",
      "Selecting Coreset Indices.:  42%|████▏     | 119/284 [00:04<00:05, 29.69it/s]\u001B[A\u001B[A\n",
      "\n",
      "Selecting Coreset Indices.:  45%|████▍     | 127/284 [00:04<00:03, 41.62it/s]\u001B[A\u001B[A\n",
      "\n",
      "Selecting Coreset Indices.:  47%|████▋     | 133/284 [00:04<00:03, 46.21it/s]\u001B[A\u001B[A\n",
      "\n",
      "Selecting Coreset Indices.:  49%|████▊     | 138/284 [00:06<00:17,  8.36it/s]\u001B[A\u001B[A\n",
      "\n",
      "Selecting Coreset Indices.:  50%|█████     | 142/284 [00:06<00:13, 10.27it/s]\u001B[A\u001B[A\n",
      "\n",
      "Selecting Coreset Indices.:  52%|█████▏    | 147/284 [00:06<00:10, 13.42it/s]\u001B[A\u001B[A\n",
      "\n",
      "Selecting Coreset Indices.:  53%|█████▎    | 151/284 [00:06<00:08, 15.74it/s]\u001B[A\u001B[A\n",
      "\n",
      "Selecting Coreset Indices.:  55%|█████▍    | 155/284 [00:06<00:07, 18.03it/s]\u001B[A\u001B[A\n",
      "\n",
      "Selecting Coreset Indices.:  56%|█████▌    | 159/284 [00:06<00:05, 21.21it/s]\u001B[A\u001B[A\n",
      "\n",
      "Selecting Coreset Indices.:  57%|█████▋    | 163/284 [00:06<00:05, 23.48it/s]\u001B[A\u001B[A\n",
      "\n",
      "Selecting Coreset Indices.:  61%|██████    | 172/284 [00:06<00:03, 35.72it/s]\u001B[A\u001B[A\n",
      "\n",
      "Selecting Coreset Indices.:  62%|██████▏   | 177/284 [00:07<00:03, 32.48it/s]\u001B[A\u001B[A\n",
      "\n",
      "Selecting Coreset Indices.:  64%|██████▍   | 182/284 [00:07<00:03, 33.64it/s]\u001B[A\u001B[A\n",
      "\n",
      "Selecting Coreset Indices.:  66%|██████▌   | 187/284 [00:07<00:02, 35.98it/s]\u001B[A\u001B[A\n",
      "\n",
      "Selecting Coreset Indices.:  68%|██████▊   | 194/284 [00:07<00:02, 43.55it/s]\u001B[A\u001B[A\n",
      "\n",
      "Selecting Coreset Indices.:  70%|███████   | 199/284 [00:07<00:02, 39.58it/s]\u001B[A\u001B[A\n",
      "\n",
      "Selecting Coreset Indices.:  72%|███████▏  | 204/284 [00:07<00:02, 39.97it/s]\u001B[A\u001B[A\n",
      "\n",
      "Selecting Coreset Indices.:  74%|███████▍  | 211/284 [00:07<00:01, 46.33it/s]\u001B[A\u001B[A\n",
      "\n",
      "Selecting Coreset Indices.:  76%|███████▋  | 217/284 [00:07<00:01, 49.11it/s]\u001B[A\u001B[A\n",
      "\n",
      "Selecting Coreset Indices.:  79%|███████▊  | 223/284 [00:08<00:01, 43.14it/s]\u001B[A\u001B[A\n",
      "\n",
      "Selecting Coreset Indices.:  80%|████████  | 228/284 [00:08<00:01, 38.77it/s]\u001B[A\u001B[A\n",
      "\n",
      "Selecting Coreset Indices.:  82%|████████▏ | 233/284 [00:08<00:01, 36.51it/s]\u001B[A\u001B[A\n",
      "\n",
      "Selecting Coreset Indices.:  83%|████████▎ | 237/284 [00:08<00:01, 37.25it/s]\u001B[A\u001B[A\n",
      "\n",
      "Selecting Coreset Indices.:  85%|████████▍ | 241/284 [00:08<00:01, 37.41it/s]\u001B[A\u001B[A\n",
      "\n",
      "Selecting Coreset Indices.:  87%|████████▋ | 246/284 [00:08<00:00, 39.58it/s]\u001B[A\u001B[A\n",
      "\n",
      "Selecting Coreset Indices.:  88%|████████▊ | 251/284 [00:08<00:00, 39.09it/s]\u001B[A\u001B[A\n",
      "\n",
      "Selecting Coreset Indices.:  92%|█████████▏| 262/284 [00:09<00:00, 56.69it/s]\u001B[A\u001B[A\n",
      "\n",
      "Selecting Coreset Indices.:  95%|█████████▍| 269/284 [00:09<00:00, 55.63it/s]\u001B[A\u001B[A\n",
      "\n",
      "Selecting Coreset Indices.:  97%|█████████▋| 275/284 [00:09<00:00, 49.77it/s]\u001B[A\u001B[A\n",
      "\n",
      "Selecting Coreset Indices.: 100%|██████████| 284/284 [00:09<00:00, 29.71it/s]\u001B[A\u001B[A\n",
      "INFO:lightning_fabric.utilities.rank_zero:`Trainer.fit` stopped: `max_epochs=1` reached.\n",
      "INFO:anomalib.callbacks.timer:Training took 1185.53 seconds\n",
      "INFO:lightning_fabric.utilities.rank_zero:The following callbacks returned in `LightningModule.configure_callbacks` will override existing callbacks passed to Trainer: Evaluator, ImageVisualizer, PostProcessor, PreProcessor\n",
      "INFO:anomalib.data.datamodules.image.mvtecad:Found the dataset.\n"
     ]
    },
    {
     "data": {
      "text/plain": [
       "Testing: |          | 0/? [00:00<?, ?it/s]"
      ],
      "application/vnd.jupyter.widget-view+json": {
       "version_major": 2,
       "version_minor": 0,
       "model_id": "39edba92b4174d0a9b6022d2db8d2bd7"
      }
     },
     "metadata": {},
     "output_type": "display_data"
    },
    {
     "name": "stderr",
     "output_type": "stream",
     "text": [
      "INFO:anomalib.callbacks.timer:Testing took 31.544442892074585 seconds\n",
      "Throughput (batch_size=32) : 2.6312083013789227 FPS\n"
     ]
    },
    {
     "data": {
      "text/plain": [
       "┏━━━━━━━━━━━━━━━━━━━━━━━━━━━┳━━━━━━━━━━━━━━━━━━━━━━━━━━━┓\n",
       "┃\u001B[1m \u001B[0m\u001B[1m       Test metric       \u001B[0m\u001B[1m \u001B[0m┃\u001B[1m \u001B[0m\u001B[1m      DataLoader 0       \u001B[0m\u001B[1m \u001B[0m┃\n",
       "┡━━━━━━━━━━━━━━━━━━━━━━━━━━━╇━━━━━━━━━━━━━━━━━━━━━━━━━━━┩\n",
       "│\u001B[36m \u001B[0m\u001B[36m       image_AUROC       \u001B[0m\u001B[36m \u001B[0m│\u001B[35m \u001B[0m\u001B[35m    0.995238184928894    \u001B[0m\u001B[35m \u001B[0m│\n",
       "│\u001B[36m \u001B[0m\u001B[36m      image_F1Score      \u001B[0m\u001B[36m \u001B[0m│\u001B[35m \u001B[0m\u001B[35m   0.9841269850730896    \u001B[0m\u001B[35m \u001B[0m│\n",
       "│\u001B[36m \u001B[0m\u001B[36m       pixel_AUROC       \u001B[0m\u001B[36m \u001B[0m│\u001B[35m \u001B[0m\u001B[35m   0.9807025194168091    \u001B[0m\u001B[35m \u001B[0m│\n",
       "│\u001B[36m \u001B[0m\u001B[36m      pixel_F1Score      \u001B[0m\u001B[36m \u001B[0m│\u001B[35m \u001B[0m\u001B[35m   0.7271226048469543    \u001B[0m\u001B[35m \u001B[0m│\n",
       "└───────────────────────────┴───────────────────────────┘\n"
      ],
      "text/html": [
       "<pre style=\"white-space:pre;overflow-x:auto;line-height:normal;font-family:Menlo,'DejaVu Sans Mono',consolas,'Courier New',monospace\">┏━━━━━━━━━━━━━━━━━━━━━━━━━━━┳━━━━━━━━━━━━━━━━━━━━━━━━━━━┓\n",
       "┃<span style=\"font-weight: bold\">        Test metric        </span>┃<span style=\"font-weight: bold\">       DataLoader 0        </span>┃\n",
       "┡━━━━━━━━━━━━━━━━━━━━━━━━━━━╇━━━━━━━━━━━━━━━━━━━━━━━━━━━┩\n",
       "│<span style=\"color: #008080; text-decoration-color: #008080\">        image_AUROC        </span>│<span style=\"color: #800080; text-decoration-color: #800080\">     0.995238184928894     </span>│\n",
       "│<span style=\"color: #008080; text-decoration-color: #008080\">       image_F1Score       </span>│<span style=\"color: #800080; text-decoration-color: #800080\">    0.9841269850730896     </span>│\n",
       "│<span style=\"color: #008080; text-decoration-color: #008080\">        pixel_AUROC        </span>│<span style=\"color: #800080; text-decoration-color: #800080\">    0.9807025194168091     </span>│\n",
       "│<span style=\"color: #008080; text-decoration-color: #008080\">       pixel_F1Score       </span>│<span style=\"color: #800080; text-decoration-color: #800080\">    0.7271226048469543     </span>│\n",
       "└───────────────────────────┴───────────────────────────┘\n",
       "</pre>\n"
      ]
     },
     "metadata": {},
     "output_type": "display_data"
    },
    {
     "name": "stderr",
     "output_type": "stream",
     "text": [
      "[I 2025-04-09 21:54:07,187] Trial 9 finished with value: 0.995238184928894 and parameters: {'backbone': 'wide_resnet50_2', 'coreset_sampling_ratio': 0.060495426478212024, 'num_neighbors': 1}. Best is trial 0 with value: 1.0.\n"
     ]
    },
    {
     "name": "stdout",
     "output_type": "stream",
     "text": [
      "[{'image_AUROC': 0.995238184928894, 'image_F1Score': 0.9841269850730896, 'pixel_AUROC': 0.9807025194168091, 'pixel_F1Score': 0.7271226048469543}]\n",
      "Najlepszy trial:\n",
      "  AUROC: 1.0\n",
      "  Parametry: {'backbone': 'wide_resnet50_2', 'coreset_sampling_ratio': 0.12644514780775395, 'num_neighbors': 60}\n"
     ]
    },
    {
     "data": {
      "application/vnd.plotly.v1+json": {
       "data": [
        {
         "mode": "markers",
         "name": "Objective Value",
         "x": [
          0,
          1,
          2,
          3,
          4,
          5,
          6,
          7,
          8,
          9
         ],
         "y": [
          1.0,
          1.0,
          1.0,
          1.0,
          0.9968254566192627,
          0.9936508536338806,
          1.0,
          0.9976190328598022,
          1.0,
          0.995238184928894
         ],
         "type": "scatter"
        },
        {
         "mode": "lines",
         "name": "Best Value",
         "x": [
          0,
          1,
          2,
          3,
          4,
          5,
          6,
          7,
          8,
          9
         ],
         "y": [
          1.0,
          1.0,
          1.0,
          1.0,
          1.0,
          1.0,
          1.0,
          1.0,
          1.0,
          1.0
         ],
         "type": "scatter"
        },
        {
         "marker": {
          "color": "#cccccc"
         },
         "mode": "markers",
         "name": "Infeasible Trial",
         "showlegend": false,
         "x": [],
         "y": [],
         "type": "scatter"
        }
       ],
       "layout": {
        "title": {
         "text": "Optimization History Plot"
        },
        "xaxis": {
         "title": {
          "text": "Trial"
         }
        },
        "yaxis": {
         "title": {
          "text": "Objective Value"
         }
        },
        "template": {
         "data": {
          "histogram2dcontour": [
           {
            "type": "histogram2dcontour",
            "colorbar": {
             "outlinewidth": 0,
             "ticks": ""
            },
            "colorscale": [
             [
              0.0,
              "#0d0887"
             ],
             [
              0.1111111111111111,
              "#46039f"
             ],
             [
              0.2222222222222222,
              "#7201a8"
             ],
             [
              0.3333333333333333,
              "#9c179e"
             ],
             [
              0.4444444444444444,
              "#bd3786"
             ],
             [
              0.5555555555555556,
              "#d8576b"
             ],
             [
              0.6666666666666666,
              "#ed7953"
             ],
             [
              0.7777777777777778,
              "#fb9f3a"
             ],
             [
              0.8888888888888888,
              "#fdca26"
             ],
             [
              1.0,
              "#f0f921"
             ]
            ]
           }
          ],
          "choropleth": [
           {
            "type": "choropleth",
            "colorbar": {
             "outlinewidth": 0,
             "ticks": ""
            }
           }
          ],
          "histogram2d": [
           {
            "type": "histogram2d",
            "colorbar": {
             "outlinewidth": 0,
             "ticks": ""
            },
            "colorscale": [
             [
              0.0,
              "#0d0887"
             ],
             [
              0.1111111111111111,
              "#46039f"
             ],
             [
              0.2222222222222222,
              "#7201a8"
             ],
             [
              0.3333333333333333,
              "#9c179e"
             ],
             [
              0.4444444444444444,
              "#bd3786"
             ],
             [
              0.5555555555555556,
              "#d8576b"
             ],
             [
              0.6666666666666666,
              "#ed7953"
             ],
             [
              0.7777777777777778,
              "#fb9f3a"
             ],
             [
              0.8888888888888888,
              "#fdca26"
             ],
             [
              1.0,
              "#f0f921"
             ]
            ]
           }
          ],
          "heatmap": [
           {
            "type": "heatmap",
            "colorbar": {
             "outlinewidth": 0,
             "ticks": ""
            },
            "colorscale": [
             [
              0.0,
              "#0d0887"
             ],
             [
              0.1111111111111111,
              "#46039f"
             ],
             [
              0.2222222222222222,
              "#7201a8"
             ],
             [
              0.3333333333333333,
              "#9c179e"
             ],
             [
              0.4444444444444444,
              "#bd3786"
             ],
             [
              0.5555555555555556,
              "#d8576b"
             ],
             [
              0.6666666666666666,
              "#ed7953"
             ],
             [
              0.7777777777777778,
              "#fb9f3a"
             ],
             [
              0.8888888888888888,
              "#fdca26"
             ],
             [
              1.0,
              "#f0f921"
             ]
            ]
           }
          ],
          "heatmapgl": [
           {
            "type": "heatmapgl",
            "colorbar": {
             "outlinewidth": 0,
             "ticks": ""
            },
            "colorscale": [
             [
              0.0,
              "#0d0887"
             ],
             [
              0.1111111111111111,
              "#46039f"
             ],
             [
              0.2222222222222222,
              "#7201a8"
             ],
             [
              0.3333333333333333,
              "#9c179e"
             ],
             [
              0.4444444444444444,
              "#bd3786"
             ],
             [
              0.5555555555555556,
              "#d8576b"
             ],
             [
              0.6666666666666666,
              "#ed7953"
             ],
             [
              0.7777777777777778,
              "#fb9f3a"
             ],
             [
              0.8888888888888888,
              "#fdca26"
             ],
             [
              1.0,
              "#f0f921"
             ]
            ]
           }
          ],
          "contourcarpet": [
           {
            "type": "contourcarpet",
            "colorbar": {
             "outlinewidth": 0,
             "ticks": ""
            }
           }
          ],
          "contour": [
           {
            "type": "contour",
            "colorbar": {
             "outlinewidth": 0,
             "ticks": ""
            },
            "colorscale": [
             [
              0.0,
              "#0d0887"
             ],
             [
              0.1111111111111111,
              "#46039f"
             ],
             [
              0.2222222222222222,
              "#7201a8"
             ],
             [
              0.3333333333333333,
              "#9c179e"
             ],
             [
              0.4444444444444444,
              "#bd3786"
             ],
             [
              0.5555555555555556,
              "#d8576b"
             ],
             [
              0.6666666666666666,
              "#ed7953"
             ],
             [
              0.7777777777777778,
              "#fb9f3a"
             ],
             [
              0.8888888888888888,
              "#fdca26"
             ],
             [
              1.0,
              "#f0f921"
             ]
            ]
           }
          ],
          "surface": [
           {
            "type": "surface",
            "colorbar": {
             "outlinewidth": 0,
             "ticks": ""
            },
            "colorscale": [
             [
              0.0,
              "#0d0887"
             ],
             [
              0.1111111111111111,
              "#46039f"
             ],
             [
              0.2222222222222222,
              "#7201a8"
             ],
             [
              0.3333333333333333,
              "#9c179e"
             ],
             [
              0.4444444444444444,
              "#bd3786"
             ],
             [
              0.5555555555555556,
              "#d8576b"
             ],
             [
              0.6666666666666666,
              "#ed7953"
             ],
             [
              0.7777777777777778,
              "#fb9f3a"
             ],
             [
              0.8888888888888888,
              "#fdca26"
             ],
             [
              1.0,
              "#f0f921"
             ]
            ]
           }
          ],
          "mesh3d": [
           {
            "type": "mesh3d",
            "colorbar": {
             "outlinewidth": 0,
             "ticks": ""
            }
           }
          ],
          "scatter": [
           {
            "fillpattern": {
             "fillmode": "overlay",
             "size": 10,
             "solidity": 0.2
            },
            "type": "scatter"
           }
          ],
          "parcoords": [
           {
            "type": "parcoords",
            "line": {
             "colorbar": {
              "outlinewidth": 0,
              "ticks": ""
             }
            }
           }
          ],
          "scatterpolargl": [
           {
            "type": "scatterpolargl",
            "marker": {
             "colorbar": {
              "outlinewidth": 0,
              "ticks": ""
             }
            }
           }
          ],
          "bar": [
           {
            "error_x": {
             "color": "#2a3f5f"
            },
            "error_y": {
             "color": "#2a3f5f"
            },
            "marker": {
             "line": {
              "color": "#E5ECF6",
              "width": 0.5
             },
             "pattern": {
              "fillmode": "overlay",
              "size": 10,
              "solidity": 0.2
             }
            },
            "type": "bar"
           }
          ],
          "scattergeo": [
           {
            "type": "scattergeo",
            "marker": {
             "colorbar": {
              "outlinewidth": 0,
              "ticks": ""
             }
            }
           }
          ],
          "scatterpolar": [
           {
            "type": "scatterpolar",
            "marker": {
             "colorbar": {
              "outlinewidth": 0,
              "ticks": ""
             }
            }
           }
          ],
          "histogram": [
           {
            "marker": {
             "pattern": {
              "fillmode": "overlay",
              "size": 10,
              "solidity": 0.2
             }
            },
            "type": "histogram"
           }
          ],
          "scattergl": [
           {
            "type": "scattergl",
            "marker": {
             "colorbar": {
              "outlinewidth": 0,
              "ticks": ""
             }
            }
           }
          ],
          "scatter3d": [
           {
            "type": "scatter3d",
            "line": {
             "colorbar": {
              "outlinewidth": 0,
              "ticks": ""
             }
            },
            "marker": {
             "colorbar": {
              "outlinewidth": 0,
              "ticks": ""
             }
            }
           }
          ],
          "scattermapbox": [
           {
            "type": "scattermapbox",
            "marker": {
             "colorbar": {
              "outlinewidth": 0,
              "ticks": ""
             }
            }
           }
          ],
          "scatterternary": [
           {
            "type": "scatterternary",
            "marker": {
             "colorbar": {
              "outlinewidth": 0,
              "ticks": ""
             }
            }
           }
          ],
          "scattercarpet": [
           {
            "type": "scattercarpet",
            "marker": {
             "colorbar": {
              "outlinewidth": 0,
              "ticks": ""
             }
            }
           }
          ],
          "carpet": [
           {
            "aaxis": {
             "endlinecolor": "#2a3f5f",
             "gridcolor": "white",
             "linecolor": "white",
             "minorgridcolor": "white",
             "startlinecolor": "#2a3f5f"
            },
            "baxis": {
             "endlinecolor": "#2a3f5f",
             "gridcolor": "white",
             "linecolor": "white",
             "minorgridcolor": "white",
             "startlinecolor": "#2a3f5f"
            },
            "type": "carpet"
           }
          ],
          "table": [
           {
            "cells": {
             "fill": {
              "color": "#EBF0F8"
             },
             "line": {
              "color": "white"
             }
            },
            "header": {
             "fill": {
              "color": "#C8D4E3"
             },
             "line": {
              "color": "white"
             }
            },
            "type": "table"
           }
          ],
          "barpolar": [
           {
            "marker": {
             "line": {
              "color": "#E5ECF6",
              "width": 0.5
             },
             "pattern": {
              "fillmode": "overlay",
              "size": 10,
              "solidity": 0.2
             }
            },
            "type": "barpolar"
           }
          ],
          "pie": [
           {
            "automargin": true,
            "type": "pie"
           }
          ]
         },
         "layout": {
          "autotypenumbers": "strict",
          "colorway": [
           "#636efa",
           "#EF553B",
           "#00cc96",
           "#ab63fa",
           "#FFA15A",
           "#19d3f3",
           "#FF6692",
           "#B6E880",
           "#FF97FF",
           "#FECB52"
          ],
          "font": {
           "color": "#2a3f5f"
          },
          "hovermode": "closest",
          "hoverlabel": {
           "align": "left"
          },
          "paper_bgcolor": "white",
          "plot_bgcolor": "#E5ECF6",
          "polar": {
           "bgcolor": "#E5ECF6",
           "angularaxis": {
            "gridcolor": "white",
            "linecolor": "white",
            "ticks": ""
           },
           "radialaxis": {
            "gridcolor": "white",
            "linecolor": "white",
            "ticks": ""
           }
          },
          "ternary": {
           "bgcolor": "#E5ECF6",
           "aaxis": {
            "gridcolor": "white",
            "linecolor": "white",
            "ticks": ""
           },
           "baxis": {
            "gridcolor": "white",
            "linecolor": "white",
            "ticks": ""
           },
           "caxis": {
            "gridcolor": "white",
            "linecolor": "white",
            "ticks": ""
           }
          },
          "coloraxis": {
           "colorbar": {
            "outlinewidth": 0,
            "ticks": ""
           }
          },
          "colorscale": {
           "sequential": [
            [
             0.0,
             "#0d0887"
            ],
            [
             0.1111111111111111,
             "#46039f"
            ],
            [
             0.2222222222222222,
             "#7201a8"
            ],
            [
             0.3333333333333333,
             "#9c179e"
            ],
            [
             0.4444444444444444,
             "#bd3786"
            ],
            [
             0.5555555555555556,
             "#d8576b"
            ],
            [
             0.6666666666666666,
             "#ed7953"
            ],
            [
             0.7777777777777778,
             "#fb9f3a"
            ],
            [
             0.8888888888888888,
             "#fdca26"
            ],
            [
             1.0,
             "#f0f921"
            ]
           ],
           "sequentialminus": [
            [
             0.0,
             "#0d0887"
            ],
            [
             0.1111111111111111,
             "#46039f"
            ],
            [
             0.2222222222222222,
             "#7201a8"
            ],
            [
             0.3333333333333333,
             "#9c179e"
            ],
            [
             0.4444444444444444,
             "#bd3786"
            ],
            [
             0.5555555555555556,
             "#d8576b"
            ],
            [
             0.6666666666666666,
             "#ed7953"
            ],
            [
             0.7777777777777778,
             "#fb9f3a"
            ],
            [
             0.8888888888888888,
             "#fdca26"
            ],
            [
             1.0,
             "#f0f921"
            ]
           ],
           "diverging": [
            [
             0,
             "#8e0152"
            ],
            [
             0.1,
             "#c51b7d"
            ],
            [
             0.2,
             "#de77ae"
            ],
            [
             0.3,
             "#f1b6da"
            ],
            [
             0.4,
             "#fde0ef"
            ],
            [
             0.5,
             "#f7f7f7"
            ],
            [
             0.6,
             "#e6f5d0"
            ],
            [
             0.7,
             "#b8e186"
            ],
            [
             0.8,
             "#7fbc41"
            ],
            [
             0.9,
             "#4d9221"
            ],
            [
             1,
             "#276419"
            ]
           ]
          },
          "xaxis": {
           "gridcolor": "white",
           "linecolor": "white",
           "ticks": "",
           "title": {
            "standoff": 15
           },
           "zerolinecolor": "white",
           "automargin": true,
           "zerolinewidth": 2
          },
          "yaxis": {
           "gridcolor": "white",
           "linecolor": "white",
           "ticks": "",
           "title": {
            "standoff": 15
           },
           "zerolinecolor": "white",
           "automargin": true,
           "zerolinewidth": 2
          },
          "scene": {
           "xaxis": {
            "backgroundcolor": "#E5ECF6",
            "gridcolor": "white",
            "linecolor": "white",
            "showbackground": true,
            "ticks": "",
            "zerolinecolor": "white",
            "gridwidth": 2
           },
           "yaxis": {
            "backgroundcolor": "#E5ECF6",
            "gridcolor": "white",
            "linecolor": "white",
            "showbackground": true,
            "ticks": "",
            "zerolinecolor": "white",
            "gridwidth": 2
           },
           "zaxis": {
            "backgroundcolor": "#E5ECF6",
            "gridcolor": "white",
            "linecolor": "white",
            "showbackground": true,
            "ticks": "",
            "zerolinecolor": "white",
            "gridwidth": 2
           }
          },
          "shapedefaults": {
           "line": {
            "color": "#2a3f5f"
           }
          },
          "annotationdefaults": {
           "arrowcolor": "#2a3f5f",
           "arrowhead": 0,
           "arrowwidth": 1
          },
          "geo": {
           "bgcolor": "white",
           "landcolor": "#E5ECF6",
           "subunitcolor": "white",
           "showland": true,
           "showlakes": true,
           "lakecolor": "white"
          },
          "title": {
           "x": 0.05
          },
          "mapbox": {
           "style": "light"
          }
         }
        }
       },
       "config": {
        "plotlyServerURL": "https://plot.ly"
       }
      },
      "text/html": [
       "<div>                            <div id=\"5e961c40-1141-45e8-8fa8-aa8347a5ef5a\" class=\"plotly-graph-div\" style=\"height:525px; width:100%;\"></div>            <script type=\"text/javascript\">                require([\"plotly\"], function(Plotly) {                    window.PLOTLYENV=window.PLOTLYENV || {};                                    if (document.getElementById(\"5e961c40-1141-45e8-8fa8-aa8347a5ef5a\")) {                    Plotly.newPlot(                        \"5e961c40-1141-45e8-8fa8-aa8347a5ef5a\",                        [{\"mode\":\"markers\",\"name\":\"Objective Value\",\"x\":[0,1,2,3,4,5,6,7,8,9],\"y\":[1.0,1.0,1.0,1.0,0.9968254566192627,0.9936508536338806,1.0,0.9976190328598022,1.0,0.995238184928894],\"type\":\"scatter\"},{\"mode\":\"lines\",\"name\":\"Best Value\",\"x\":[0,1,2,3,4,5,6,7,8,9],\"y\":[1.0,1.0,1.0,1.0,1.0,1.0,1.0,1.0,1.0,1.0],\"type\":\"scatter\"},{\"marker\":{\"color\":\"#cccccc\"},\"mode\":\"markers\",\"name\":\"Infeasible Trial\",\"showlegend\":false,\"x\":[],\"y\":[],\"type\":\"scatter\"}],                        {\"title\":{\"text\":\"Optimization History Plot\"},\"xaxis\":{\"title\":{\"text\":\"Trial\"}},\"yaxis\":{\"title\":{\"text\":\"Objective Value\"}},\"template\":{\"data\":{\"histogram2dcontour\":[{\"type\":\"histogram2dcontour\",\"colorbar\":{\"outlinewidth\":0,\"ticks\":\"\"},\"colorscale\":[[0.0,\"#0d0887\"],[0.1111111111111111,\"#46039f\"],[0.2222222222222222,\"#7201a8\"],[0.3333333333333333,\"#9c179e\"],[0.4444444444444444,\"#bd3786\"],[0.5555555555555556,\"#d8576b\"],[0.6666666666666666,\"#ed7953\"],[0.7777777777777778,\"#fb9f3a\"],[0.8888888888888888,\"#fdca26\"],[1.0,\"#f0f921\"]]}],\"choropleth\":[{\"type\":\"choropleth\",\"colorbar\":{\"outlinewidth\":0,\"ticks\":\"\"}}],\"histogram2d\":[{\"type\":\"histogram2d\",\"colorbar\":{\"outlinewidth\":0,\"ticks\":\"\"},\"colorscale\":[[0.0,\"#0d0887\"],[0.1111111111111111,\"#46039f\"],[0.2222222222222222,\"#7201a8\"],[0.3333333333333333,\"#9c179e\"],[0.4444444444444444,\"#bd3786\"],[0.5555555555555556,\"#d8576b\"],[0.6666666666666666,\"#ed7953\"],[0.7777777777777778,\"#fb9f3a\"],[0.8888888888888888,\"#fdca26\"],[1.0,\"#f0f921\"]]}],\"heatmap\":[{\"type\":\"heatmap\",\"colorbar\":{\"outlinewidth\":0,\"ticks\":\"\"},\"colorscale\":[[0.0,\"#0d0887\"],[0.1111111111111111,\"#46039f\"],[0.2222222222222222,\"#7201a8\"],[0.3333333333333333,\"#9c179e\"],[0.4444444444444444,\"#bd3786\"],[0.5555555555555556,\"#d8576b\"],[0.6666666666666666,\"#ed7953\"],[0.7777777777777778,\"#fb9f3a\"],[0.8888888888888888,\"#fdca26\"],[1.0,\"#f0f921\"]]}],\"heatmapgl\":[{\"type\":\"heatmapgl\",\"colorbar\":{\"outlinewidth\":0,\"ticks\":\"\"},\"colorscale\":[[0.0,\"#0d0887\"],[0.1111111111111111,\"#46039f\"],[0.2222222222222222,\"#7201a8\"],[0.3333333333333333,\"#9c179e\"],[0.4444444444444444,\"#bd3786\"],[0.5555555555555556,\"#d8576b\"],[0.6666666666666666,\"#ed7953\"],[0.7777777777777778,\"#fb9f3a\"],[0.8888888888888888,\"#fdca26\"],[1.0,\"#f0f921\"]]}],\"contourcarpet\":[{\"type\":\"contourcarpet\",\"colorbar\":{\"outlinewidth\":0,\"ticks\":\"\"}}],\"contour\":[{\"type\":\"contour\",\"colorbar\":{\"outlinewidth\":0,\"ticks\":\"\"},\"colorscale\":[[0.0,\"#0d0887\"],[0.1111111111111111,\"#46039f\"],[0.2222222222222222,\"#7201a8\"],[0.3333333333333333,\"#9c179e\"],[0.4444444444444444,\"#bd3786\"],[0.5555555555555556,\"#d8576b\"],[0.6666666666666666,\"#ed7953\"],[0.7777777777777778,\"#fb9f3a\"],[0.8888888888888888,\"#fdca26\"],[1.0,\"#f0f921\"]]}],\"surface\":[{\"type\":\"surface\",\"colorbar\":{\"outlinewidth\":0,\"ticks\":\"\"},\"colorscale\":[[0.0,\"#0d0887\"],[0.1111111111111111,\"#46039f\"],[0.2222222222222222,\"#7201a8\"],[0.3333333333333333,\"#9c179e\"],[0.4444444444444444,\"#bd3786\"],[0.5555555555555556,\"#d8576b\"],[0.6666666666666666,\"#ed7953\"],[0.7777777777777778,\"#fb9f3a\"],[0.8888888888888888,\"#fdca26\"],[1.0,\"#f0f921\"]]}],\"mesh3d\":[{\"type\":\"mesh3d\",\"colorbar\":{\"outlinewidth\":0,\"ticks\":\"\"}}],\"scatter\":[{\"fillpattern\":{\"fillmode\":\"overlay\",\"size\":10,\"solidity\":0.2},\"type\":\"scatter\"}],\"parcoords\":[{\"type\":\"parcoords\",\"line\":{\"colorbar\":{\"outlinewidth\":0,\"ticks\":\"\"}}}],\"scatterpolargl\":[{\"type\":\"scatterpolargl\",\"marker\":{\"colorbar\":{\"outlinewidth\":0,\"ticks\":\"\"}}}],\"bar\":[{\"error_x\":{\"color\":\"#2a3f5f\"},\"error_y\":{\"color\":\"#2a3f5f\"},\"marker\":{\"line\":{\"color\":\"#E5ECF6\",\"width\":0.5},\"pattern\":{\"fillmode\":\"overlay\",\"size\":10,\"solidity\":0.2}},\"type\":\"bar\"}],\"scattergeo\":[{\"type\":\"scattergeo\",\"marker\":{\"colorbar\":{\"outlinewidth\":0,\"ticks\":\"\"}}}],\"scatterpolar\":[{\"type\":\"scatterpolar\",\"marker\":{\"colorbar\":{\"outlinewidth\":0,\"ticks\":\"\"}}}],\"histogram\":[{\"marker\":{\"pattern\":{\"fillmode\":\"overlay\",\"size\":10,\"solidity\":0.2}},\"type\":\"histogram\"}],\"scattergl\":[{\"type\":\"scattergl\",\"marker\":{\"colorbar\":{\"outlinewidth\":0,\"ticks\":\"\"}}}],\"scatter3d\":[{\"type\":\"scatter3d\",\"line\":{\"colorbar\":{\"outlinewidth\":0,\"ticks\":\"\"}},\"marker\":{\"colorbar\":{\"outlinewidth\":0,\"ticks\":\"\"}}}],\"scattermapbox\":[{\"type\":\"scattermapbox\",\"marker\":{\"colorbar\":{\"outlinewidth\":0,\"ticks\":\"\"}}}],\"scatterternary\":[{\"type\":\"scatterternary\",\"marker\":{\"colorbar\":{\"outlinewidth\":0,\"ticks\":\"\"}}}],\"scattercarpet\":[{\"type\":\"scattercarpet\",\"marker\":{\"colorbar\":{\"outlinewidth\":0,\"ticks\":\"\"}}}],\"carpet\":[{\"aaxis\":{\"endlinecolor\":\"#2a3f5f\",\"gridcolor\":\"white\",\"linecolor\":\"white\",\"minorgridcolor\":\"white\",\"startlinecolor\":\"#2a3f5f\"},\"baxis\":{\"endlinecolor\":\"#2a3f5f\",\"gridcolor\":\"white\",\"linecolor\":\"white\",\"minorgridcolor\":\"white\",\"startlinecolor\":\"#2a3f5f\"},\"type\":\"carpet\"}],\"table\":[{\"cells\":{\"fill\":{\"color\":\"#EBF0F8\"},\"line\":{\"color\":\"white\"}},\"header\":{\"fill\":{\"color\":\"#C8D4E3\"},\"line\":{\"color\":\"white\"}},\"type\":\"table\"}],\"barpolar\":[{\"marker\":{\"line\":{\"color\":\"#E5ECF6\",\"width\":0.5},\"pattern\":{\"fillmode\":\"overlay\",\"size\":10,\"solidity\":0.2}},\"type\":\"barpolar\"}],\"pie\":[{\"automargin\":true,\"type\":\"pie\"}]},\"layout\":{\"autotypenumbers\":\"strict\",\"colorway\":[\"#636efa\",\"#EF553B\",\"#00cc96\",\"#ab63fa\",\"#FFA15A\",\"#19d3f3\",\"#FF6692\",\"#B6E880\",\"#FF97FF\",\"#FECB52\"],\"font\":{\"color\":\"#2a3f5f\"},\"hovermode\":\"closest\",\"hoverlabel\":{\"align\":\"left\"},\"paper_bgcolor\":\"white\",\"plot_bgcolor\":\"#E5ECF6\",\"polar\":{\"bgcolor\":\"#E5ECF6\",\"angularaxis\":{\"gridcolor\":\"white\",\"linecolor\":\"white\",\"ticks\":\"\"},\"radialaxis\":{\"gridcolor\":\"white\",\"linecolor\":\"white\",\"ticks\":\"\"}},\"ternary\":{\"bgcolor\":\"#E5ECF6\",\"aaxis\":{\"gridcolor\":\"white\",\"linecolor\":\"white\",\"ticks\":\"\"},\"baxis\":{\"gridcolor\":\"white\",\"linecolor\":\"white\",\"ticks\":\"\"},\"caxis\":{\"gridcolor\":\"white\",\"linecolor\":\"white\",\"ticks\":\"\"}},\"coloraxis\":{\"colorbar\":{\"outlinewidth\":0,\"ticks\":\"\"}},\"colorscale\":{\"sequential\":[[0.0,\"#0d0887\"],[0.1111111111111111,\"#46039f\"],[0.2222222222222222,\"#7201a8\"],[0.3333333333333333,\"#9c179e\"],[0.4444444444444444,\"#bd3786\"],[0.5555555555555556,\"#d8576b\"],[0.6666666666666666,\"#ed7953\"],[0.7777777777777778,\"#fb9f3a\"],[0.8888888888888888,\"#fdca26\"],[1.0,\"#f0f921\"]],\"sequentialminus\":[[0.0,\"#0d0887\"],[0.1111111111111111,\"#46039f\"],[0.2222222222222222,\"#7201a8\"],[0.3333333333333333,\"#9c179e\"],[0.4444444444444444,\"#bd3786\"],[0.5555555555555556,\"#d8576b\"],[0.6666666666666666,\"#ed7953\"],[0.7777777777777778,\"#fb9f3a\"],[0.8888888888888888,\"#fdca26\"],[1.0,\"#f0f921\"]],\"diverging\":[[0,\"#8e0152\"],[0.1,\"#c51b7d\"],[0.2,\"#de77ae\"],[0.3,\"#f1b6da\"],[0.4,\"#fde0ef\"],[0.5,\"#f7f7f7\"],[0.6,\"#e6f5d0\"],[0.7,\"#b8e186\"],[0.8,\"#7fbc41\"],[0.9,\"#4d9221\"],[1,\"#276419\"]]},\"xaxis\":{\"gridcolor\":\"white\",\"linecolor\":\"white\",\"ticks\":\"\",\"title\":{\"standoff\":15},\"zerolinecolor\":\"white\",\"automargin\":true,\"zerolinewidth\":2},\"yaxis\":{\"gridcolor\":\"white\",\"linecolor\":\"white\",\"ticks\":\"\",\"title\":{\"standoff\":15},\"zerolinecolor\":\"white\",\"automargin\":true,\"zerolinewidth\":2},\"scene\":{\"xaxis\":{\"backgroundcolor\":\"#E5ECF6\",\"gridcolor\":\"white\",\"linecolor\":\"white\",\"showbackground\":true,\"ticks\":\"\",\"zerolinecolor\":\"white\",\"gridwidth\":2},\"yaxis\":{\"backgroundcolor\":\"#E5ECF6\",\"gridcolor\":\"white\",\"linecolor\":\"white\",\"showbackground\":true,\"ticks\":\"\",\"zerolinecolor\":\"white\",\"gridwidth\":2},\"zaxis\":{\"backgroundcolor\":\"#E5ECF6\",\"gridcolor\":\"white\",\"linecolor\":\"white\",\"showbackground\":true,\"ticks\":\"\",\"zerolinecolor\":\"white\",\"gridwidth\":2}},\"shapedefaults\":{\"line\":{\"color\":\"#2a3f5f\"}},\"annotationdefaults\":{\"arrowcolor\":\"#2a3f5f\",\"arrowhead\":0,\"arrowwidth\":1},\"geo\":{\"bgcolor\":\"white\",\"landcolor\":\"#E5ECF6\",\"subunitcolor\":\"white\",\"showland\":true,\"showlakes\":true,\"lakecolor\":\"white\"},\"title\":{\"x\":0.05},\"mapbox\":{\"style\":\"light\"}}}},                        {\"responsive\": true}                    ).then(function(){\n",
       "                            \n",
       "var gd = document.getElementById('5e961c40-1141-45e8-8fa8-aa8347a5ef5a');\n",
       "var x = new MutationObserver(function (mutations, observer) {{\n",
       "        var display = window.getComputedStyle(gd).display;\n",
       "        if (!display || display === 'none') {{\n",
       "            console.log([gd, 'removed!']);\n",
       "            Plotly.purge(gd);\n",
       "            observer.disconnect();\n",
       "        }}\n",
       "}});\n",
       "\n",
       "// Listen for the removal of the full notebook cells\n",
       "var notebookContainer = gd.closest('#notebook-container');\n",
       "if (notebookContainer) {{\n",
       "    x.observe(notebookContainer, {childList: true});\n",
       "}}\n",
       "\n",
       "// Listen for the clearing of the current output cell\n",
       "var outputEl = gd.closest('.output');\n",
       "if (outputEl) {{\n",
       "    x.observe(outputEl, {childList: true});\n",
       "}}\n",
       "\n",
       "                        })                };                });            </script>        </div>"
      ]
     },
     "metadata": {},
     "output_type": "display_data"
    },
    {
     "data": {
      "application/vnd.plotly.v1+json": {
       "data": [
        {
         "cliponaxis": false,
         "hovertemplate": [
          "backbone (CategoricalDistribution): 0.05160653008828991<extra></extra>",
          "coreset_sampling_ratio (FloatDistribution): 0.21163778371986225<extra></extra>",
          "num_neighbors (IntDistribution): 0.7367556861918478<extra></extra>"
         ],
         "name": "Objective Value",
         "orientation": "h",
         "text": [
          "0.05",
          "0.21",
          "0.74"
         ],
         "textposition": "outside",
         "x": [
          0.05160653008828991,
          0.21163778371986225,
          0.7367556861918478
         ],
         "y": [
          "backbone",
          "coreset_sampling_ratio",
          "num_neighbors"
         ],
         "type": "bar"
        }
       ],
       "layout": {
        "title": {
         "text": "Hyperparameter Importances"
        },
        "xaxis": {
         "title": {
          "text": "Hyperparameter Importance"
         }
        },
        "yaxis": {
         "title": {
          "text": "Hyperparameter"
         }
        },
        "template": {
         "data": {
          "histogram2dcontour": [
           {
            "type": "histogram2dcontour",
            "colorbar": {
             "outlinewidth": 0,
             "ticks": ""
            },
            "colorscale": [
             [
              0.0,
              "#0d0887"
             ],
             [
              0.1111111111111111,
              "#46039f"
             ],
             [
              0.2222222222222222,
              "#7201a8"
             ],
             [
              0.3333333333333333,
              "#9c179e"
             ],
             [
              0.4444444444444444,
              "#bd3786"
             ],
             [
              0.5555555555555556,
              "#d8576b"
             ],
             [
              0.6666666666666666,
              "#ed7953"
             ],
             [
              0.7777777777777778,
              "#fb9f3a"
             ],
             [
              0.8888888888888888,
              "#fdca26"
             ],
             [
              1.0,
              "#f0f921"
             ]
            ]
           }
          ],
          "choropleth": [
           {
            "type": "choropleth",
            "colorbar": {
             "outlinewidth": 0,
             "ticks": ""
            }
           }
          ],
          "histogram2d": [
           {
            "type": "histogram2d",
            "colorbar": {
             "outlinewidth": 0,
             "ticks": ""
            },
            "colorscale": [
             [
              0.0,
              "#0d0887"
             ],
             [
              0.1111111111111111,
              "#46039f"
             ],
             [
              0.2222222222222222,
              "#7201a8"
             ],
             [
              0.3333333333333333,
              "#9c179e"
             ],
             [
              0.4444444444444444,
              "#bd3786"
             ],
             [
              0.5555555555555556,
              "#d8576b"
             ],
             [
              0.6666666666666666,
              "#ed7953"
             ],
             [
              0.7777777777777778,
              "#fb9f3a"
             ],
             [
              0.8888888888888888,
              "#fdca26"
             ],
             [
              1.0,
              "#f0f921"
             ]
            ]
           }
          ],
          "heatmap": [
           {
            "type": "heatmap",
            "colorbar": {
             "outlinewidth": 0,
             "ticks": ""
            },
            "colorscale": [
             [
              0.0,
              "#0d0887"
             ],
             [
              0.1111111111111111,
              "#46039f"
             ],
             [
              0.2222222222222222,
              "#7201a8"
             ],
             [
              0.3333333333333333,
              "#9c179e"
             ],
             [
              0.4444444444444444,
              "#bd3786"
             ],
             [
              0.5555555555555556,
              "#d8576b"
             ],
             [
              0.6666666666666666,
              "#ed7953"
             ],
             [
              0.7777777777777778,
              "#fb9f3a"
             ],
             [
              0.8888888888888888,
              "#fdca26"
             ],
             [
              1.0,
              "#f0f921"
             ]
            ]
           }
          ],
          "heatmapgl": [
           {
            "type": "heatmapgl",
            "colorbar": {
             "outlinewidth": 0,
             "ticks": ""
            },
            "colorscale": [
             [
              0.0,
              "#0d0887"
             ],
             [
              0.1111111111111111,
              "#46039f"
             ],
             [
              0.2222222222222222,
              "#7201a8"
             ],
             [
              0.3333333333333333,
              "#9c179e"
             ],
             [
              0.4444444444444444,
              "#bd3786"
             ],
             [
              0.5555555555555556,
              "#d8576b"
             ],
             [
              0.6666666666666666,
              "#ed7953"
             ],
             [
              0.7777777777777778,
              "#fb9f3a"
             ],
             [
              0.8888888888888888,
              "#fdca26"
             ],
             [
              1.0,
              "#f0f921"
             ]
            ]
           }
          ],
          "contourcarpet": [
           {
            "type": "contourcarpet",
            "colorbar": {
             "outlinewidth": 0,
             "ticks": ""
            }
           }
          ],
          "contour": [
           {
            "type": "contour",
            "colorbar": {
             "outlinewidth": 0,
             "ticks": ""
            },
            "colorscale": [
             [
              0.0,
              "#0d0887"
             ],
             [
              0.1111111111111111,
              "#46039f"
             ],
             [
              0.2222222222222222,
              "#7201a8"
             ],
             [
              0.3333333333333333,
              "#9c179e"
             ],
             [
              0.4444444444444444,
              "#bd3786"
             ],
             [
              0.5555555555555556,
              "#d8576b"
             ],
             [
              0.6666666666666666,
              "#ed7953"
             ],
             [
              0.7777777777777778,
              "#fb9f3a"
             ],
             [
              0.8888888888888888,
              "#fdca26"
             ],
             [
              1.0,
              "#f0f921"
             ]
            ]
           }
          ],
          "surface": [
           {
            "type": "surface",
            "colorbar": {
             "outlinewidth": 0,
             "ticks": ""
            },
            "colorscale": [
             [
              0.0,
              "#0d0887"
             ],
             [
              0.1111111111111111,
              "#46039f"
             ],
             [
              0.2222222222222222,
              "#7201a8"
             ],
             [
              0.3333333333333333,
              "#9c179e"
             ],
             [
              0.4444444444444444,
              "#bd3786"
             ],
             [
              0.5555555555555556,
              "#d8576b"
             ],
             [
              0.6666666666666666,
              "#ed7953"
             ],
             [
              0.7777777777777778,
              "#fb9f3a"
             ],
             [
              0.8888888888888888,
              "#fdca26"
             ],
             [
              1.0,
              "#f0f921"
             ]
            ]
           }
          ],
          "mesh3d": [
           {
            "type": "mesh3d",
            "colorbar": {
             "outlinewidth": 0,
             "ticks": ""
            }
           }
          ],
          "scatter": [
           {
            "fillpattern": {
             "fillmode": "overlay",
             "size": 10,
             "solidity": 0.2
            },
            "type": "scatter"
           }
          ],
          "parcoords": [
           {
            "type": "parcoords",
            "line": {
             "colorbar": {
              "outlinewidth": 0,
              "ticks": ""
             }
            }
           }
          ],
          "scatterpolargl": [
           {
            "type": "scatterpolargl",
            "marker": {
             "colorbar": {
              "outlinewidth": 0,
              "ticks": ""
             }
            }
           }
          ],
          "bar": [
           {
            "error_x": {
             "color": "#2a3f5f"
            },
            "error_y": {
             "color": "#2a3f5f"
            },
            "marker": {
             "line": {
              "color": "#E5ECF6",
              "width": 0.5
             },
             "pattern": {
              "fillmode": "overlay",
              "size": 10,
              "solidity": 0.2
             }
            },
            "type": "bar"
           }
          ],
          "scattergeo": [
           {
            "type": "scattergeo",
            "marker": {
             "colorbar": {
              "outlinewidth": 0,
              "ticks": ""
             }
            }
           }
          ],
          "scatterpolar": [
           {
            "type": "scatterpolar",
            "marker": {
             "colorbar": {
              "outlinewidth": 0,
              "ticks": ""
             }
            }
           }
          ],
          "histogram": [
           {
            "marker": {
             "pattern": {
              "fillmode": "overlay",
              "size": 10,
              "solidity": 0.2
             }
            },
            "type": "histogram"
           }
          ],
          "scattergl": [
           {
            "type": "scattergl",
            "marker": {
             "colorbar": {
              "outlinewidth": 0,
              "ticks": ""
             }
            }
           }
          ],
          "scatter3d": [
           {
            "type": "scatter3d",
            "line": {
             "colorbar": {
              "outlinewidth": 0,
              "ticks": ""
             }
            },
            "marker": {
             "colorbar": {
              "outlinewidth": 0,
              "ticks": ""
             }
            }
           }
          ],
          "scattermapbox": [
           {
            "type": "scattermapbox",
            "marker": {
             "colorbar": {
              "outlinewidth": 0,
              "ticks": ""
             }
            }
           }
          ],
          "scatterternary": [
           {
            "type": "scatterternary",
            "marker": {
             "colorbar": {
              "outlinewidth": 0,
              "ticks": ""
             }
            }
           }
          ],
          "scattercarpet": [
           {
            "type": "scattercarpet",
            "marker": {
             "colorbar": {
              "outlinewidth": 0,
              "ticks": ""
             }
            }
           }
          ],
          "carpet": [
           {
            "aaxis": {
             "endlinecolor": "#2a3f5f",
             "gridcolor": "white",
             "linecolor": "white",
             "minorgridcolor": "white",
             "startlinecolor": "#2a3f5f"
            },
            "baxis": {
             "endlinecolor": "#2a3f5f",
             "gridcolor": "white",
             "linecolor": "white",
             "minorgridcolor": "white",
             "startlinecolor": "#2a3f5f"
            },
            "type": "carpet"
           }
          ],
          "table": [
           {
            "cells": {
             "fill": {
              "color": "#EBF0F8"
             },
             "line": {
              "color": "white"
             }
            },
            "header": {
             "fill": {
              "color": "#C8D4E3"
             },
             "line": {
              "color": "white"
             }
            },
            "type": "table"
           }
          ],
          "barpolar": [
           {
            "marker": {
             "line": {
              "color": "#E5ECF6",
              "width": 0.5
             },
             "pattern": {
              "fillmode": "overlay",
              "size": 10,
              "solidity": 0.2
             }
            },
            "type": "barpolar"
           }
          ],
          "pie": [
           {
            "automargin": true,
            "type": "pie"
           }
          ]
         },
         "layout": {
          "autotypenumbers": "strict",
          "colorway": [
           "#636efa",
           "#EF553B",
           "#00cc96",
           "#ab63fa",
           "#FFA15A",
           "#19d3f3",
           "#FF6692",
           "#B6E880",
           "#FF97FF",
           "#FECB52"
          ],
          "font": {
           "color": "#2a3f5f"
          },
          "hovermode": "closest",
          "hoverlabel": {
           "align": "left"
          },
          "paper_bgcolor": "white",
          "plot_bgcolor": "#E5ECF6",
          "polar": {
           "bgcolor": "#E5ECF6",
           "angularaxis": {
            "gridcolor": "white",
            "linecolor": "white",
            "ticks": ""
           },
           "radialaxis": {
            "gridcolor": "white",
            "linecolor": "white",
            "ticks": ""
           }
          },
          "ternary": {
           "bgcolor": "#E5ECF6",
           "aaxis": {
            "gridcolor": "white",
            "linecolor": "white",
            "ticks": ""
           },
           "baxis": {
            "gridcolor": "white",
            "linecolor": "white",
            "ticks": ""
           },
           "caxis": {
            "gridcolor": "white",
            "linecolor": "white",
            "ticks": ""
           }
          },
          "coloraxis": {
           "colorbar": {
            "outlinewidth": 0,
            "ticks": ""
           }
          },
          "colorscale": {
           "sequential": [
            [
             0.0,
             "#0d0887"
            ],
            [
             0.1111111111111111,
             "#46039f"
            ],
            [
             0.2222222222222222,
             "#7201a8"
            ],
            [
             0.3333333333333333,
             "#9c179e"
            ],
            [
             0.4444444444444444,
             "#bd3786"
            ],
            [
             0.5555555555555556,
             "#d8576b"
            ],
            [
             0.6666666666666666,
             "#ed7953"
            ],
            [
             0.7777777777777778,
             "#fb9f3a"
            ],
            [
             0.8888888888888888,
             "#fdca26"
            ],
            [
             1.0,
             "#f0f921"
            ]
           ],
           "sequentialminus": [
            [
             0.0,
             "#0d0887"
            ],
            [
             0.1111111111111111,
             "#46039f"
            ],
            [
             0.2222222222222222,
             "#7201a8"
            ],
            [
             0.3333333333333333,
             "#9c179e"
            ],
            [
             0.4444444444444444,
             "#bd3786"
            ],
            [
             0.5555555555555556,
             "#d8576b"
            ],
            [
             0.6666666666666666,
             "#ed7953"
            ],
            [
             0.7777777777777778,
             "#fb9f3a"
            ],
            [
             0.8888888888888888,
             "#fdca26"
            ],
            [
             1.0,
             "#f0f921"
            ]
           ],
           "diverging": [
            [
             0,
             "#8e0152"
            ],
            [
             0.1,
             "#c51b7d"
            ],
            [
             0.2,
             "#de77ae"
            ],
            [
             0.3,
             "#f1b6da"
            ],
            [
             0.4,
             "#fde0ef"
            ],
            [
             0.5,
             "#f7f7f7"
            ],
            [
             0.6,
             "#e6f5d0"
            ],
            [
             0.7,
             "#b8e186"
            ],
            [
             0.8,
             "#7fbc41"
            ],
            [
             0.9,
             "#4d9221"
            ],
            [
             1,
             "#276419"
            ]
           ]
          },
          "xaxis": {
           "gridcolor": "white",
           "linecolor": "white",
           "ticks": "",
           "title": {
            "standoff": 15
           },
           "zerolinecolor": "white",
           "automargin": true,
           "zerolinewidth": 2
          },
          "yaxis": {
           "gridcolor": "white",
           "linecolor": "white",
           "ticks": "",
           "title": {
            "standoff": 15
           },
           "zerolinecolor": "white",
           "automargin": true,
           "zerolinewidth": 2
          },
          "scene": {
           "xaxis": {
            "backgroundcolor": "#E5ECF6",
            "gridcolor": "white",
            "linecolor": "white",
            "showbackground": true,
            "ticks": "",
            "zerolinecolor": "white",
            "gridwidth": 2
           },
           "yaxis": {
            "backgroundcolor": "#E5ECF6",
            "gridcolor": "white",
            "linecolor": "white",
            "showbackground": true,
            "ticks": "",
            "zerolinecolor": "white",
            "gridwidth": 2
           },
           "zaxis": {
            "backgroundcolor": "#E5ECF6",
            "gridcolor": "white",
            "linecolor": "white",
            "showbackground": true,
            "ticks": "",
            "zerolinecolor": "white",
            "gridwidth": 2
           }
          },
          "shapedefaults": {
           "line": {
            "color": "#2a3f5f"
           }
          },
          "annotationdefaults": {
           "arrowcolor": "#2a3f5f",
           "arrowhead": 0,
           "arrowwidth": 1
          },
          "geo": {
           "bgcolor": "white",
           "landcolor": "#E5ECF6",
           "subunitcolor": "white",
           "showland": true,
           "showlakes": true,
           "lakecolor": "white"
          },
          "title": {
           "x": 0.05
          },
          "mapbox": {
           "style": "light"
          }
         }
        }
       },
       "config": {
        "plotlyServerURL": "https://plot.ly"
       }
      },
      "text/html": [
       "<div>                            <div id=\"253b8600-be88-4d11-a72a-56d0068ac27e\" class=\"plotly-graph-div\" style=\"height:525px; width:100%;\"></div>            <script type=\"text/javascript\">                require([\"plotly\"], function(Plotly) {                    window.PLOTLYENV=window.PLOTLYENV || {};                                    if (document.getElementById(\"253b8600-be88-4d11-a72a-56d0068ac27e\")) {                    Plotly.newPlot(                        \"253b8600-be88-4d11-a72a-56d0068ac27e\",                        [{\"cliponaxis\":false,\"hovertemplate\":[\"backbone (CategoricalDistribution): 0.05160653008828991\\u003cextra\\u003e\\u003c\\u002fextra\\u003e\",\"coreset_sampling_ratio (FloatDistribution): 0.21163778371986225\\u003cextra\\u003e\\u003c\\u002fextra\\u003e\",\"num_neighbors (IntDistribution): 0.7367556861918478\\u003cextra\\u003e\\u003c\\u002fextra\\u003e\"],\"name\":\"Objective Value\",\"orientation\":\"h\",\"text\":[\"0.05\",\"0.21\",\"0.74\"],\"textposition\":\"outside\",\"x\":[0.05160653008828991,0.21163778371986225,0.7367556861918478],\"y\":[\"backbone\",\"coreset_sampling_ratio\",\"num_neighbors\"],\"type\":\"bar\"}],                        {\"title\":{\"text\":\"Hyperparameter Importances\"},\"xaxis\":{\"title\":{\"text\":\"Hyperparameter Importance\"}},\"yaxis\":{\"title\":{\"text\":\"Hyperparameter\"}},\"template\":{\"data\":{\"histogram2dcontour\":[{\"type\":\"histogram2dcontour\",\"colorbar\":{\"outlinewidth\":0,\"ticks\":\"\"},\"colorscale\":[[0.0,\"#0d0887\"],[0.1111111111111111,\"#46039f\"],[0.2222222222222222,\"#7201a8\"],[0.3333333333333333,\"#9c179e\"],[0.4444444444444444,\"#bd3786\"],[0.5555555555555556,\"#d8576b\"],[0.6666666666666666,\"#ed7953\"],[0.7777777777777778,\"#fb9f3a\"],[0.8888888888888888,\"#fdca26\"],[1.0,\"#f0f921\"]]}],\"choropleth\":[{\"type\":\"choropleth\",\"colorbar\":{\"outlinewidth\":0,\"ticks\":\"\"}}],\"histogram2d\":[{\"type\":\"histogram2d\",\"colorbar\":{\"outlinewidth\":0,\"ticks\":\"\"},\"colorscale\":[[0.0,\"#0d0887\"],[0.1111111111111111,\"#46039f\"],[0.2222222222222222,\"#7201a8\"],[0.3333333333333333,\"#9c179e\"],[0.4444444444444444,\"#bd3786\"],[0.5555555555555556,\"#d8576b\"],[0.6666666666666666,\"#ed7953\"],[0.7777777777777778,\"#fb9f3a\"],[0.8888888888888888,\"#fdca26\"],[1.0,\"#f0f921\"]]}],\"heatmap\":[{\"type\":\"heatmap\",\"colorbar\":{\"outlinewidth\":0,\"ticks\":\"\"},\"colorscale\":[[0.0,\"#0d0887\"],[0.1111111111111111,\"#46039f\"],[0.2222222222222222,\"#7201a8\"],[0.3333333333333333,\"#9c179e\"],[0.4444444444444444,\"#bd3786\"],[0.5555555555555556,\"#d8576b\"],[0.6666666666666666,\"#ed7953\"],[0.7777777777777778,\"#fb9f3a\"],[0.8888888888888888,\"#fdca26\"],[1.0,\"#f0f921\"]]}],\"heatmapgl\":[{\"type\":\"heatmapgl\",\"colorbar\":{\"outlinewidth\":0,\"ticks\":\"\"},\"colorscale\":[[0.0,\"#0d0887\"],[0.1111111111111111,\"#46039f\"],[0.2222222222222222,\"#7201a8\"],[0.3333333333333333,\"#9c179e\"],[0.4444444444444444,\"#bd3786\"],[0.5555555555555556,\"#d8576b\"],[0.6666666666666666,\"#ed7953\"],[0.7777777777777778,\"#fb9f3a\"],[0.8888888888888888,\"#fdca26\"],[1.0,\"#f0f921\"]]}],\"contourcarpet\":[{\"type\":\"contourcarpet\",\"colorbar\":{\"outlinewidth\":0,\"ticks\":\"\"}}],\"contour\":[{\"type\":\"contour\",\"colorbar\":{\"outlinewidth\":0,\"ticks\":\"\"},\"colorscale\":[[0.0,\"#0d0887\"],[0.1111111111111111,\"#46039f\"],[0.2222222222222222,\"#7201a8\"],[0.3333333333333333,\"#9c179e\"],[0.4444444444444444,\"#bd3786\"],[0.5555555555555556,\"#d8576b\"],[0.6666666666666666,\"#ed7953\"],[0.7777777777777778,\"#fb9f3a\"],[0.8888888888888888,\"#fdca26\"],[1.0,\"#f0f921\"]]}],\"surface\":[{\"type\":\"surface\",\"colorbar\":{\"outlinewidth\":0,\"ticks\":\"\"},\"colorscale\":[[0.0,\"#0d0887\"],[0.1111111111111111,\"#46039f\"],[0.2222222222222222,\"#7201a8\"],[0.3333333333333333,\"#9c179e\"],[0.4444444444444444,\"#bd3786\"],[0.5555555555555556,\"#d8576b\"],[0.6666666666666666,\"#ed7953\"],[0.7777777777777778,\"#fb9f3a\"],[0.8888888888888888,\"#fdca26\"],[1.0,\"#f0f921\"]]}],\"mesh3d\":[{\"type\":\"mesh3d\",\"colorbar\":{\"outlinewidth\":0,\"ticks\":\"\"}}],\"scatter\":[{\"fillpattern\":{\"fillmode\":\"overlay\",\"size\":10,\"solidity\":0.2},\"type\":\"scatter\"}],\"parcoords\":[{\"type\":\"parcoords\",\"line\":{\"colorbar\":{\"outlinewidth\":0,\"ticks\":\"\"}}}],\"scatterpolargl\":[{\"type\":\"scatterpolargl\",\"marker\":{\"colorbar\":{\"outlinewidth\":0,\"ticks\":\"\"}}}],\"bar\":[{\"error_x\":{\"color\":\"#2a3f5f\"},\"error_y\":{\"color\":\"#2a3f5f\"},\"marker\":{\"line\":{\"color\":\"#E5ECF6\",\"width\":0.5},\"pattern\":{\"fillmode\":\"overlay\",\"size\":10,\"solidity\":0.2}},\"type\":\"bar\"}],\"scattergeo\":[{\"type\":\"scattergeo\",\"marker\":{\"colorbar\":{\"outlinewidth\":0,\"ticks\":\"\"}}}],\"scatterpolar\":[{\"type\":\"scatterpolar\",\"marker\":{\"colorbar\":{\"outlinewidth\":0,\"ticks\":\"\"}}}],\"histogram\":[{\"marker\":{\"pattern\":{\"fillmode\":\"overlay\",\"size\":10,\"solidity\":0.2}},\"type\":\"histogram\"}],\"scattergl\":[{\"type\":\"scattergl\",\"marker\":{\"colorbar\":{\"outlinewidth\":0,\"ticks\":\"\"}}}],\"scatter3d\":[{\"type\":\"scatter3d\",\"line\":{\"colorbar\":{\"outlinewidth\":0,\"ticks\":\"\"}},\"marker\":{\"colorbar\":{\"outlinewidth\":0,\"ticks\":\"\"}}}],\"scattermapbox\":[{\"type\":\"scattermapbox\",\"marker\":{\"colorbar\":{\"outlinewidth\":0,\"ticks\":\"\"}}}],\"scatterternary\":[{\"type\":\"scatterternary\",\"marker\":{\"colorbar\":{\"outlinewidth\":0,\"ticks\":\"\"}}}],\"scattercarpet\":[{\"type\":\"scattercarpet\",\"marker\":{\"colorbar\":{\"outlinewidth\":0,\"ticks\":\"\"}}}],\"carpet\":[{\"aaxis\":{\"endlinecolor\":\"#2a3f5f\",\"gridcolor\":\"white\",\"linecolor\":\"white\",\"minorgridcolor\":\"white\",\"startlinecolor\":\"#2a3f5f\"},\"baxis\":{\"endlinecolor\":\"#2a3f5f\",\"gridcolor\":\"white\",\"linecolor\":\"white\",\"minorgridcolor\":\"white\",\"startlinecolor\":\"#2a3f5f\"},\"type\":\"carpet\"}],\"table\":[{\"cells\":{\"fill\":{\"color\":\"#EBF0F8\"},\"line\":{\"color\":\"white\"}},\"header\":{\"fill\":{\"color\":\"#C8D4E3\"},\"line\":{\"color\":\"white\"}},\"type\":\"table\"}],\"barpolar\":[{\"marker\":{\"line\":{\"color\":\"#E5ECF6\",\"width\":0.5},\"pattern\":{\"fillmode\":\"overlay\",\"size\":10,\"solidity\":0.2}},\"type\":\"barpolar\"}],\"pie\":[{\"automargin\":true,\"type\":\"pie\"}]},\"layout\":{\"autotypenumbers\":\"strict\",\"colorway\":[\"#636efa\",\"#EF553B\",\"#00cc96\",\"#ab63fa\",\"#FFA15A\",\"#19d3f3\",\"#FF6692\",\"#B6E880\",\"#FF97FF\",\"#FECB52\"],\"font\":{\"color\":\"#2a3f5f\"},\"hovermode\":\"closest\",\"hoverlabel\":{\"align\":\"left\"},\"paper_bgcolor\":\"white\",\"plot_bgcolor\":\"#E5ECF6\",\"polar\":{\"bgcolor\":\"#E5ECF6\",\"angularaxis\":{\"gridcolor\":\"white\",\"linecolor\":\"white\",\"ticks\":\"\"},\"radialaxis\":{\"gridcolor\":\"white\",\"linecolor\":\"white\",\"ticks\":\"\"}},\"ternary\":{\"bgcolor\":\"#E5ECF6\",\"aaxis\":{\"gridcolor\":\"white\",\"linecolor\":\"white\",\"ticks\":\"\"},\"baxis\":{\"gridcolor\":\"white\",\"linecolor\":\"white\",\"ticks\":\"\"},\"caxis\":{\"gridcolor\":\"white\",\"linecolor\":\"white\",\"ticks\":\"\"}},\"coloraxis\":{\"colorbar\":{\"outlinewidth\":0,\"ticks\":\"\"}},\"colorscale\":{\"sequential\":[[0.0,\"#0d0887\"],[0.1111111111111111,\"#46039f\"],[0.2222222222222222,\"#7201a8\"],[0.3333333333333333,\"#9c179e\"],[0.4444444444444444,\"#bd3786\"],[0.5555555555555556,\"#d8576b\"],[0.6666666666666666,\"#ed7953\"],[0.7777777777777778,\"#fb9f3a\"],[0.8888888888888888,\"#fdca26\"],[1.0,\"#f0f921\"]],\"sequentialminus\":[[0.0,\"#0d0887\"],[0.1111111111111111,\"#46039f\"],[0.2222222222222222,\"#7201a8\"],[0.3333333333333333,\"#9c179e\"],[0.4444444444444444,\"#bd3786\"],[0.5555555555555556,\"#d8576b\"],[0.6666666666666666,\"#ed7953\"],[0.7777777777777778,\"#fb9f3a\"],[0.8888888888888888,\"#fdca26\"],[1.0,\"#f0f921\"]],\"diverging\":[[0,\"#8e0152\"],[0.1,\"#c51b7d\"],[0.2,\"#de77ae\"],[0.3,\"#f1b6da\"],[0.4,\"#fde0ef\"],[0.5,\"#f7f7f7\"],[0.6,\"#e6f5d0\"],[0.7,\"#b8e186\"],[0.8,\"#7fbc41\"],[0.9,\"#4d9221\"],[1,\"#276419\"]]},\"xaxis\":{\"gridcolor\":\"white\",\"linecolor\":\"white\",\"ticks\":\"\",\"title\":{\"standoff\":15},\"zerolinecolor\":\"white\",\"automargin\":true,\"zerolinewidth\":2},\"yaxis\":{\"gridcolor\":\"white\",\"linecolor\":\"white\",\"ticks\":\"\",\"title\":{\"standoff\":15},\"zerolinecolor\":\"white\",\"automargin\":true,\"zerolinewidth\":2},\"scene\":{\"xaxis\":{\"backgroundcolor\":\"#E5ECF6\",\"gridcolor\":\"white\",\"linecolor\":\"white\",\"showbackground\":true,\"ticks\":\"\",\"zerolinecolor\":\"white\",\"gridwidth\":2},\"yaxis\":{\"backgroundcolor\":\"#E5ECF6\",\"gridcolor\":\"white\",\"linecolor\":\"white\",\"showbackground\":true,\"ticks\":\"\",\"zerolinecolor\":\"white\",\"gridwidth\":2},\"zaxis\":{\"backgroundcolor\":\"#E5ECF6\",\"gridcolor\":\"white\",\"linecolor\":\"white\",\"showbackground\":true,\"ticks\":\"\",\"zerolinecolor\":\"white\",\"gridwidth\":2}},\"shapedefaults\":{\"line\":{\"color\":\"#2a3f5f\"}},\"annotationdefaults\":{\"arrowcolor\":\"#2a3f5f\",\"arrowhead\":0,\"arrowwidth\":1},\"geo\":{\"bgcolor\":\"white\",\"landcolor\":\"#E5ECF6\",\"subunitcolor\":\"white\",\"showland\":true,\"showlakes\":true,\"lakecolor\":\"white\"},\"title\":{\"x\":0.05},\"mapbox\":{\"style\":\"light\"}}}},                        {\"responsive\": true}                    ).then(function(){\n",
       "                            \n",
       "var gd = document.getElementById('253b8600-be88-4d11-a72a-56d0068ac27e');\n",
       "var x = new MutationObserver(function (mutations, observer) {{\n",
       "        var display = window.getComputedStyle(gd).display;\n",
       "        if (!display || display === 'none') {{\n",
       "            console.log([gd, 'removed!']);\n",
       "            Plotly.purge(gd);\n",
       "            observer.disconnect();\n",
       "        }}\n",
       "}});\n",
       "\n",
       "// Listen for the removal of the full notebook cells\n",
       "var notebookContainer = gd.closest('#notebook-container');\n",
       "if (notebookContainer) {{\n",
       "    x.observe(notebookContainer, {childList: true});\n",
       "}}\n",
       "\n",
       "// Listen for the clearing of the current output cell\n",
       "var outputEl = gd.closest('.output');\n",
       "if (outputEl) {{\n",
       "    x.observe(outputEl, {childList: true});\n",
       "}}\n",
       "\n",
       "                        })                };                });            </script>        </div>"
      ]
     },
     "metadata": {},
     "output_type": "display_data"
    }
   ],
   "execution_count": 4
  }
 ],
 "metadata": {
  "kernelspec": {
   "display_name": "Python 3",
   "language": "python",
   "name": "python3"
  },
  "language_info": {
   "codemirror_mode": {
    "name": "ipython",
    "version": 2
   },
   "file_extension": ".py",
   "mimetype": "text/x-python",
   "name": "python",
   "nbconvert_exporter": "python",
   "pygments_lexer": "ipython2",
   "version": "2.7.6"
  }
 },
 "nbformat": 4,
 "nbformat_minor": 5
}
